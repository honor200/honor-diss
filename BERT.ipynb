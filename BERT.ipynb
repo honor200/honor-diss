{
  "nbformat": 4,
  "nbformat_minor": 0,
  "metadata": {
    "colab": {
      "provenance": [],
      "gpuType": "T4",
      "authorship_tag": "ABX9TyPAxyinBX+RWKHldRHD55Nt",
      "include_colab_link": true
    },
    "kernelspec": {
      "name": "python3",
      "display_name": "Python 3"
    },
    "language_info": {
      "name": "python"
    },
    "accelerator": "GPU",
    "widgets": {
      "application/vnd.jupyter.widget-state+json": {
        "b5ebf5d3aa81449db94dbb8a66278f27": {
          "model_module": "@jupyter-widgets/controls",
          "model_name": "HBoxModel",
          "model_module_version": "1.5.0",
          "state": {
            "_dom_classes": [],
            "_model_module": "@jupyter-widgets/controls",
            "_model_module_version": "1.5.0",
            "_model_name": "HBoxModel",
            "_view_count": null,
            "_view_module": "@jupyter-widgets/controls",
            "_view_module_version": "1.5.0",
            "_view_name": "HBoxView",
            "box_style": "",
            "children": [
              "IPY_MODEL_25d3e3565cf74c928c1ec02af96dcf7b",
              "IPY_MODEL_7655e5fc92bd48e9b35ba6a73e4804b9",
              "IPY_MODEL_a4ec1ae951c248cda8076e79c909f262"
            ],
            "layout": "IPY_MODEL_737177d1dfc84c319f033e957eba7619"
          }
        },
        "25d3e3565cf74c928c1ec02af96dcf7b": {
          "model_module": "@jupyter-widgets/controls",
          "model_name": "HTMLModel",
          "model_module_version": "1.5.0",
          "state": {
            "_dom_classes": [],
            "_model_module": "@jupyter-widgets/controls",
            "_model_module_version": "1.5.0",
            "_model_name": "HTMLModel",
            "_view_count": null,
            "_view_module": "@jupyter-widgets/controls",
            "_view_module_version": "1.5.0",
            "_view_name": "HTMLView",
            "description": "",
            "description_tooltip": null,
            "layout": "IPY_MODEL_b742f75fb0bc44598faba68099d67040",
            "placeholder": "​",
            "style": "IPY_MODEL_1b46ed45146b4f55aaec1751bcafbfae",
            "value": "Downloading (…)solve/main/vocab.txt: 100%"
          }
        },
        "7655e5fc92bd48e9b35ba6a73e4804b9": {
          "model_module": "@jupyter-widgets/controls",
          "model_name": "FloatProgressModel",
          "model_module_version": "1.5.0",
          "state": {
            "_dom_classes": [],
            "_model_module": "@jupyter-widgets/controls",
            "_model_module_version": "1.5.0",
            "_model_name": "FloatProgressModel",
            "_view_count": null,
            "_view_module": "@jupyter-widgets/controls",
            "_view_module_version": "1.5.0",
            "_view_name": "ProgressView",
            "bar_style": "success",
            "description": "",
            "description_tooltip": null,
            "layout": "IPY_MODEL_859d132f0eb24e3e84c979048c4b616e",
            "max": 231508,
            "min": 0,
            "orientation": "horizontal",
            "style": "IPY_MODEL_34b2ed605359456484d8e21f7a098a77",
            "value": 231508
          }
        },
        "a4ec1ae951c248cda8076e79c909f262": {
          "model_module": "@jupyter-widgets/controls",
          "model_name": "HTMLModel",
          "model_module_version": "1.5.0",
          "state": {
            "_dom_classes": [],
            "_model_module": "@jupyter-widgets/controls",
            "_model_module_version": "1.5.0",
            "_model_name": "HTMLModel",
            "_view_count": null,
            "_view_module": "@jupyter-widgets/controls",
            "_view_module_version": "1.5.0",
            "_view_name": "HTMLView",
            "description": "",
            "description_tooltip": null,
            "layout": "IPY_MODEL_a5b0783b83ac490cb771b2872841d8b9",
            "placeholder": "​",
            "style": "IPY_MODEL_0c560cec305a4130b83d29d37e98a11c",
            "value": " 232k/232k [00:00&lt;00:00, 1.08MB/s]"
          }
        },
        "737177d1dfc84c319f033e957eba7619": {
          "model_module": "@jupyter-widgets/base",
          "model_name": "LayoutModel",
          "model_module_version": "1.2.0",
          "state": {
            "_model_module": "@jupyter-widgets/base",
            "_model_module_version": "1.2.0",
            "_model_name": "LayoutModel",
            "_view_count": null,
            "_view_module": "@jupyter-widgets/base",
            "_view_module_version": "1.2.0",
            "_view_name": "LayoutView",
            "align_content": null,
            "align_items": null,
            "align_self": null,
            "border": null,
            "bottom": null,
            "display": null,
            "flex": null,
            "flex_flow": null,
            "grid_area": null,
            "grid_auto_columns": null,
            "grid_auto_flow": null,
            "grid_auto_rows": null,
            "grid_column": null,
            "grid_gap": null,
            "grid_row": null,
            "grid_template_areas": null,
            "grid_template_columns": null,
            "grid_template_rows": null,
            "height": null,
            "justify_content": null,
            "justify_items": null,
            "left": null,
            "margin": null,
            "max_height": null,
            "max_width": null,
            "min_height": null,
            "min_width": null,
            "object_fit": null,
            "object_position": null,
            "order": null,
            "overflow": null,
            "overflow_x": null,
            "overflow_y": null,
            "padding": null,
            "right": null,
            "top": null,
            "visibility": null,
            "width": null
          }
        },
        "b742f75fb0bc44598faba68099d67040": {
          "model_module": "@jupyter-widgets/base",
          "model_name": "LayoutModel",
          "model_module_version": "1.2.0",
          "state": {
            "_model_module": "@jupyter-widgets/base",
            "_model_module_version": "1.2.0",
            "_model_name": "LayoutModel",
            "_view_count": null,
            "_view_module": "@jupyter-widgets/base",
            "_view_module_version": "1.2.0",
            "_view_name": "LayoutView",
            "align_content": null,
            "align_items": null,
            "align_self": null,
            "border": null,
            "bottom": null,
            "display": null,
            "flex": null,
            "flex_flow": null,
            "grid_area": null,
            "grid_auto_columns": null,
            "grid_auto_flow": null,
            "grid_auto_rows": null,
            "grid_column": null,
            "grid_gap": null,
            "grid_row": null,
            "grid_template_areas": null,
            "grid_template_columns": null,
            "grid_template_rows": null,
            "height": null,
            "justify_content": null,
            "justify_items": null,
            "left": null,
            "margin": null,
            "max_height": null,
            "max_width": null,
            "min_height": null,
            "min_width": null,
            "object_fit": null,
            "object_position": null,
            "order": null,
            "overflow": null,
            "overflow_x": null,
            "overflow_y": null,
            "padding": null,
            "right": null,
            "top": null,
            "visibility": null,
            "width": null
          }
        },
        "1b46ed45146b4f55aaec1751bcafbfae": {
          "model_module": "@jupyter-widgets/controls",
          "model_name": "DescriptionStyleModel",
          "model_module_version": "1.5.0",
          "state": {
            "_model_module": "@jupyter-widgets/controls",
            "_model_module_version": "1.5.0",
            "_model_name": "DescriptionStyleModel",
            "_view_count": null,
            "_view_module": "@jupyter-widgets/base",
            "_view_module_version": "1.2.0",
            "_view_name": "StyleView",
            "description_width": ""
          }
        },
        "859d132f0eb24e3e84c979048c4b616e": {
          "model_module": "@jupyter-widgets/base",
          "model_name": "LayoutModel",
          "model_module_version": "1.2.0",
          "state": {
            "_model_module": "@jupyter-widgets/base",
            "_model_module_version": "1.2.0",
            "_model_name": "LayoutModel",
            "_view_count": null,
            "_view_module": "@jupyter-widgets/base",
            "_view_module_version": "1.2.0",
            "_view_name": "LayoutView",
            "align_content": null,
            "align_items": null,
            "align_self": null,
            "border": null,
            "bottom": null,
            "display": null,
            "flex": null,
            "flex_flow": null,
            "grid_area": null,
            "grid_auto_columns": null,
            "grid_auto_flow": null,
            "grid_auto_rows": null,
            "grid_column": null,
            "grid_gap": null,
            "grid_row": null,
            "grid_template_areas": null,
            "grid_template_columns": null,
            "grid_template_rows": null,
            "height": null,
            "justify_content": null,
            "justify_items": null,
            "left": null,
            "margin": null,
            "max_height": null,
            "max_width": null,
            "min_height": null,
            "min_width": null,
            "object_fit": null,
            "object_position": null,
            "order": null,
            "overflow": null,
            "overflow_x": null,
            "overflow_y": null,
            "padding": null,
            "right": null,
            "top": null,
            "visibility": null,
            "width": null
          }
        },
        "34b2ed605359456484d8e21f7a098a77": {
          "model_module": "@jupyter-widgets/controls",
          "model_name": "ProgressStyleModel",
          "model_module_version": "1.5.0",
          "state": {
            "_model_module": "@jupyter-widgets/controls",
            "_model_module_version": "1.5.0",
            "_model_name": "ProgressStyleModel",
            "_view_count": null,
            "_view_module": "@jupyter-widgets/base",
            "_view_module_version": "1.2.0",
            "_view_name": "StyleView",
            "bar_color": null,
            "description_width": ""
          }
        },
        "a5b0783b83ac490cb771b2872841d8b9": {
          "model_module": "@jupyter-widgets/base",
          "model_name": "LayoutModel",
          "model_module_version": "1.2.0",
          "state": {
            "_model_module": "@jupyter-widgets/base",
            "_model_module_version": "1.2.0",
            "_model_name": "LayoutModel",
            "_view_count": null,
            "_view_module": "@jupyter-widgets/base",
            "_view_module_version": "1.2.0",
            "_view_name": "LayoutView",
            "align_content": null,
            "align_items": null,
            "align_self": null,
            "border": null,
            "bottom": null,
            "display": null,
            "flex": null,
            "flex_flow": null,
            "grid_area": null,
            "grid_auto_columns": null,
            "grid_auto_flow": null,
            "grid_auto_rows": null,
            "grid_column": null,
            "grid_gap": null,
            "grid_row": null,
            "grid_template_areas": null,
            "grid_template_columns": null,
            "grid_template_rows": null,
            "height": null,
            "justify_content": null,
            "justify_items": null,
            "left": null,
            "margin": null,
            "max_height": null,
            "max_width": null,
            "min_height": null,
            "min_width": null,
            "object_fit": null,
            "object_position": null,
            "order": null,
            "overflow": null,
            "overflow_x": null,
            "overflow_y": null,
            "padding": null,
            "right": null,
            "top": null,
            "visibility": null,
            "width": null
          }
        },
        "0c560cec305a4130b83d29d37e98a11c": {
          "model_module": "@jupyter-widgets/controls",
          "model_name": "DescriptionStyleModel",
          "model_module_version": "1.5.0",
          "state": {
            "_model_module": "@jupyter-widgets/controls",
            "_model_module_version": "1.5.0",
            "_model_name": "DescriptionStyleModel",
            "_view_count": null,
            "_view_module": "@jupyter-widgets/base",
            "_view_module_version": "1.2.0",
            "_view_name": "StyleView",
            "description_width": ""
          }
        },
        "6c700431ca214576a0ad4585258995a9": {
          "model_module": "@jupyter-widgets/controls",
          "model_name": "HBoxModel",
          "model_module_version": "1.5.0",
          "state": {
            "_dom_classes": [],
            "_model_module": "@jupyter-widgets/controls",
            "_model_module_version": "1.5.0",
            "_model_name": "HBoxModel",
            "_view_count": null,
            "_view_module": "@jupyter-widgets/controls",
            "_view_module_version": "1.5.0",
            "_view_name": "HBoxView",
            "box_style": "",
            "children": [
              "IPY_MODEL_a579c2b7145e421e83261e4a0a7be7c8",
              "IPY_MODEL_47c442ba29044bd0b614eb70570c6f14",
              "IPY_MODEL_7ca957335fe740fa8e2241a781433a50"
            ],
            "layout": "IPY_MODEL_4af39e1f0d7744ca9bc00891f0374e78"
          }
        },
        "a579c2b7145e421e83261e4a0a7be7c8": {
          "model_module": "@jupyter-widgets/controls",
          "model_name": "HTMLModel",
          "model_module_version": "1.5.0",
          "state": {
            "_dom_classes": [],
            "_model_module": "@jupyter-widgets/controls",
            "_model_module_version": "1.5.0",
            "_model_name": "HTMLModel",
            "_view_count": null,
            "_view_module": "@jupyter-widgets/controls",
            "_view_module_version": "1.5.0",
            "_view_name": "HTMLView",
            "description": "",
            "description_tooltip": null,
            "layout": "IPY_MODEL_a503c26133be44428a776a7908be1147",
            "placeholder": "​",
            "style": "IPY_MODEL_079154d26f48448384cc5bd2e47284bb",
            "value": "Downloading (…)okenizer_config.json: 100%"
          }
        },
        "47c442ba29044bd0b614eb70570c6f14": {
          "model_module": "@jupyter-widgets/controls",
          "model_name": "FloatProgressModel",
          "model_module_version": "1.5.0",
          "state": {
            "_dom_classes": [],
            "_model_module": "@jupyter-widgets/controls",
            "_model_module_version": "1.5.0",
            "_model_name": "FloatProgressModel",
            "_view_count": null,
            "_view_module": "@jupyter-widgets/controls",
            "_view_module_version": "1.5.0",
            "_view_name": "ProgressView",
            "bar_style": "success",
            "description": "",
            "description_tooltip": null,
            "layout": "IPY_MODEL_7983586cb24242ca9d4404cce1ec200d",
            "max": 28,
            "min": 0,
            "orientation": "horizontal",
            "style": "IPY_MODEL_7a1f02c90e9f4caaa7d6b5caecb373a1",
            "value": 28
          }
        },
        "7ca957335fe740fa8e2241a781433a50": {
          "model_module": "@jupyter-widgets/controls",
          "model_name": "HTMLModel",
          "model_module_version": "1.5.0",
          "state": {
            "_dom_classes": [],
            "_model_module": "@jupyter-widgets/controls",
            "_model_module_version": "1.5.0",
            "_model_name": "HTMLModel",
            "_view_count": null,
            "_view_module": "@jupyter-widgets/controls",
            "_view_module_version": "1.5.0",
            "_view_name": "HTMLView",
            "description": "",
            "description_tooltip": null,
            "layout": "IPY_MODEL_18299b5d8b434c45add155cdc01eb64a",
            "placeholder": "​",
            "style": "IPY_MODEL_89d9e2be4075483b9608b08684090819",
            "value": " 28.0/28.0 [00:00&lt;00:00, 1.19kB/s]"
          }
        },
        "4af39e1f0d7744ca9bc00891f0374e78": {
          "model_module": "@jupyter-widgets/base",
          "model_name": "LayoutModel",
          "model_module_version": "1.2.0",
          "state": {
            "_model_module": "@jupyter-widgets/base",
            "_model_module_version": "1.2.0",
            "_model_name": "LayoutModel",
            "_view_count": null,
            "_view_module": "@jupyter-widgets/base",
            "_view_module_version": "1.2.0",
            "_view_name": "LayoutView",
            "align_content": null,
            "align_items": null,
            "align_self": null,
            "border": null,
            "bottom": null,
            "display": null,
            "flex": null,
            "flex_flow": null,
            "grid_area": null,
            "grid_auto_columns": null,
            "grid_auto_flow": null,
            "grid_auto_rows": null,
            "grid_column": null,
            "grid_gap": null,
            "grid_row": null,
            "grid_template_areas": null,
            "grid_template_columns": null,
            "grid_template_rows": null,
            "height": null,
            "justify_content": null,
            "justify_items": null,
            "left": null,
            "margin": null,
            "max_height": null,
            "max_width": null,
            "min_height": null,
            "min_width": null,
            "object_fit": null,
            "object_position": null,
            "order": null,
            "overflow": null,
            "overflow_x": null,
            "overflow_y": null,
            "padding": null,
            "right": null,
            "top": null,
            "visibility": null,
            "width": null
          }
        },
        "a503c26133be44428a776a7908be1147": {
          "model_module": "@jupyter-widgets/base",
          "model_name": "LayoutModel",
          "model_module_version": "1.2.0",
          "state": {
            "_model_module": "@jupyter-widgets/base",
            "_model_module_version": "1.2.0",
            "_model_name": "LayoutModel",
            "_view_count": null,
            "_view_module": "@jupyter-widgets/base",
            "_view_module_version": "1.2.0",
            "_view_name": "LayoutView",
            "align_content": null,
            "align_items": null,
            "align_self": null,
            "border": null,
            "bottom": null,
            "display": null,
            "flex": null,
            "flex_flow": null,
            "grid_area": null,
            "grid_auto_columns": null,
            "grid_auto_flow": null,
            "grid_auto_rows": null,
            "grid_column": null,
            "grid_gap": null,
            "grid_row": null,
            "grid_template_areas": null,
            "grid_template_columns": null,
            "grid_template_rows": null,
            "height": null,
            "justify_content": null,
            "justify_items": null,
            "left": null,
            "margin": null,
            "max_height": null,
            "max_width": null,
            "min_height": null,
            "min_width": null,
            "object_fit": null,
            "object_position": null,
            "order": null,
            "overflow": null,
            "overflow_x": null,
            "overflow_y": null,
            "padding": null,
            "right": null,
            "top": null,
            "visibility": null,
            "width": null
          }
        },
        "079154d26f48448384cc5bd2e47284bb": {
          "model_module": "@jupyter-widgets/controls",
          "model_name": "DescriptionStyleModel",
          "model_module_version": "1.5.0",
          "state": {
            "_model_module": "@jupyter-widgets/controls",
            "_model_module_version": "1.5.0",
            "_model_name": "DescriptionStyleModel",
            "_view_count": null,
            "_view_module": "@jupyter-widgets/base",
            "_view_module_version": "1.2.0",
            "_view_name": "StyleView",
            "description_width": ""
          }
        },
        "7983586cb24242ca9d4404cce1ec200d": {
          "model_module": "@jupyter-widgets/base",
          "model_name": "LayoutModel",
          "model_module_version": "1.2.0",
          "state": {
            "_model_module": "@jupyter-widgets/base",
            "_model_module_version": "1.2.0",
            "_model_name": "LayoutModel",
            "_view_count": null,
            "_view_module": "@jupyter-widgets/base",
            "_view_module_version": "1.2.0",
            "_view_name": "LayoutView",
            "align_content": null,
            "align_items": null,
            "align_self": null,
            "border": null,
            "bottom": null,
            "display": null,
            "flex": null,
            "flex_flow": null,
            "grid_area": null,
            "grid_auto_columns": null,
            "grid_auto_flow": null,
            "grid_auto_rows": null,
            "grid_column": null,
            "grid_gap": null,
            "grid_row": null,
            "grid_template_areas": null,
            "grid_template_columns": null,
            "grid_template_rows": null,
            "height": null,
            "justify_content": null,
            "justify_items": null,
            "left": null,
            "margin": null,
            "max_height": null,
            "max_width": null,
            "min_height": null,
            "min_width": null,
            "object_fit": null,
            "object_position": null,
            "order": null,
            "overflow": null,
            "overflow_x": null,
            "overflow_y": null,
            "padding": null,
            "right": null,
            "top": null,
            "visibility": null,
            "width": null
          }
        },
        "7a1f02c90e9f4caaa7d6b5caecb373a1": {
          "model_module": "@jupyter-widgets/controls",
          "model_name": "ProgressStyleModel",
          "model_module_version": "1.5.0",
          "state": {
            "_model_module": "@jupyter-widgets/controls",
            "_model_module_version": "1.5.0",
            "_model_name": "ProgressStyleModel",
            "_view_count": null,
            "_view_module": "@jupyter-widgets/base",
            "_view_module_version": "1.2.0",
            "_view_name": "StyleView",
            "bar_color": null,
            "description_width": ""
          }
        },
        "18299b5d8b434c45add155cdc01eb64a": {
          "model_module": "@jupyter-widgets/base",
          "model_name": "LayoutModel",
          "model_module_version": "1.2.0",
          "state": {
            "_model_module": "@jupyter-widgets/base",
            "_model_module_version": "1.2.0",
            "_model_name": "LayoutModel",
            "_view_count": null,
            "_view_module": "@jupyter-widgets/base",
            "_view_module_version": "1.2.0",
            "_view_name": "LayoutView",
            "align_content": null,
            "align_items": null,
            "align_self": null,
            "border": null,
            "bottom": null,
            "display": null,
            "flex": null,
            "flex_flow": null,
            "grid_area": null,
            "grid_auto_columns": null,
            "grid_auto_flow": null,
            "grid_auto_rows": null,
            "grid_column": null,
            "grid_gap": null,
            "grid_row": null,
            "grid_template_areas": null,
            "grid_template_columns": null,
            "grid_template_rows": null,
            "height": null,
            "justify_content": null,
            "justify_items": null,
            "left": null,
            "margin": null,
            "max_height": null,
            "max_width": null,
            "min_height": null,
            "min_width": null,
            "object_fit": null,
            "object_position": null,
            "order": null,
            "overflow": null,
            "overflow_x": null,
            "overflow_y": null,
            "padding": null,
            "right": null,
            "top": null,
            "visibility": null,
            "width": null
          }
        },
        "89d9e2be4075483b9608b08684090819": {
          "model_module": "@jupyter-widgets/controls",
          "model_name": "DescriptionStyleModel",
          "model_module_version": "1.5.0",
          "state": {
            "_model_module": "@jupyter-widgets/controls",
            "_model_module_version": "1.5.0",
            "_model_name": "DescriptionStyleModel",
            "_view_count": null,
            "_view_module": "@jupyter-widgets/base",
            "_view_module_version": "1.2.0",
            "_view_name": "StyleView",
            "description_width": ""
          }
        },
        "2800a800c4d84d84ba5ef6f847af5fc6": {
          "model_module": "@jupyter-widgets/controls",
          "model_name": "HBoxModel",
          "model_module_version": "1.5.0",
          "state": {
            "_dom_classes": [],
            "_model_module": "@jupyter-widgets/controls",
            "_model_module_version": "1.5.0",
            "_model_name": "HBoxModel",
            "_view_count": null,
            "_view_module": "@jupyter-widgets/controls",
            "_view_module_version": "1.5.0",
            "_view_name": "HBoxView",
            "box_style": "",
            "children": [
              "IPY_MODEL_ada8f6a15fc24645b845ec4a6d45505f",
              "IPY_MODEL_b7128d651aba48eb989c04862990ce63",
              "IPY_MODEL_fb02f4aebf7e40bb8c72e2a918274e16"
            ],
            "layout": "IPY_MODEL_c1b794f7cd0f47918adeda6300765f06"
          }
        },
        "ada8f6a15fc24645b845ec4a6d45505f": {
          "model_module": "@jupyter-widgets/controls",
          "model_name": "HTMLModel",
          "model_module_version": "1.5.0",
          "state": {
            "_dom_classes": [],
            "_model_module": "@jupyter-widgets/controls",
            "_model_module_version": "1.5.0",
            "_model_name": "HTMLModel",
            "_view_count": null,
            "_view_module": "@jupyter-widgets/controls",
            "_view_module_version": "1.5.0",
            "_view_name": "HTMLView",
            "description": "",
            "description_tooltip": null,
            "layout": "IPY_MODEL_ce676697294e419ebc6b7ba1eb9365e0",
            "placeholder": "​",
            "style": "IPY_MODEL_7cece146768e4801a3030869391d5029",
            "value": "Downloading (…)lve/main/config.json: 100%"
          }
        },
        "b7128d651aba48eb989c04862990ce63": {
          "model_module": "@jupyter-widgets/controls",
          "model_name": "FloatProgressModel",
          "model_module_version": "1.5.0",
          "state": {
            "_dom_classes": [],
            "_model_module": "@jupyter-widgets/controls",
            "_model_module_version": "1.5.0",
            "_model_name": "FloatProgressModel",
            "_view_count": null,
            "_view_module": "@jupyter-widgets/controls",
            "_view_module_version": "1.5.0",
            "_view_name": "ProgressView",
            "bar_style": "success",
            "description": "",
            "description_tooltip": null,
            "layout": "IPY_MODEL_752a5e449a0241d3aaee8a3ad786a532",
            "max": 483,
            "min": 0,
            "orientation": "horizontal",
            "style": "IPY_MODEL_e10878a8c2bc4f79ba6334a2780a6355",
            "value": 483
          }
        },
        "fb02f4aebf7e40bb8c72e2a918274e16": {
          "model_module": "@jupyter-widgets/controls",
          "model_name": "HTMLModel",
          "model_module_version": "1.5.0",
          "state": {
            "_dom_classes": [],
            "_model_module": "@jupyter-widgets/controls",
            "_model_module_version": "1.5.0",
            "_model_name": "HTMLModel",
            "_view_count": null,
            "_view_module": "@jupyter-widgets/controls",
            "_view_module_version": "1.5.0",
            "_view_name": "HTMLView",
            "description": "",
            "description_tooltip": null,
            "layout": "IPY_MODEL_0a642bdadba14d88bfef69fa9edf6e86",
            "placeholder": "​",
            "style": "IPY_MODEL_e74756f55d4a459d966993b4d71208b8",
            "value": " 483/483 [00:00&lt;00:00, 8.88kB/s]"
          }
        },
        "c1b794f7cd0f47918adeda6300765f06": {
          "model_module": "@jupyter-widgets/base",
          "model_name": "LayoutModel",
          "model_module_version": "1.2.0",
          "state": {
            "_model_module": "@jupyter-widgets/base",
            "_model_module_version": "1.2.0",
            "_model_name": "LayoutModel",
            "_view_count": null,
            "_view_module": "@jupyter-widgets/base",
            "_view_module_version": "1.2.0",
            "_view_name": "LayoutView",
            "align_content": null,
            "align_items": null,
            "align_self": null,
            "border": null,
            "bottom": null,
            "display": null,
            "flex": null,
            "flex_flow": null,
            "grid_area": null,
            "grid_auto_columns": null,
            "grid_auto_flow": null,
            "grid_auto_rows": null,
            "grid_column": null,
            "grid_gap": null,
            "grid_row": null,
            "grid_template_areas": null,
            "grid_template_columns": null,
            "grid_template_rows": null,
            "height": null,
            "justify_content": null,
            "justify_items": null,
            "left": null,
            "margin": null,
            "max_height": null,
            "max_width": null,
            "min_height": null,
            "min_width": null,
            "object_fit": null,
            "object_position": null,
            "order": null,
            "overflow": null,
            "overflow_x": null,
            "overflow_y": null,
            "padding": null,
            "right": null,
            "top": null,
            "visibility": null,
            "width": null
          }
        },
        "ce676697294e419ebc6b7ba1eb9365e0": {
          "model_module": "@jupyter-widgets/base",
          "model_name": "LayoutModel",
          "model_module_version": "1.2.0",
          "state": {
            "_model_module": "@jupyter-widgets/base",
            "_model_module_version": "1.2.0",
            "_model_name": "LayoutModel",
            "_view_count": null,
            "_view_module": "@jupyter-widgets/base",
            "_view_module_version": "1.2.0",
            "_view_name": "LayoutView",
            "align_content": null,
            "align_items": null,
            "align_self": null,
            "border": null,
            "bottom": null,
            "display": null,
            "flex": null,
            "flex_flow": null,
            "grid_area": null,
            "grid_auto_columns": null,
            "grid_auto_flow": null,
            "grid_auto_rows": null,
            "grid_column": null,
            "grid_gap": null,
            "grid_row": null,
            "grid_template_areas": null,
            "grid_template_columns": null,
            "grid_template_rows": null,
            "height": null,
            "justify_content": null,
            "justify_items": null,
            "left": null,
            "margin": null,
            "max_height": null,
            "max_width": null,
            "min_height": null,
            "min_width": null,
            "object_fit": null,
            "object_position": null,
            "order": null,
            "overflow": null,
            "overflow_x": null,
            "overflow_y": null,
            "padding": null,
            "right": null,
            "top": null,
            "visibility": null,
            "width": null
          }
        },
        "7cece146768e4801a3030869391d5029": {
          "model_module": "@jupyter-widgets/controls",
          "model_name": "DescriptionStyleModel",
          "model_module_version": "1.5.0",
          "state": {
            "_model_module": "@jupyter-widgets/controls",
            "_model_module_version": "1.5.0",
            "_model_name": "DescriptionStyleModel",
            "_view_count": null,
            "_view_module": "@jupyter-widgets/base",
            "_view_module_version": "1.2.0",
            "_view_name": "StyleView",
            "description_width": ""
          }
        },
        "752a5e449a0241d3aaee8a3ad786a532": {
          "model_module": "@jupyter-widgets/base",
          "model_name": "LayoutModel",
          "model_module_version": "1.2.0",
          "state": {
            "_model_module": "@jupyter-widgets/base",
            "_model_module_version": "1.2.0",
            "_model_name": "LayoutModel",
            "_view_count": null,
            "_view_module": "@jupyter-widgets/base",
            "_view_module_version": "1.2.0",
            "_view_name": "LayoutView",
            "align_content": null,
            "align_items": null,
            "align_self": null,
            "border": null,
            "bottom": null,
            "display": null,
            "flex": null,
            "flex_flow": null,
            "grid_area": null,
            "grid_auto_columns": null,
            "grid_auto_flow": null,
            "grid_auto_rows": null,
            "grid_column": null,
            "grid_gap": null,
            "grid_row": null,
            "grid_template_areas": null,
            "grid_template_columns": null,
            "grid_template_rows": null,
            "height": null,
            "justify_content": null,
            "justify_items": null,
            "left": null,
            "margin": null,
            "max_height": null,
            "max_width": null,
            "min_height": null,
            "min_width": null,
            "object_fit": null,
            "object_position": null,
            "order": null,
            "overflow": null,
            "overflow_x": null,
            "overflow_y": null,
            "padding": null,
            "right": null,
            "top": null,
            "visibility": null,
            "width": null
          }
        },
        "e10878a8c2bc4f79ba6334a2780a6355": {
          "model_module": "@jupyter-widgets/controls",
          "model_name": "ProgressStyleModel",
          "model_module_version": "1.5.0",
          "state": {
            "_model_module": "@jupyter-widgets/controls",
            "_model_module_version": "1.5.0",
            "_model_name": "ProgressStyleModel",
            "_view_count": null,
            "_view_module": "@jupyter-widgets/base",
            "_view_module_version": "1.2.0",
            "_view_name": "StyleView",
            "bar_color": null,
            "description_width": ""
          }
        },
        "0a642bdadba14d88bfef69fa9edf6e86": {
          "model_module": "@jupyter-widgets/base",
          "model_name": "LayoutModel",
          "model_module_version": "1.2.0",
          "state": {
            "_model_module": "@jupyter-widgets/base",
            "_model_module_version": "1.2.0",
            "_model_name": "LayoutModel",
            "_view_count": null,
            "_view_module": "@jupyter-widgets/base",
            "_view_module_version": "1.2.0",
            "_view_name": "LayoutView",
            "align_content": null,
            "align_items": null,
            "align_self": null,
            "border": null,
            "bottom": null,
            "display": null,
            "flex": null,
            "flex_flow": null,
            "grid_area": null,
            "grid_auto_columns": null,
            "grid_auto_flow": null,
            "grid_auto_rows": null,
            "grid_column": null,
            "grid_gap": null,
            "grid_row": null,
            "grid_template_areas": null,
            "grid_template_columns": null,
            "grid_template_rows": null,
            "height": null,
            "justify_content": null,
            "justify_items": null,
            "left": null,
            "margin": null,
            "max_height": null,
            "max_width": null,
            "min_height": null,
            "min_width": null,
            "object_fit": null,
            "object_position": null,
            "order": null,
            "overflow": null,
            "overflow_x": null,
            "overflow_y": null,
            "padding": null,
            "right": null,
            "top": null,
            "visibility": null,
            "width": null
          }
        },
        "e74756f55d4a459d966993b4d71208b8": {
          "model_module": "@jupyter-widgets/controls",
          "model_name": "DescriptionStyleModel",
          "model_module_version": "1.5.0",
          "state": {
            "_model_module": "@jupyter-widgets/controls",
            "_model_module_version": "1.5.0",
            "_model_name": "DescriptionStyleModel",
            "_view_count": null,
            "_view_module": "@jupyter-widgets/base",
            "_view_module_version": "1.2.0",
            "_view_name": "StyleView",
            "description_width": ""
          }
        },
        "44b0c7d0427243118ddca52bf9b1e2f4": {
          "model_module": "@jupyter-widgets/controls",
          "model_name": "HBoxModel",
          "model_module_version": "1.5.0",
          "state": {
            "_dom_classes": [],
            "_model_module": "@jupyter-widgets/controls",
            "_model_module_version": "1.5.0",
            "_model_name": "HBoxModel",
            "_view_count": null,
            "_view_module": "@jupyter-widgets/controls",
            "_view_module_version": "1.5.0",
            "_view_name": "HBoxView",
            "box_style": "",
            "children": [
              "IPY_MODEL_639233977da94936a741aaceadb819db",
              "IPY_MODEL_656f72ba44e349ad95679c43baa854b3",
              "IPY_MODEL_78abecd7f1574c32b60c1e099096f0d1"
            ],
            "layout": "IPY_MODEL_4de14d33344e4f728b17a888733b4b7b"
          }
        },
        "639233977da94936a741aaceadb819db": {
          "model_module": "@jupyter-widgets/controls",
          "model_name": "HTMLModel",
          "model_module_version": "1.5.0",
          "state": {
            "_dom_classes": [],
            "_model_module": "@jupyter-widgets/controls",
            "_model_module_version": "1.5.0",
            "_model_name": "HTMLModel",
            "_view_count": null,
            "_view_module": "@jupyter-widgets/controls",
            "_view_module_version": "1.5.0",
            "_view_name": "HTMLView",
            "description": "",
            "description_tooltip": null,
            "layout": "IPY_MODEL_657ecb3d377b4c6db8085b9716422318",
            "placeholder": "​",
            "style": "IPY_MODEL_9143e394d64142f3a00033050d1fefd1",
            "value": "Downloading model.safetensors: 100%"
          }
        },
        "656f72ba44e349ad95679c43baa854b3": {
          "model_module": "@jupyter-widgets/controls",
          "model_name": "FloatProgressModel",
          "model_module_version": "1.5.0",
          "state": {
            "_dom_classes": [],
            "_model_module": "@jupyter-widgets/controls",
            "_model_module_version": "1.5.0",
            "_model_name": "FloatProgressModel",
            "_view_count": null,
            "_view_module": "@jupyter-widgets/controls",
            "_view_module_version": "1.5.0",
            "_view_name": "ProgressView",
            "bar_style": "success",
            "description": "",
            "description_tooltip": null,
            "layout": "IPY_MODEL_e5bc39a4ab2947d7a0f9cac43587975f",
            "max": 267954768,
            "min": 0,
            "orientation": "horizontal",
            "style": "IPY_MODEL_f7d3575c299f47a88d0e7798e732fec0",
            "value": 267954768
          }
        },
        "78abecd7f1574c32b60c1e099096f0d1": {
          "model_module": "@jupyter-widgets/controls",
          "model_name": "HTMLModel",
          "model_module_version": "1.5.0",
          "state": {
            "_dom_classes": [],
            "_model_module": "@jupyter-widgets/controls",
            "_model_module_version": "1.5.0",
            "_model_name": "HTMLModel",
            "_view_count": null,
            "_view_module": "@jupyter-widgets/controls",
            "_view_module_version": "1.5.0",
            "_view_name": "HTMLView",
            "description": "",
            "description_tooltip": null,
            "layout": "IPY_MODEL_7e75c1b9f709429ba1f6d49f4bc60fef",
            "placeholder": "​",
            "style": "IPY_MODEL_50580bc97217455782c8278e52298c14",
            "value": " 268M/268M [00:00&lt;00:00, 297MB/s]"
          }
        },
        "4de14d33344e4f728b17a888733b4b7b": {
          "model_module": "@jupyter-widgets/base",
          "model_name": "LayoutModel",
          "model_module_version": "1.2.0",
          "state": {
            "_model_module": "@jupyter-widgets/base",
            "_model_module_version": "1.2.0",
            "_model_name": "LayoutModel",
            "_view_count": null,
            "_view_module": "@jupyter-widgets/base",
            "_view_module_version": "1.2.0",
            "_view_name": "LayoutView",
            "align_content": null,
            "align_items": null,
            "align_self": null,
            "border": null,
            "bottom": null,
            "display": null,
            "flex": null,
            "flex_flow": null,
            "grid_area": null,
            "grid_auto_columns": null,
            "grid_auto_flow": null,
            "grid_auto_rows": null,
            "grid_column": null,
            "grid_gap": null,
            "grid_row": null,
            "grid_template_areas": null,
            "grid_template_columns": null,
            "grid_template_rows": null,
            "height": null,
            "justify_content": null,
            "justify_items": null,
            "left": null,
            "margin": null,
            "max_height": null,
            "max_width": null,
            "min_height": null,
            "min_width": null,
            "object_fit": null,
            "object_position": null,
            "order": null,
            "overflow": null,
            "overflow_x": null,
            "overflow_y": null,
            "padding": null,
            "right": null,
            "top": null,
            "visibility": null,
            "width": null
          }
        },
        "657ecb3d377b4c6db8085b9716422318": {
          "model_module": "@jupyter-widgets/base",
          "model_name": "LayoutModel",
          "model_module_version": "1.2.0",
          "state": {
            "_model_module": "@jupyter-widgets/base",
            "_model_module_version": "1.2.0",
            "_model_name": "LayoutModel",
            "_view_count": null,
            "_view_module": "@jupyter-widgets/base",
            "_view_module_version": "1.2.0",
            "_view_name": "LayoutView",
            "align_content": null,
            "align_items": null,
            "align_self": null,
            "border": null,
            "bottom": null,
            "display": null,
            "flex": null,
            "flex_flow": null,
            "grid_area": null,
            "grid_auto_columns": null,
            "grid_auto_flow": null,
            "grid_auto_rows": null,
            "grid_column": null,
            "grid_gap": null,
            "grid_row": null,
            "grid_template_areas": null,
            "grid_template_columns": null,
            "grid_template_rows": null,
            "height": null,
            "justify_content": null,
            "justify_items": null,
            "left": null,
            "margin": null,
            "max_height": null,
            "max_width": null,
            "min_height": null,
            "min_width": null,
            "object_fit": null,
            "object_position": null,
            "order": null,
            "overflow": null,
            "overflow_x": null,
            "overflow_y": null,
            "padding": null,
            "right": null,
            "top": null,
            "visibility": null,
            "width": null
          }
        },
        "9143e394d64142f3a00033050d1fefd1": {
          "model_module": "@jupyter-widgets/controls",
          "model_name": "DescriptionStyleModel",
          "model_module_version": "1.5.0",
          "state": {
            "_model_module": "@jupyter-widgets/controls",
            "_model_module_version": "1.5.0",
            "_model_name": "DescriptionStyleModel",
            "_view_count": null,
            "_view_module": "@jupyter-widgets/base",
            "_view_module_version": "1.2.0",
            "_view_name": "StyleView",
            "description_width": ""
          }
        },
        "e5bc39a4ab2947d7a0f9cac43587975f": {
          "model_module": "@jupyter-widgets/base",
          "model_name": "LayoutModel",
          "model_module_version": "1.2.0",
          "state": {
            "_model_module": "@jupyter-widgets/base",
            "_model_module_version": "1.2.0",
            "_model_name": "LayoutModel",
            "_view_count": null,
            "_view_module": "@jupyter-widgets/base",
            "_view_module_version": "1.2.0",
            "_view_name": "LayoutView",
            "align_content": null,
            "align_items": null,
            "align_self": null,
            "border": null,
            "bottom": null,
            "display": null,
            "flex": null,
            "flex_flow": null,
            "grid_area": null,
            "grid_auto_columns": null,
            "grid_auto_flow": null,
            "grid_auto_rows": null,
            "grid_column": null,
            "grid_gap": null,
            "grid_row": null,
            "grid_template_areas": null,
            "grid_template_columns": null,
            "grid_template_rows": null,
            "height": null,
            "justify_content": null,
            "justify_items": null,
            "left": null,
            "margin": null,
            "max_height": null,
            "max_width": null,
            "min_height": null,
            "min_width": null,
            "object_fit": null,
            "object_position": null,
            "order": null,
            "overflow": null,
            "overflow_x": null,
            "overflow_y": null,
            "padding": null,
            "right": null,
            "top": null,
            "visibility": null,
            "width": null
          }
        },
        "f7d3575c299f47a88d0e7798e732fec0": {
          "model_module": "@jupyter-widgets/controls",
          "model_name": "ProgressStyleModel",
          "model_module_version": "1.5.0",
          "state": {
            "_model_module": "@jupyter-widgets/controls",
            "_model_module_version": "1.5.0",
            "_model_name": "ProgressStyleModel",
            "_view_count": null,
            "_view_module": "@jupyter-widgets/base",
            "_view_module_version": "1.2.0",
            "_view_name": "StyleView",
            "bar_color": null,
            "description_width": ""
          }
        },
        "7e75c1b9f709429ba1f6d49f4bc60fef": {
          "model_module": "@jupyter-widgets/base",
          "model_name": "LayoutModel",
          "model_module_version": "1.2.0",
          "state": {
            "_model_module": "@jupyter-widgets/base",
            "_model_module_version": "1.2.0",
            "_model_name": "LayoutModel",
            "_view_count": null,
            "_view_module": "@jupyter-widgets/base",
            "_view_module_version": "1.2.0",
            "_view_name": "LayoutView",
            "align_content": null,
            "align_items": null,
            "align_self": null,
            "border": null,
            "bottom": null,
            "display": null,
            "flex": null,
            "flex_flow": null,
            "grid_area": null,
            "grid_auto_columns": null,
            "grid_auto_flow": null,
            "grid_auto_rows": null,
            "grid_column": null,
            "grid_gap": null,
            "grid_row": null,
            "grid_template_areas": null,
            "grid_template_columns": null,
            "grid_template_rows": null,
            "height": null,
            "justify_content": null,
            "justify_items": null,
            "left": null,
            "margin": null,
            "max_height": null,
            "max_width": null,
            "min_height": null,
            "min_width": null,
            "object_fit": null,
            "object_position": null,
            "order": null,
            "overflow": null,
            "overflow_x": null,
            "overflow_y": null,
            "padding": null,
            "right": null,
            "top": null,
            "visibility": null,
            "width": null
          }
        },
        "50580bc97217455782c8278e52298c14": {
          "model_module": "@jupyter-widgets/controls",
          "model_name": "DescriptionStyleModel",
          "model_module_version": "1.5.0",
          "state": {
            "_model_module": "@jupyter-widgets/controls",
            "_model_module_version": "1.5.0",
            "_model_name": "DescriptionStyleModel",
            "_view_count": null,
            "_view_module": "@jupyter-widgets/base",
            "_view_module_version": "1.2.0",
            "_view_name": "StyleView",
            "description_width": ""
          }
        }
      }
    }
  },
  "cells": [
    {
      "cell_type": "markdown",
      "metadata": {
        "id": "view-in-github",
        "colab_type": "text"
      },
      "source": [
        "<a href=\"https://colab.research.google.com/github/honor200/honor-diss/blob/main/BERT.ipynb\" target=\"_parent\"><img src=\"https://colab.research.google.com/assets/colab-badge.svg\" alt=\"Open In Colab\"/></a>"
      ]
    },
    {
      "cell_type": "code",
      "execution_count": null,
      "metadata": {
        "colab": {
          "base_uri": "https://localhost:8080/"
        },
        "id": "lxnRmP93zLcg",
        "outputId": "1a0a9163-4d08-4e0d-a130-b26ecdb43226"
      },
      "outputs": [
        {
          "output_type": "stream",
          "name": "stdout",
          "text": [
            "Collecting transformers\n",
            "  Downloading transformers-4.31.0-py3-none-any.whl (7.4 MB)\n",
            "\u001b[2K     \u001b[90m━━━━━━━━━━━━━━━━━━━━━━━━━━━━━━━━━━━━━━━━\u001b[0m \u001b[32m7.4/7.4 MB\u001b[0m \u001b[31m55.0 MB/s\u001b[0m eta \u001b[36m0:00:00\u001b[0m\n",
            "\u001b[?25hRequirement already satisfied: filelock in /usr/local/lib/python3.10/dist-packages (from transformers) (3.12.2)\n",
            "Collecting huggingface-hub<1.0,>=0.14.1 (from transformers)\n",
            "  Downloading huggingface_hub-0.16.4-py3-none-any.whl (268 kB)\n",
            "\u001b[2K     \u001b[90m━━━━━━━━━━━━━━━━━━━━━━━━━━━━━━━━━━━━━━\u001b[0m \u001b[32m268.8/268.8 kB\u001b[0m \u001b[31m30.8 MB/s\u001b[0m eta \u001b[36m0:00:00\u001b[0m\n",
            "\u001b[?25hRequirement already satisfied: numpy>=1.17 in /usr/local/lib/python3.10/dist-packages (from transformers) (1.23.5)\n",
            "Requirement already satisfied: packaging>=20.0 in /usr/local/lib/python3.10/dist-packages (from transformers) (23.1)\n",
            "Requirement already satisfied: pyyaml>=5.1 in /usr/local/lib/python3.10/dist-packages (from transformers) (6.0.1)\n",
            "Requirement already satisfied: regex!=2019.12.17 in /usr/local/lib/python3.10/dist-packages (from transformers) (2022.10.31)\n",
            "Requirement already satisfied: requests in /usr/local/lib/python3.10/dist-packages (from transformers) (2.31.0)\n",
            "Collecting tokenizers!=0.11.3,<0.14,>=0.11.1 (from transformers)\n",
            "  Downloading tokenizers-0.13.3-cp310-cp310-manylinux_2_17_x86_64.manylinux2014_x86_64.whl (7.8 MB)\n",
            "\u001b[2K     \u001b[90m━━━━━━━━━━━━━━━━━━━━━━━━━━━━━━━━━━━━━━━━\u001b[0m \u001b[32m7.8/7.8 MB\u001b[0m \u001b[31m111.0 MB/s\u001b[0m eta \u001b[36m0:00:00\u001b[0m\n",
            "\u001b[?25hCollecting safetensors>=0.3.1 (from transformers)\n",
            "  Downloading safetensors-0.3.2-cp310-cp310-manylinux_2_17_x86_64.manylinux2014_x86_64.whl (1.3 MB)\n",
            "\u001b[2K     \u001b[90m━━━━━━━━━━━━━━━━━━━━━━━━━━━━━━━━━━━━━━━━\u001b[0m \u001b[32m1.3/1.3 MB\u001b[0m \u001b[31m73.9 MB/s\u001b[0m eta \u001b[36m0:00:00\u001b[0m\n",
            "\u001b[?25hRequirement already satisfied: tqdm>=4.27 in /usr/local/lib/python3.10/dist-packages (from transformers) (4.65.0)\n",
            "Requirement already satisfied: fsspec in /usr/local/lib/python3.10/dist-packages (from huggingface-hub<1.0,>=0.14.1->transformers) (2023.6.0)\n",
            "Requirement already satisfied: typing-extensions>=3.7.4.3 in /usr/local/lib/python3.10/dist-packages (from huggingface-hub<1.0,>=0.14.1->transformers) (4.7.1)\n",
            "Requirement already satisfied: charset-normalizer<4,>=2 in /usr/local/lib/python3.10/dist-packages (from requests->transformers) (3.2.0)\n",
            "Requirement already satisfied: idna<4,>=2.5 in /usr/local/lib/python3.10/dist-packages (from requests->transformers) (3.4)\n",
            "Requirement already satisfied: urllib3<3,>=1.21.1 in /usr/local/lib/python3.10/dist-packages (from requests->transformers) (1.26.16)\n",
            "Requirement already satisfied: certifi>=2017.4.17 in /usr/local/lib/python3.10/dist-packages (from requests->transformers) (2023.7.22)\n",
            "Installing collected packages: tokenizers, safetensors, huggingface-hub, transformers\n",
            "Successfully installed huggingface-hub-0.16.4 safetensors-0.3.2 tokenizers-0.13.3 transformers-4.31.0\n"
          ]
        }
      ],
      "source": [
        "!pip install transformers"
      ]
    },
    {
      "cell_type": "code",
      "source": [
        "pip install --upgrade transformers"
      ],
      "metadata": {
        "colab": {
          "base_uri": "https://localhost:8080/"
        },
        "id": "JgAh8PXO3SEf",
        "outputId": "c5c4d550-0be2-4c15-b9c2-a30f6cbd1d68"
      },
      "execution_count": null,
      "outputs": [
        {
          "output_type": "stream",
          "name": "stdout",
          "text": [
            "Requirement already satisfied: transformers in /usr/local/lib/python3.10/dist-packages (4.31.0)\n",
            "Requirement already satisfied: filelock in /usr/local/lib/python3.10/dist-packages (from transformers) (3.12.2)\n",
            "Requirement already satisfied: huggingface-hub<1.0,>=0.14.1 in /usr/local/lib/python3.10/dist-packages (from transformers) (0.16.4)\n",
            "Requirement already satisfied: numpy>=1.17 in /usr/local/lib/python3.10/dist-packages (from transformers) (1.23.5)\n",
            "Requirement already satisfied: packaging>=20.0 in /usr/local/lib/python3.10/dist-packages (from transformers) (23.1)\n",
            "Requirement already satisfied: pyyaml>=5.1 in /usr/local/lib/python3.10/dist-packages (from transformers) (6.0.1)\n",
            "Requirement already satisfied: regex!=2019.12.17 in /usr/local/lib/python3.10/dist-packages (from transformers) (2022.10.31)\n",
            "Requirement already satisfied: requests in /usr/local/lib/python3.10/dist-packages (from transformers) (2.31.0)\n",
            "Requirement already satisfied: tokenizers!=0.11.3,<0.14,>=0.11.1 in /usr/local/lib/python3.10/dist-packages (from transformers) (0.13.3)\n",
            "Requirement already satisfied: safetensors>=0.3.1 in /usr/local/lib/python3.10/dist-packages (from transformers) (0.3.2)\n",
            "Requirement already satisfied: tqdm>=4.27 in /usr/local/lib/python3.10/dist-packages (from transformers) (4.65.0)\n",
            "Requirement already satisfied: fsspec in /usr/local/lib/python3.10/dist-packages (from huggingface-hub<1.0,>=0.14.1->transformers) (2023.6.0)\n",
            "Requirement already satisfied: typing-extensions>=3.7.4.3 in /usr/local/lib/python3.10/dist-packages (from huggingface-hub<1.0,>=0.14.1->transformers) (4.7.1)\n",
            "Requirement already satisfied: charset-normalizer<4,>=2 in /usr/local/lib/python3.10/dist-packages (from requests->transformers) (3.2.0)\n",
            "Requirement already satisfied: idna<4,>=2.5 in /usr/local/lib/python3.10/dist-packages (from requests->transformers) (3.4)\n",
            "Requirement already satisfied: urllib3<3,>=1.21.1 in /usr/local/lib/python3.10/dist-packages (from requests->transformers) (1.26.16)\n",
            "Requirement already satisfied: certifi>=2017.4.17 in /usr/local/lib/python3.10/dist-packages (from requests->transformers) (2023.7.22)\n"
          ]
        }
      ]
    },
    {
      "cell_type": "code",
      "source": [
        "import pandas as pd\n",
        "import string\n",
        "import re\n",
        "import matplotlib.pyplot as plt\n",
        "import sklearn\n",
        "from sklearn.model_selection import train_test_split\n",
        "import numpy as np\n",
        "import nltk\n",
        "from nltk.corpus import stopwords\n",
        "nltk.download('stopwords')\n",
        "\n",
        "import tensorflow as tf"
      ],
      "metadata": {
        "id": "isBT40BhzSs8",
        "colab": {
          "base_uri": "https://localhost:8080/"
        },
        "outputId": "dba67ff7-3163-426c-d924-6463714dc32d"
      },
      "execution_count": null,
      "outputs": [
        {
          "output_type": "stream",
          "name": "stderr",
          "text": [
            "[nltk_data] Downloading package stopwords to /root/nltk_data...\n",
            "[nltk_data]   Unzipping corpora/stopwords.zip.\n"
          ]
        }
      ]
    },
    {
      "cell_type": "code",
      "source": [
        "df = pd.read_csv(\"aft.csv\")\n",
        "df.drop(['provenance','notes','source','data_source','date_obtained'], axis = 1, inplace = True)\n",
        "df.head()"
      ],
      "metadata": {
        "colab": {
          "base_uri": "https://localhost:8080/",
          "height": 206
        },
        "id": "miUnM1sfzVpW",
        "outputId": "1e2a307e-5169-4592-e8a1-095f6c696cf7"
      },
      "execution_count": null,
      "outputs": [
        {
          "output_type": "execute_result",
          "data": {
            "text/plain": [
              "  atu_id                                         tale_title  \\\n",
              "0   910B  The Highlander Takes Three Advices from the En...   \n",
              "1   910B                     The Prince Who Acquired Wisdom   \n",
              "2   910B                              The Three Admonitions   \n",
              "3   910B                                  The Three Advices   \n",
              "4   910B  The Three Advices Which the King with the Red ...   \n",
              "\n",
              "                                                text  \n",
              "0  In one of the glens of Cantire there lived a y...  \n",
              "1  There was once a raja who had an only son and ...  \n",
              "2  A man once left his country to go to foreign p...  \n",
              "3  The stories current among the Irish peasantry ...  \n",
              "4  The name of the young chief was Illan, called ...  "
            ],
            "text/html": [
              "\n",
              "\n",
              "  <div id=\"df-ed60856a-d309-4ebd-aaeb-896a3327d946\">\n",
              "    <div class=\"colab-df-container\">\n",
              "      <div>\n",
              "<style scoped>\n",
              "    .dataframe tbody tr th:only-of-type {\n",
              "        vertical-align: middle;\n",
              "    }\n",
              "\n",
              "    .dataframe tbody tr th {\n",
              "        vertical-align: top;\n",
              "    }\n",
              "\n",
              "    .dataframe thead th {\n",
              "        text-align: right;\n",
              "    }\n",
              "</style>\n",
              "<table border=\"1\" class=\"dataframe\">\n",
              "  <thead>\n",
              "    <tr style=\"text-align: right;\">\n",
              "      <th></th>\n",
              "      <th>atu_id</th>\n",
              "      <th>tale_title</th>\n",
              "      <th>text</th>\n",
              "    </tr>\n",
              "  </thead>\n",
              "  <tbody>\n",
              "    <tr>\n",
              "      <th>0</th>\n",
              "      <td>910B</td>\n",
              "      <td>The Highlander Takes Three Advices from the En...</td>\n",
              "      <td>In one of the glens of Cantire there lived a y...</td>\n",
              "    </tr>\n",
              "    <tr>\n",
              "      <th>1</th>\n",
              "      <td>910B</td>\n",
              "      <td>The Prince Who Acquired Wisdom</td>\n",
              "      <td>There was once a raja who had an only son and ...</td>\n",
              "    </tr>\n",
              "    <tr>\n",
              "      <th>2</th>\n",
              "      <td>910B</td>\n",
              "      <td>The Three Admonitions</td>\n",
              "      <td>A man once left his country to go to foreign p...</td>\n",
              "    </tr>\n",
              "    <tr>\n",
              "      <th>3</th>\n",
              "      <td>910B</td>\n",
              "      <td>The Three Advices</td>\n",
              "      <td>The stories current among the Irish peasantry ...</td>\n",
              "    </tr>\n",
              "    <tr>\n",
              "      <th>4</th>\n",
              "      <td>910B</td>\n",
              "      <td>The Three Advices Which the King with the Red ...</td>\n",
              "      <td>The name of the young chief was Illan, called ...</td>\n",
              "    </tr>\n",
              "  </tbody>\n",
              "</table>\n",
              "</div>\n",
              "      <button class=\"colab-df-convert\" onclick=\"convertToInteractive('df-ed60856a-d309-4ebd-aaeb-896a3327d946')\"\n",
              "              title=\"Convert this dataframe to an interactive table.\"\n",
              "              style=\"display:none;\">\n",
              "\n",
              "  <svg xmlns=\"http://www.w3.org/2000/svg\" height=\"24px\"viewBox=\"0 0 24 24\"\n",
              "       width=\"24px\">\n",
              "    <path d=\"M0 0h24v24H0V0z\" fill=\"none\"/>\n",
              "    <path d=\"M18.56 5.44l.94 2.06.94-2.06 2.06-.94-2.06-.94-.94-2.06-.94 2.06-2.06.94zm-11 1L8.5 8.5l.94-2.06 2.06-.94-2.06-.94L8.5 2.5l-.94 2.06-2.06.94zm10 10l.94 2.06.94-2.06 2.06-.94-2.06-.94-.94-2.06-.94 2.06-2.06.94z\"/><path d=\"M17.41 7.96l-1.37-1.37c-.4-.4-.92-.59-1.43-.59-.52 0-1.04.2-1.43.59L10.3 9.45l-7.72 7.72c-.78.78-.78 2.05 0 2.83L4 21.41c.39.39.9.59 1.41.59.51 0 1.02-.2 1.41-.59l7.78-7.78 2.81-2.81c.8-.78.8-2.07 0-2.86zM5.41 20L4 18.59l7.72-7.72 1.47 1.35L5.41 20z\"/>\n",
              "  </svg>\n",
              "      </button>\n",
              "\n",
              "\n",
              "\n",
              "    <div id=\"df-82bb6808-78a7-4c21-be0c-ad0891e0d260\">\n",
              "      <button class=\"colab-df-quickchart\" onclick=\"quickchart('df-82bb6808-78a7-4c21-be0c-ad0891e0d260')\"\n",
              "              title=\"Suggest charts.\"\n",
              "              style=\"display:none;\">\n",
              "\n",
              "<svg xmlns=\"http://www.w3.org/2000/svg\" height=\"24px\"viewBox=\"0 0 24 24\"\n",
              "     width=\"24px\">\n",
              "    <g>\n",
              "        <path d=\"M19 3H5c-1.1 0-2 .9-2 2v14c0 1.1.9 2 2 2h14c1.1 0 2-.9 2-2V5c0-1.1-.9-2-2-2zM9 17H7v-7h2v7zm4 0h-2V7h2v10zm4 0h-2v-4h2v4z\"/>\n",
              "    </g>\n",
              "</svg>\n",
              "      </button>\n",
              "    </div>\n",
              "\n",
              "<style>\n",
              "  .colab-df-quickchart {\n",
              "    background-color: #E8F0FE;\n",
              "    border: none;\n",
              "    border-radius: 50%;\n",
              "    cursor: pointer;\n",
              "    display: none;\n",
              "    fill: #1967D2;\n",
              "    height: 32px;\n",
              "    padding: 0 0 0 0;\n",
              "    width: 32px;\n",
              "  }\n",
              "\n",
              "  .colab-df-quickchart:hover {\n",
              "    background-color: #E2EBFA;\n",
              "    box-shadow: 0px 1px 2px rgba(60, 64, 67, 0.3), 0px 1px 3px 1px rgba(60, 64, 67, 0.15);\n",
              "    fill: #174EA6;\n",
              "  }\n",
              "\n",
              "  [theme=dark] .colab-df-quickchart {\n",
              "    background-color: #3B4455;\n",
              "    fill: #D2E3FC;\n",
              "  }\n",
              "\n",
              "  [theme=dark] .colab-df-quickchart:hover {\n",
              "    background-color: #434B5C;\n",
              "    box-shadow: 0px 1px 3px 1px rgba(0, 0, 0, 0.15);\n",
              "    filter: drop-shadow(0px 1px 2px rgba(0, 0, 0, 0.3));\n",
              "    fill: #FFFFFF;\n",
              "  }\n",
              "</style>\n",
              "\n",
              "    <script>\n",
              "      async function quickchart(key) {\n",
              "        const containerElement = document.querySelector('#' + key);\n",
              "        const charts = await google.colab.kernel.invokeFunction(\n",
              "            'suggestCharts', [key], {});\n",
              "      }\n",
              "    </script>\n",
              "\n",
              "      <script>\n",
              "\n",
              "function displayQuickchartButton(domScope) {\n",
              "  let quickchartButtonEl =\n",
              "    domScope.querySelector('#df-82bb6808-78a7-4c21-be0c-ad0891e0d260 button.colab-df-quickchart');\n",
              "  quickchartButtonEl.style.display =\n",
              "    google.colab.kernel.accessAllowed ? 'block' : 'none';\n",
              "}\n",
              "\n",
              "        displayQuickchartButton(document);\n",
              "      </script>\n",
              "      <style>\n",
              "    .colab-df-container {\n",
              "      display:flex;\n",
              "      flex-wrap:wrap;\n",
              "      gap: 12px;\n",
              "    }\n",
              "\n",
              "    .colab-df-convert {\n",
              "      background-color: #E8F0FE;\n",
              "      border: none;\n",
              "      border-radius: 50%;\n",
              "      cursor: pointer;\n",
              "      display: none;\n",
              "      fill: #1967D2;\n",
              "      height: 32px;\n",
              "      padding: 0 0 0 0;\n",
              "      width: 32px;\n",
              "    }\n",
              "\n",
              "    .colab-df-convert:hover {\n",
              "      background-color: #E2EBFA;\n",
              "      box-shadow: 0px 1px 2px rgba(60, 64, 67, 0.3), 0px 1px 3px 1px rgba(60, 64, 67, 0.15);\n",
              "      fill: #174EA6;\n",
              "    }\n",
              "\n",
              "    [theme=dark] .colab-df-convert {\n",
              "      background-color: #3B4455;\n",
              "      fill: #D2E3FC;\n",
              "    }\n",
              "\n",
              "    [theme=dark] .colab-df-convert:hover {\n",
              "      background-color: #434B5C;\n",
              "      box-shadow: 0px 1px 3px 1px rgba(0, 0, 0, 0.15);\n",
              "      filter: drop-shadow(0px 1px 2px rgba(0, 0, 0, 0.3));\n",
              "      fill: #FFFFFF;\n",
              "    }\n",
              "  </style>\n",
              "\n",
              "      <script>\n",
              "        const buttonEl =\n",
              "          document.querySelector('#df-ed60856a-d309-4ebd-aaeb-896a3327d946 button.colab-df-convert');\n",
              "        buttonEl.style.display =\n",
              "          google.colab.kernel.accessAllowed ? 'block' : 'none';\n",
              "\n",
              "        async function convertToInteractive(key) {\n",
              "          const element = document.querySelector('#df-ed60856a-d309-4ebd-aaeb-896a3327d946');\n",
              "          const dataTable =\n",
              "            await google.colab.kernel.invokeFunction('convertToInteractive',\n",
              "                                                     [key], {});\n",
              "          if (!dataTable) return;\n",
              "\n",
              "          const docLinkHtml = 'Like what you see? Visit the ' +\n",
              "            '<a target=\"_blank\" href=https://colab.research.google.com/notebooks/data_table.ipynb>data table notebook</a>'\n",
              "            + ' to learn more about interactive tables.';\n",
              "          element.innerHTML = '';\n",
              "          dataTable['output_type'] = 'display_data';\n",
              "          await google.colab.output.renderOutput(dataTable, element);\n",
              "          const docLink = document.createElement('div');\n",
              "          docLink.innerHTML = docLinkHtml;\n",
              "          element.appendChild(docLink);\n",
              "        }\n",
              "      </script>\n",
              "    </div>\n",
              "  </div>\n"
            ]
          },
          "metadata": {},
          "execution_count": 7
        }
      ]
    },
    {
      "cell_type": "code",
      "source": [
        "# Removing text that is in a class of its own (necessary for oversampling)\n",
        "class_counts = df['atu_id'].value_counts()\n",
        "classes_with_few_instances = class_counts[class_counts < 10].index\n",
        "\n",
        "# Create a boolean mask to filter rows with a class count less than 10\n",
        "mask = df['atu_id'].isin(classes_with_few_instances)\n",
        "\n",
        "# Remove rows with class count less than 10 from the dataframe\n",
        "df = df[~mask]\n",
        "\n",
        "len(df)"
      ],
      "metadata": {
        "colab": {
          "base_uri": "https://localhost:8080/"
        },
        "id": "1yvx4lks0CfQ",
        "outputId": "0abab8bc-00bc-4b9c-e0f2-407f672a920c"
      },
      "execution_count": null,
      "outputs": [
        {
          "output_type": "execute_result",
          "data": {
            "text/plain": [
              "913"
            ]
          },
          "metadata": {},
          "execution_count": 8
        }
      ]
    },
    {
      "cell_type": "code",
      "source": [
        "df.head()"
      ],
      "metadata": {
        "colab": {
          "base_uri": "https://localhost:8080/",
          "height": 206
        },
        "id": "kW6ul-8xLr8T",
        "outputId": "4e6bb65d-beb9-4e01-d490-2747548f0a0d"
      },
      "execution_count": null,
      "outputs": [
        {
          "output_type": "execute_result",
          "data": {
            "text/plain": [
              "  atu_id       tale_title                                               text\n",
              "5   1430  Buttermilk Jack  Oh mother, my buttermilk I will sell, And all ...\n",
              "6   1430     Day-Dreaming  Now there was once a man at Bagdad who had sev...\n",
              "7   1430       Lazy Heinz  Heinz was lazy, and although he had nothing el...\n",
              "8   1430        Lean Lisa  Lean Lisa was not at all like Lazy Heinz and F...\n",
              "9   1430     Sheik Chilli  The hero of this story was one day walking alo..."
            ],
            "text/html": [
              "\n",
              "\n",
              "  <div id=\"df-4ae83f8d-5f7b-4ac4-9172-862b28cd864b\">\n",
              "    <div class=\"colab-df-container\">\n",
              "      <div>\n",
              "<style scoped>\n",
              "    .dataframe tbody tr th:only-of-type {\n",
              "        vertical-align: middle;\n",
              "    }\n",
              "\n",
              "    .dataframe tbody tr th {\n",
              "        vertical-align: top;\n",
              "    }\n",
              "\n",
              "    .dataframe thead th {\n",
              "        text-align: right;\n",
              "    }\n",
              "</style>\n",
              "<table border=\"1\" class=\"dataframe\">\n",
              "  <thead>\n",
              "    <tr style=\"text-align: right;\">\n",
              "      <th></th>\n",
              "      <th>atu_id</th>\n",
              "      <th>tale_title</th>\n",
              "      <th>text</th>\n",
              "    </tr>\n",
              "  </thead>\n",
              "  <tbody>\n",
              "    <tr>\n",
              "      <th>5</th>\n",
              "      <td>1430</td>\n",
              "      <td>Buttermilk Jack</td>\n",
              "      <td>Oh mother, my buttermilk I will sell, And all ...</td>\n",
              "    </tr>\n",
              "    <tr>\n",
              "      <th>6</th>\n",
              "      <td>1430</td>\n",
              "      <td>Day-Dreaming</td>\n",
              "      <td>Now there was once a man at Bagdad who had sev...</td>\n",
              "    </tr>\n",
              "    <tr>\n",
              "      <th>7</th>\n",
              "      <td>1430</td>\n",
              "      <td>Lazy Heinz</td>\n",
              "      <td>Heinz was lazy, and although he had nothing el...</td>\n",
              "    </tr>\n",
              "    <tr>\n",
              "      <th>8</th>\n",
              "      <td>1430</td>\n",
              "      <td>Lean Lisa</td>\n",
              "      <td>Lean Lisa was not at all like Lazy Heinz and F...</td>\n",
              "    </tr>\n",
              "    <tr>\n",
              "      <th>9</th>\n",
              "      <td>1430</td>\n",
              "      <td>Sheik Chilli</td>\n",
              "      <td>The hero of this story was one day walking alo...</td>\n",
              "    </tr>\n",
              "  </tbody>\n",
              "</table>\n",
              "</div>\n",
              "      <button class=\"colab-df-convert\" onclick=\"convertToInteractive('df-4ae83f8d-5f7b-4ac4-9172-862b28cd864b')\"\n",
              "              title=\"Convert this dataframe to an interactive table.\"\n",
              "              style=\"display:none;\">\n",
              "\n",
              "  <svg xmlns=\"http://www.w3.org/2000/svg\" height=\"24px\"viewBox=\"0 0 24 24\"\n",
              "       width=\"24px\">\n",
              "    <path d=\"M0 0h24v24H0V0z\" fill=\"none\"/>\n",
              "    <path d=\"M18.56 5.44l.94 2.06.94-2.06 2.06-.94-2.06-.94-.94-2.06-.94 2.06-2.06.94zm-11 1L8.5 8.5l.94-2.06 2.06-.94-2.06-.94L8.5 2.5l-.94 2.06-2.06.94zm10 10l.94 2.06.94-2.06 2.06-.94-2.06-.94-.94-2.06-.94 2.06-2.06.94z\"/><path d=\"M17.41 7.96l-1.37-1.37c-.4-.4-.92-.59-1.43-.59-.52 0-1.04.2-1.43.59L10.3 9.45l-7.72 7.72c-.78.78-.78 2.05 0 2.83L4 21.41c.39.39.9.59 1.41.59.51 0 1.02-.2 1.41-.59l7.78-7.78 2.81-2.81c.8-.78.8-2.07 0-2.86zM5.41 20L4 18.59l7.72-7.72 1.47 1.35L5.41 20z\"/>\n",
              "  </svg>\n",
              "      </button>\n",
              "\n",
              "\n",
              "\n",
              "    <div id=\"df-c0bc8574-aa52-4df0-9a46-a2518dee7af7\">\n",
              "      <button class=\"colab-df-quickchart\" onclick=\"quickchart('df-c0bc8574-aa52-4df0-9a46-a2518dee7af7')\"\n",
              "              title=\"Suggest charts.\"\n",
              "              style=\"display:none;\">\n",
              "\n",
              "<svg xmlns=\"http://www.w3.org/2000/svg\" height=\"24px\"viewBox=\"0 0 24 24\"\n",
              "     width=\"24px\">\n",
              "    <g>\n",
              "        <path d=\"M19 3H5c-1.1 0-2 .9-2 2v14c0 1.1.9 2 2 2h14c1.1 0 2-.9 2-2V5c0-1.1-.9-2-2-2zM9 17H7v-7h2v7zm4 0h-2V7h2v10zm4 0h-2v-4h2v4z\"/>\n",
              "    </g>\n",
              "</svg>\n",
              "      </button>\n",
              "    </div>\n",
              "\n",
              "<style>\n",
              "  .colab-df-quickchart {\n",
              "    background-color: #E8F0FE;\n",
              "    border: none;\n",
              "    border-radius: 50%;\n",
              "    cursor: pointer;\n",
              "    display: none;\n",
              "    fill: #1967D2;\n",
              "    height: 32px;\n",
              "    padding: 0 0 0 0;\n",
              "    width: 32px;\n",
              "  }\n",
              "\n",
              "  .colab-df-quickchart:hover {\n",
              "    background-color: #E2EBFA;\n",
              "    box-shadow: 0px 1px 2px rgba(60, 64, 67, 0.3), 0px 1px 3px 1px rgba(60, 64, 67, 0.15);\n",
              "    fill: #174EA6;\n",
              "  }\n",
              "\n",
              "  [theme=dark] .colab-df-quickchart {\n",
              "    background-color: #3B4455;\n",
              "    fill: #D2E3FC;\n",
              "  }\n",
              "\n",
              "  [theme=dark] .colab-df-quickchart:hover {\n",
              "    background-color: #434B5C;\n",
              "    box-shadow: 0px 1px 3px 1px rgba(0, 0, 0, 0.15);\n",
              "    filter: drop-shadow(0px 1px 2px rgba(0, 0, 0, 0.3));\n",
              "    fill: #FFFFFF;\n",
              "  }\n",
              "</style>\n",
              "\n",
              "    <script>\n",
              "      async function quickchart(key) {\n",
              "        const containerElement = document.querySelector('#' + key);\n",
              "        const charts = await google.colab.kernel.invokeFunction(\n",
              "            'suggestCharts', [key], {});\n",
              "      }\n",
              "    </script>\n",
              "\n",
              "      <script>\n",
              "\n",
              "function displayQuickchartButton(domScope) {\n",
              "  let quickchartButtonEl =\n",
              "    domScope.querySelector('#df-c0bc8574-aa52-4df0-9a46-a2518dee7af7 button.colab-df-quickchart');\n",
              "  quickchartButtonEl.style.display =\n",
              "    google.colab.kernel.accessAllowed ? 'block' : 'none';\n",
              "}\n",
              "\n",
              "        displayQuickchartButton(document);\n",
              "      </script>\n",
              "      <style>\n",
              "    .colab-df-container {\n",
              "      display:flex;\n",
              "      flex-wrap:wrap;\n",
              "      gap: 12px;\n",
              "    }\n",
              "\n",
              "    .colab-df-convert {\n",
              "      background-color: #E8F0FE;\n",
              "      border: none;\n",
              "      border-radius: 50%;\n",
              "      cursor: pointer;\n",
              "      display: none;\n",
              "      fill: #1967D2;\n",
              "      height: 32px;\n",
              "      padding: 0 0 0 0;\n",
              "      width: 32px;\n",
              "    }\n",
              "\n",
              "    .colab-df-convert:hover {\n",
              "      background-color: #E2EBFA;\n",
              "      box-shadow: 0px 1px 2px rgba(60, 64, 67, 0.3), 0px 1px 3px 1px rgba(60, 64, 67, 0.15);\n",
              "      fill: #174EA6;\n",
              "    }\n",
              "\n",
              "    [theme=dark] .colab-df-convert {\n",
              "      background-color: #3B4455;\n",
              "      fill: #D2E3FC;\n",
              "    }\n",
              "\n",
              "    [theme=dark] .colab-df-convert:hover {\n",
              "      background-color: #434B5C;\n",
              "      box-shadow: 0px 1px 3px 1px rgba(0, 0, 0, 0.15);\n",
              "      filter: drop-shadow(0px 1px 2px rgba(0, 0, 0, 0.3));\n",
              "      fill: #FFFFFF;\n",
              "    }\n",
              "  </style>\n",
              "\n",
              "      <script>\n",
              "        const buttonEl =\n",
              "          document.querySelector('#df-4ae83f8d-5f7b-4ac4-9172-862b28cd864b button.colab-df-convert');\n",
              "        buttonEl.style.display =\n",
              "          google.colab.kernel.accessAllowed ? 'block' : 'none';\n",
              "\n",
              "        async function convertToInteractive(key) {\n",
              "          const element = document.querySelector('#df-4ae83f8d-5f7b-4ac4-9172-862b28cd864b');\n",
              "          const dataTable =\n",
              "            await google.colab.kernel.invokeFunction('convertToInteractive',\n",
              "                                                     [key], {});\n",
              "          if (!dataTable) return;\n",
              "\n",
              "          const docLinkHtml = 'Like what you see? Visit the ' +\n",
              "            '<a target=\"_blank\" href=https://colab.research.google.com/notebooks/data_table.ipynb>data table notebook</a>'\n",
              "            + ' to learn more about interactive tables.';\n",
              "          element.innerHTML = '';\n",
              "          dataTable['output_type'] = 'display_data';\n",
              "          await google.colab.output.renderOutput(dataTable, element);\n",
              "          const docLink = document.createElement('div');\n",
              "          docLink.innerHTML = docLinkHtml;\n",
              "          element.appendChild(docLink);\n",
              "        }\n",
              "      </script>\n",
              "    </div>\n",
              "  </div>\n"
            ]
          },
          "metadata": {},
          "execution_count": 9
        }
      ]
    },
    {
      "cell_type": "code",
      "source": [
        "df.shape"
      ],
      "metadata": {
        "colab": {
          "base_uri": "https://localhost:8080/"
        },
        "id": "c1fdgmuULvp-",
        "outputId": "b9262669-7fc2-49de-a00a-14df38fcc7bf"
      },
      "execution_count": null,
      "outputs": [
        {
          "output_type": "execute_result",
          "data": {
            "text/plain": [
              "(913, 3)"
            ]
          },
          "metadata": {},
          "execution_count": 10
        }
      ]
    },
    {
      "cell_type": "code",
      "source": [
        "text = df.text.values\n",
        "atu_id = df.atu_id.values"
      ],
      "metadata": {
        "id": "dOzhNxFULGy8"
      },
      "execution_count": null,
      "outputs": []
    },
    {
      "cell_type": "code",
      "source": [
        "print(text.shape)\n",
        "print(atu_id.shape)"
      ],
      "metadata": {
        "colab": {
          "base_uri": "https://localhost:8080/"
        },
        "id": "atmlePHBzjZu",
        "outputId": "ff99ef69-2289-4d72-b24c-f3bff34f59d2"
      },
      "execution_count": null,
      "outputs": [
        {
          "output_type": "stream",
          "name": "stdout",
          "text": [
            "(913,)\n",
            "(913,)\n"
          ]
        }
      ]
    },
    {
      "cell_type": "code",
      "source": [
        "train_input, val_input, train_label, val_label = train_test_split(text, atu_id)"
      ],
      "metadata": {
        "id": "GZEL0_8V1dh6"
      },
      "execution_count": null,
      "outputs": []
    },
    {
      "cell_type": "code",
      "source": [
        "train_input.shape"
      ],
      "metadata": {
        "id": "DYSk1WJez6fP",
        "colab": {
          "base_uri": "https://localhost:8080/"
        },
        "outputId": "0b90b793-4a70-4259-f73d-10395bd21125"
      },
      "execution_count": null,
      "outputs": [
        {
          "output_type": "execute_result",
          "data": {
            "text/plain": [
              "(684,)"
            ]
          },
          "metadata": {},
          "execution_count": 14
        }
      ]
    },
    {
      "cell_type": "code",
      "source": [
        "train_label.shape"
      ],
      "metadata": {
        "colab": {
          "base_uri": "https://localhost:8080/"
        },
        "id": "iIHcKtiz2bMf",
        "outputId": "3087da46-17d1-49dd-bf92-1f901c6b5b43"
      },
      "execution_count": null,
      "outputs": [
        {
          "output_type": "execute_result",
          "data": {
            "text/plain": [
              "(684,)"
            ]
          },
          "metadata": {},
          "execution_count": 15
        }
      ]
    },
    {
      "cell_type": "code",
      "source": [
        "#from transformers import BertTokenizer, TFBertModel, BertConfig, TFBertForSequenceClassification\n",
        "\n",
        "from transformers import DistilBertTokenizer, TFDistilBertForSequenceClassification"
      ],
      "metadata": {
        "id": "uMjQQqlS1V3O"
      },
      "execution_count": null,
      "outputs": []
    },
    {
      "cell_type": "code",
      "source": [
        "#tokenizer = BertTokenizer.from_pretrained('bert-base-uncased', do_lower_case = True)\n",
        "tokenizer = DistilBertTokenizer.from_pretrained('distilbert-base-uncased')"
      ],
      "metadata": {
        "colab": {
          "base_uri": "https://localhost:8080/",
          "height": 113,
          "referenced_widgets": [
            "b5ebf5d3aa81449db94dbb8a66278f27",
            "25d3e3565cf74c928c1ec02af96dcf7b",
            "7655e5fc92bd48e9b35ba6a73e4804b9",
            "a4ec1ae951c248cda8076e79c909f262",
            "737177d1dfc84c319f033e957eba7619",
            "b742f75fb0bc44598faba68099d67040",
            "1b46ed45146b4f55aaec1751bcafbfae",
            "859d132f0eb24e3e84c979048c4b616e",
            "34b2ed605359456484d8e21f7a098a77",
            "a5b0783b83ac490cb771b2872841d8b9",
            "0c560cec305a4130b83d29d37e98a11c",
            "6c700431ca214576a0ad4585258995a9",
            "a579c2b7145e421e83261e4a0a7be7c8",
            "47c442ba29044bd0b614eb70570c6f14",
            "7ca957335fe740fa8e2241a781433a50",
            "4af39e1f0d7744ca9bc00891f0374e78",
            "a503c26133be44428a776a7908be1147",
            "079154d26f48448384cc5bd2e47284bb",
            "7983586cb24242ca9d4404cce1ec200d",
            "7a1f02c90e9f4caaa7d6b5caecb373a1",
            "18299b5d8b434c45add155cdc01eb64a",
            "89d9e2be4075483b9608b08684090819",
            "2800a800c4d84d84ba5ef6f847af5fc6",
            "ada8f6a15fc24645b845ec4a6d45505f",
            "b7128d651aba48eb989c04862990ce63",
            "fb02f4aebf7e40bb8c72e2a918274e16",
            "c1b794f7cd0f47918adeda6300765f06",
            "ce676697294e419ebc6b7ba1eb9365e0",
            "7cece146768e4801a3030869391d5029",
            "752a5e449a0241d3aaee8a3ad786a532",
            "e10878a8c2bc4f79ba6334a2780a6355",
            "0a642bdadba14d88bfef69fa9edf6e86",
            "e74756f55d4a459d966993b4d71208b8"
          ]
        },
        "id": "zduAtGdG109r",
        "outputId": "0f8999c1-eab2-49dc-e6db-c2c008f37f10"
      },
      "execution_count": null,
      "outputs": [
        {
          "output_type": "display_data",
          "data": {
            "text/plain": [
              "Downloading (…)solve/main/vocab.txt:   0%|          | 0.00/232k [00:00<?, ?B/s]"
            ],
            "application/vnd.jupyter.widget-view+json": {
              "version_major": 2,
              "version_minor": 0,
              "model_id": "b5ebf5d3aa81449db94dbb8a66278f27"
            }
          },
          "metadata": {}
        },
        {
          "output_type": "display_data",
          "data": {
            "text/plain": [
              "Downloading (…)okenizer_config.json:   0%|          | 0.00/28.0 [00:00<?, ?B/s]"
            ],
            "application/vnd.jupyter.widget-view+json": {
              "version_major": 2,
              "version_minor": 0,
              "model_id": "6c700431ca214576a0ad4585258995a9"
            }
          },
          "metadata": {}
        },
        {
          "output_type": "display_data",
          "data": {
            "text/plain": [
              "Downloading (…)lve/main/config.json:   0%|          | 0.00/483 [00:00<?, ?B/s]"
            ],
            "application/vnd.jupyter.widget-view+json": {
              "version_major": 2,
              "version_minor": 0,
              "model_id": "2800a800c4d84d84ba5ef6f847af5fc6"
            }
          },
          "metadata": {}
        }
      ]
    },
    {
      "cell_type": "code",
      "source": [
        "print('Actual text ', text[0])"
      ],
      "metadata": {
        "colab": {
          "base_uri": "https://localhost:8080/"
        },
        "id": "1YITnH4b3XE-",
        "outputId": "b6fcb85c-ea07-4592-e9db-29a87183e02d"
      },
      "execution_count": null,
      "outputs": [
        {
          "output_type": "stream",
          "name": "stdout",
          "text": [
            "Actual text  Oh mother, my buttermilk I will sell, And all for a penny as you med zee; And with my penny then I will buy eggs, Vor I shall have seven for my penney. Oh mother, I'll set them all under our hen, And seven cock chickens might chance for to be; But seven cock chickens or seven cap hens, There'll be seven half-crownds for me. Oh, I'll go carry them to market, mother, And nothing but vine volk shall I zee; And with my money then I will buy land, Zo as a landlord I med be. 'Oh my dear zon, wilt thee know me, When thee hast gotten great store of wealth?' 'Oh, my dear mother, how shall I know thee, When I shall hardly know my own self?' Zo aal you as has got an old hen for to sett, Both by night and by day mind you has her well watched, Lest you should be like unto Buttermilk Jack, To reckon your chickens before thay are hatched.\n"
          ]
        }
      ]
    },
    {
      "cell_type": "code",
      "source": [
        "print('Tokens ', tokenizer.tokenize(text[0]))"
      ],
      "metadata": {
        "colab": {
          "base_uri": "https://localhost:8080/"
        },
        "id": "YcO0Vyhx3b9H",
        "outputId": "1c794c85-7749-457c-cb96-ea0dc76080f0"
      },
      "execution_count": null,
      "outputs": [
        {
          "output_type": "stream",
          "name": "stdout",
          "text": [
            "Tokens  ['oh', 'mother', ',', 'my', 'butter', '##mi', '##lk', 'i', 'will', 'sell', ',', 'and', 'all', 'for', 'a', 'penny', 'as', 'you', 'med', 'zee', ';', 'and', 'with', 'my', 'penny', 'then', 'i', 'will', 'buy', 'eggs', ',', 'vo', '##r', 'i', 'shall', 'have', 'seven', 'for', 'my', 'penn', '##ey', '.', 'oh', 'mother', ',', 'i', \"'\", 'll', 'set', 'them', 'all', 'under', 'our', 'hen', ',', 'and', 'seven', 'cock', 'chickens', 'might', 'chance', 'for', 'to', 'be', ';', 'but', 'seven', 'cock', 'chickens', 'or', 'seven', 'cap', 'hen', '##s', ',', 'there', \"'\", 'll', 'be', 'seven', 'half', '-', 'crown', '##ds', 'for', 'me', '.', 'oh', ',', 'i', \"'\", 'll', 'go', 'carry', 'them', 'to', 'market', ',', 'mother', ',', 'and', 'nothing', 'but', 'vine', 'vol', '##k', 'shall', 'i', 'zee', ';', 'and', 'with', 'my', 'money', 'then', 'i', 'will', 'buy', 'land', ',', 'z', '##o', 'as', 'a', 'landlord', 'i', 'med', 'be', '.', \"'\", 'oh', 'my', 'dear', 'z', '##on', ',', 'wil', '##t', 'thee', 'know', 'me', ',', 'when', 'thee', 'has', '##t', 'gotten', 'great', 'store', 'of', 'wealth', '?', \"'\", \"'\", 'oh', ',', 'my', 'dear', 'mother', ',', 'how', 'shall', 'i', 'know', 'thee', ',', 'when', 'i', 'shall', 'hardly', 'know', 'my', 'own', 'self', '?', \"'\", 'z', '##o', 'aa', '##l', 'you', 'as', 'has', 'got', 'an', 'old', 'hen', 'for', 'to', 'set', '##t', ',', 'both', 'by', 'night', 'and', 'by', 'day', 'mind', 'you', 'has', 'her', 'well', 'watched', ',', 'lest', 'you', 'should', 'be', 'like', 'unto', 'butter', '##mi', '##lk', 'jack', ',', 'to', 'reckon', 'your', 'chickens', 'before', 'tha', '##y', 'are', 'hatch', '##ed', '.']\n"
          ]
        }
      ]
    },
    {
      "cell_type": "code",
      "source": [
        "print('Token to ids ', tokenizer.convert_tokens_to_ids(tokenizer.tokenize(text[0])))"
      ],
      "metadata": {
        "colab": {
          "base_uri": "https://localhost:8080/"
        },
        "id": "8gdvco-SODoE",
        "outputId": "0324ded1-ccf3-4449-c1a7-2325b6724e51"
      },
      "execution_count": null,
      "outputs": [
        {
          "output_type": "stream",
          "name": "stdout",
          "text": [
            "Token to ids  [2821, 2388, 1010, 2026, 12136, 4328, 13687, 1045, 2097, 5271, 1010, 1998, 2035, 2005, 1037, 10647, 2004, 2017, 19960, 23727, 1025, 1998, 2007, 2026, 10647, 2059, 1045, 2097, 4965, 6763, 1010, 29536, 2099, 1045, 4618, 2031, 2698, 2005, 2026, 9502, 3240, 1012, 2821, 2388, 1010, 1045, 1005, 2222, 2275, 2068, 2035, 2104, 2256, 21863, 1010, 1998, 2698, 10338, 21868, 2453, 3382, 2005, 2000, 2022, 1025, 2021, 2698, 10338, 21868, 2030, 2698, 6178, 21863, 2015, 1010, 2045, 1005, 2222, 2022, 2698, 2431, 1011, 4410, 5104, 2005, 2033, 1012, 2821, 1010, 1045, 1005, 2222, 2175, 4287, 2068, 2000, 3006, 1010, 2388, 1010, 1998, 2498, 2021, 15351, 5285, 2243, 4618, 1045, 23727, 1025, 1998, 2007, 2026, 2769, 2059, 1045, 2097, 4965, 2455, 1010, 1062, 2080, 2004, 1037, 18196, 1045, 19960, 2022, 1012, 1005, 2821, 2026, 6203, 1062, 2239, 1010, 19863, 2102, 14992, 2113, 2033, 1010, 2043, 14992, 2038, 2102, 5407, 2307, 3573, 1997, 7177, 1029, 1005, 1005, 2821, 1010, 2026, 6203, 2388, 1010, 2129, 4618, 1045, 2113, 14992, 1010, 2043, 1045, 4618, 6684, 2113, 2026, 2219, 2969, 1029, 1005, 1062, 2080, 9779, 2140, 2017, 2004, 2038, 2288, 2019, 2214, 21863, 2005, 2000, 2275, 2102, 1010, 2119, 2011, 2305, 1998, 2011, 2154, 2568, 2017, 2038, 2014, 2092, 3427, 1010, 26693, 2017, 2323, 2022, 2066, 19662, 12136, 4328, 13687, 2990, 1010, 2000, 29072, 2115, 21868, 2077, 22794, 2100, 2024, 11300, 2098, 1012]\n"
          ]
        }
      ]
    },
    {
      "cell_type": "code",
      "source": [
        "#encode/tokenize each text in the list\n",
        "max_len = 0\n",
        "for t in text:\n",
        "  #update maximum sentence length\n",
        "  encoded_sent = tokenizer.encode(t, add_special_tokens=True)\n",
        "  max_len = max(max_len, len(encoded_sent))\n",
        "\n",
        "print('max sentence length: ', max_len)"
      ],
      "metadata": {
        "colab": {
          "base_uri": "https://localhost:8080/"
        },
        "id": "brgw5qeyOb70",
        "outputId": "1a5a0a18-e4e2-4d59-fc43-a4fa2c87771b"
      },
      "execution_count": null,
      "outputs": [
        {
          "output_type": "stream",
          "name": "stderr",
          "text": [
            "Token indices sequence length is longer than the specified maximum sequence length for this model (1733 > 512). Running this sequence through the model will result in indexing errors\n"
          ]
        },
        {
          "output_type": "stream",
          "name": "stdout",
          "text": [
            "max sentence length:  14006\n"
          ]
        }
      ]
    },
    {
      "cell_type": "code",
      "source": [
        "def mask_inputs_for_bert(text, max_len):\n",
        "  #tokenize all sentences and map the tokens to word ids\n",
        "  input_ids = []\n",
        "  attention_masks = []\n",
        "  i = 0\n",
        "  for t in text:\n",
        "    if(i<3):\n",
        "      print('Text', t)\n",
        "    encoded_dict = tokenizer.encode_plus(\n",
        "                      t,\n",
        "                      add_special_tokens = True,\n",
        "                      max_length = 512,\n",
        "                      pad_to_max_length = True,\n",
        "                      return_attention_mask = True,\n",
        "                )\n",
        "    if(i<3):\n",
        "      print('dict', encoded_dict['input_ids'])\n",
        "    input_ids.append(encoded_dict['input_ids'])\n",
        "\n",
        "    attention_masks.append(encoded_dict['attention_mask'])\n",
        "\n",
        "    i = i+1\n",
        "  #convert to tensor and return\n",
        "  input_ids = tf.convert_to_tensor(input_ids)\n",
        "  attention_masks = tf.convert_to_tensor(attention_masks)\n",
        "  return input_ids, attention_masks"
      ],
      "metadata": {
        "id": "Rleq9ZMZO7Bt"
      },
      "execution_count": null,
      "outputs": []
    },
    {
      "cell_type": "code",
      "source": [
        "from sklearn.preprocessing import LabelEncoder\n",
        "le = LabelEncoder()\n",
        "\n",
        "train_label = le.fit_transform(train_label)\n",
        "val_label = le.transform(val_label)"
      ],
      "metadata": {
        "id": "Pr-p0Isjj0UA"
      },
      "execution_count": null,
      "outputs": []
    },
    {
      "cell_type": "code",
      "source": [
        "train_inp, train_mask = mask_inputs_for_bert(train_input, max_len)\n",
        "val_inp, val_mask = mask_inputs_for_bert(val_input, max_len)\n",
        "train_label = tf.convert_to_tensor(train_label)\n",
        "val_label = tf.convert_to_tensor(val_label)"
      ],
      "metadata": {
        "colab": {
          "base_uri": "https://localhost:8080/"
        },
        "id": "0L8c_N9KTqk8",
        "outputId": "6c1ca581-8411-42f9-81c8-5389939bbb00"
      },
      "execution_count": null,
      "outputs": [
        {
          "output_type": "stream",
          "name": "stderr",
          "text": [
            "Truncation was not explicitly activated but `max_length` is provided a specific value, please use `truncation=True` to explicitly truncate examples to max length. Defaulting to 'longest_first' truncation strategy. If you encode pairs of sequences (GLUE-style) with the tokenizer you can select this strategy more precisely by providing a specific strategy to `truncation`.\n"
          ]
        },
        {
          "output_type": "stream",
          "name": "stdout",
          "text": [
            "Text Once upon a time there was a clever, wily peasant, whose tricks could be much talked about. The best story, however, is how he once got the best of the devil and made a fool of him. One day the peasant had been working in his field, and just as it was getting dark he was getting ready to go home when in the middle of his field he saw a pile of burning coals. Filled with amazement he walked toward it, and sitting on the top of the glowing coals there was a little black devil. 'You must be sitting on a treasure,' said the peasant. 'Yes indeed,' replied the devil, 'on a treasure that contains more gold and silver than you have ever seen in your life.' 'The treasure is in my field and belongs to me,' said the peasant. 'It is yours,' answered the devil, 'if for two years you will give me one half of everything your field produces. I have enough money, but I have a desire for the fruits of the earth.' The peasant entered into the bargain, saying, 'To prevent any dispute from arising about the division, everything above the ground shall belong to you, and everything beneath the ground to me.' The devil was quite satisfied with that, but the cunning peasant had planted turnips. Now when harvest time came the devil appeared and wanted to take away his crop, but he found nothing except the yellow withered leaves, and the happy peasant dug up his turnips. 'You got the best of me this time,' said the devil, 'but it won't happen again. Next time what grows above ground shall be yours, and what is under it shall be mine.' 'That is all right with me,' answered the peasant. When planting time came the peasant did not plant turnips again, but wheat. The crop ripened, and the peasant went into the field and cut the full stalks off at ground level. When the devil came he found nothing but the stubble, and he angrily disappeared into a chasm in a cliff. 'That's the way one has to deal with foxes,' said the peasant, then carried away the treasure.\n",
            "dict [101, 2320, 2588, 1037, 2051, 2045, 2001, 1037, 12266, 1010, 19863, 2100, 14539, 1010, 3005, 12225, 2071, 2022, 2172, 5720, 2055, 1012, 1996, 2190, 2466, 1010, 2174, 1010, 2003, 2129, 2002, 2320, 2288, 1996, 2190, 1997, 1996, 6548, 1998, 2081, 1037, 7966, 1997, 2032, 1012, 2028, 2154, 1996, 14539, 2018, 2042, 2551, 1999, 2010, 2492, 1010, 1998, 2074, 2004, 2009, 2001, 2893, 2601, 2002, 2001, 2893, 3201, 2000, 2175, 2188, 2043, 1999, 1996, 2690, 1997, 2010, 2492, 2002, 2387, 1037, 8632, 1997, 5255, 5317, 2015, 1012, 3561, 2007, 21606, 2002, 2939, 2646, 2009, 1010, 1998, 3564, 2006, 1996, 2327, 1997, 1996, 10156, 5317, 2015, 2045, 2001, 1037, 2210, 2304, 6548, 1012, 1005, 2017, 2442, 2022, 3564, 2006, 1037, 8813, 1010, 1005, 2056, 1996, 14539, 1012, 1005, 2748, 5262, 1010, 1005, 3880, 1996, 6548, 1010, 1005, 2006, 1037, 8813, 2008, 3397, 2062, 2751, 1998, 3165, 2084, 2017, 2031, 2412, 2464, 1999, 2115, 2166, 1012, 1005, 1005, 1996, 8813, 2003, 1999, 2026, 2492, 1998, 7460, 2000, 2033, 1010, 1005, 2056, 1996, 14539, 1012, 1005, 2009, 2003, 6737, 1010, 1005, 4660, 1996, 6548, 1010, 1005, 2065, 2005, 2048, 2086, 2017, 2097, 2507, 2033, 2028, 2431, 1997, 2673, 2115, 2492, 7137, 1012, 1045, 2031, 2438, 2769, 1010, 2021, 1045, 2031, 1037, 4792, 2005, 1996, 10962, 1997, 1996, 3011, 1012, 1005, 1996, 14539, 3133, 2046, 1996, 17113, 1010, 3038, 1010, 1005, 2000, 4652, 2151, 7593, 2013, 17707, 2055, 1996, 2407, 1010, 2673, 2682, 1996, 2598, 4618, 7141, 2000, 2017, 1010, 1998, 2673, 4218, 1996, 2598, 2000, 2033, 1012, 1005, 1996, 6548, 2001, 3243, 8510, 2007, 2008, 1010, 2021, 1996, 23626, 14539, 2018, 8461, 2735, 11514, 2015, 1012, 2085, 2043, 11203, 2051, 2234, 1996, 6548, 2596, 1998, 2359, 2000, 2202, 2185, 2010, 10416, 1010, 2021, 2002, 2179, 2498, 3272, 1996, 3756, 2007, 6850, 3727, 1010, 1998, 1996, 3407, 14539, 8655, 2039, 2010, 2735, 11514, 2015, 1012, 1005, 2017, 2288, 1996, 2190, 1997, 2033, 2023, 2051, 1010, 1005, 2056, 1996, 6548, 1010, 1005, 2021, 2009, 2180, 1005, 1056, 4148, 2153, 1012, 2279, 2051, 2054, 7502, 2682, 2598, 4618, 2022, 6737, 1010, 1998, 2054, 2003, 2104, 2009, 4618, 2022, 3067, 1012, 1005, 1005, 2008, 2003, 2035, 2157, 2007, 2033, 1010, 1005, 4660, 1996, 14539, 1012, 2043, 14685, 2051, 2234, 1996, 14539, 2106, 2025, 3269, 2735, 11514, 2015, 2153, 1010, 2021, 10500, 1012, 1996, 10416, 22503, 7228, 1010, 1998, 1996, 14539, 2253, 2046, 1996, 2492, 1998, 3013, 1996, 2440, 29594, 2125, 2012, 2598, 2504, 1012, 2043, 1996, 6548, 2234, 2002, 2179, 2498, 2021, 1996, 26816, 1010, 1998, 2002, 14136, 5419, 2046, 1037, 15775, 6491, 1999, 1037, 7656, 1012, 1005, 2008, 1005, 1055, 1996, 2126, 2028, 2038, 2000, 3066, 2007, 24623, 1010, 1005, 2056, 1996, 14539, 1010, 2059, 3344, 2185, 1996, 8813, 1012, 102, 0, 0, 0, 0, 0, 0, 0, 0, 0, 0, 0, 0, 0, 0, 0, 0, 0, 0, 0, 0, 0, 0, 0, 0, 0, 0, 0, 0, 0, 0, 0, 0, 0, 0, 0, 0, 0, 0, 0, 0, 0, 0, 0, 0, 0, 0, 0, 0, 0, 0, 0, 0, 0, 0, 0, 0, 0, 0]\n",
            "Text There was a man who had an evil wife. When she got angry with him she called him a louse-cracker. This irritated him, especially when she did so in the presence of other people. He forbade her to this, under the threat of severe punishment, but this did not stop her. One time she called him thus, so he threw her into the pond in his garden. Drowning, and no longer able to speak, she raised both arms above the water and pressed her two thumbnails together, as though she were cracking lice. What she was not able to say with words she said with actions.\n",
            "dict [101, 2045, 2001, 1037, 2158, 2040, 2018, 2019, 4763, 2564, 1012, 2043, 2016, 2288, 4854, 2007, 2032, 2016, 2170, 2032, 1037, 10223, 3366, 1011, 8579, 2121, 1012, 2023, 15560, 2032, 1010, 2926, 2043, 2016, 2106, 2061, 1999, 1996, 3739, 1997, 2060, 2111, 1012, 2002, 27315, 2014, 2000, 2023, 1010, 2104, 1996, 5081, 1997, 5729, 7750, 1010, 2021, 2023, 2106, 2025, 2644, 2014, 1012, 2028, 2051, 2016, 2170, 2032, 2947, 1010, 2061, 2002, 4711, 2014, 2046, 1996, 8644, 1999, 2010, 3871, 1012, 14759, 1010, 1998, 2053, 2936, 2583, 2000, 3713, 1010, 2016, 2992, 2119, 2608, 2682, 1996, 2300, 1998, 4508, 2014, 2048, 7639, 25464, 2015, 2362, 1010, 2004, 2295, 2016, 2020, 15729, 5622, 3401, 1012, 2054, 2016, 2001, 2025, 2583, 2000, 2360, 2007, 2616, 2016, 2056, 2007, 4506, 1012, 102, 0, 0, 0, 0, 0, 0, 0, 0, 0, 0, 0, 0, 0, 0, 0, 0, 0, 0, 0, 0, 0, 0, 0, 0, 0, 0, 0, 0, 0, 0, 0, 0, 0, 0, 0, 0, 0, 0, 0, 0, 0, 0, 0, 0, 0, 0, 0, 0, 0, 0, 0, 0, 0, 0, 0, 0, 0, 0, 0, 0, 0, 0, 0, 0, 0, 0, 0, 0, 0, 0, 0, 0, 0, 0, 0, 0, 0, 0, 0, 0, 0, 0, 0, 0, 0, 0, 0, 0, 0, 0, 0, 0, 0, 0, 0, 0, 0, 0, 0, 0, 0, 0, 0, 0, 0, 0, 0, 0, 0, 0, 0, 0, 0, 0, 0, 0, 0, 0, 0, 0, 0, 0, 0, 0, 0, 0, 0, 0, 0, 0, 0, 0, 0, 0, 0, 0, 0, 0, 0, 0, 0, 0, 0, 0, 0, 0, 0, 0, 0, 0, 0, 0, 0, 0, 0, 0, 0, 0, 0, 0, 0, 0, 0, 0, 0, 0, 0, 0, 0, 0, 0, 0, 0, 0, 0, 0, 0, 0, 0, 0, 0, 0, 0, 0, 0, 0, 0, 0, 0, 0, 0, 0, 0, 0, 0, 0, 0, 0, 0, 0, 0, 0, 0, 0, 0, 0, 0, 0, 0, 0, 0, 0, 0, 0, 0, 0, 0, 0, 0, 0, 0, 0, 0, 0, 0, 0, 0, 0, 0, 0, 0, 0, 0, 0, 0, 0, 0, 0, 0, 0, 0, 0, 0, 0, 0, 0, 0, 0, 0, 0, 0, 0, 0, 0, 0, 0, 0, 0, 0, 0, 0, 0, 0, 0, 0, 0, 0, 0, 0, 0, 0, 0, 0, 0, 0, 0, 0, 0, 0, 0, 0, 0, 0, 0, 0, 0, 0, 0, 0, 0, 0, 0, 0, 0, 0, 0, 0, 0, 0, 0, 0, 0, 0, 0, 0, 0, 0, 0, 0, 0, 0, 0, 0, 0, 0, 0, 0, 0, 0, 0, 0, 0, 0, 0, 0, 0, 0, 0, 0, 0, 0, 0, 0, 0, 0, 0, 0, 0, 0, 0, 0, 0, 0, 0, 0, 0, 0, 0, 0, 0, 0, 0, 0, 0, 0, 0, 0, 0, 0, 0, 0, 0, 0, 0, 0, 0, 0, 0, 0, 0, 0, 0, 0, 0, 0, 0, 0, 0, 0, 0, 0, 0, 0]\n",
            "Text Once a Turtle lived in an inland lake, but stayed on the shore most of the time. The Turtle always believed that there was no one who could fool him. One day Nanbush was walking along the shore, when he saw a pike in the water, which he decided to catch. He jumped in but missed the fish, so he thought he would wash his hands and make some soup. He went on and saw someone else in the water. He called out, 'Well, my brother, is this where you live?' 'Yes,' the stranger answered, 'This is where I live, and I am the chief.' Whereupon Nanbush said, 'I never saw you before.' Then the Turtle-chief said, 'Tomorrow I expect to take part in a race and I am betting my life on it.' Nanbush asked him, 'Whom are you going to race?' 'I am going to race an elk,' said the chief, 'and now I am going to get ready.' He placed other turtles around the lake and told them what to do, and then he was ready for the race. Nanbush saw the elk the next morning, and it looked very fat and good to eat. He said to himself, 'The Turtle will probably give a feast after the race. I will be there and see who will win.' Soon they were ready to start. By means of his brother turtles, the chief won and the elk was beaten. Then the Turtle killed the elk. Nanbush stayed, hoping to get some of this meat, but the Turtle said, 'I am going to feed all my children and there will not be enough meat to go around.' Whereupon Nanbush proposed that he should carry the meat home for them. The Turtle agreed to this and went home to wait for Nanbush. Nanbush, however, took the meat to his own home and there ate it all.\n",
            "dict [101, 2320, 1037, 13170, 2973, 1999, 2019, 9514, 2697, 1010, 2021, 4370, 2006, 1996, 5370, 2087, 1997, 1996, 2051, 1012, 1996, 13170, 2467, 3373, 2008, 2045, 2001, 2053, 2028, 2040, 2071, 7966, 2032, 1012, 2028, 2154, 16660, 22427, 2001, 3788, 2247, 1996, 5370, 1010, 2043, 2002, 2387, 1037, 12694, 1999, 1996, 2300, 1010, 2029, 2002, 2787, 2000, 4608, 1012, 2002, 5598, 1999, 2021, 4771, 1996, 3869, 1010, 2061, 2002, 2245, 2002, 2052, 9378, 2010, 2398, 1998, 2191, 2070, 11350, 1012, 2002, 2253, 2006, 1998, 2387, 2619, 2842, 1999, 1996, 2300, 1012, 2002, 2170, 2041, 1010, 1005, 2092, 1010, 2026, 2567, 1010, 2003, 2023, 2073, 2017, 2444, 1029, 1005, 1005, 2748, 1010, 1005, 1996, 7985, 4660, 1010, 1005, 2023, 2003, 2073, 1045, 2444, 1010, 1998, 1045, 2572, 1996, 2708, 1012, 1005, 26090, 16660, 22427, 2056, 1010, 1005, 1045, 2196, 2387, 2017, 2077, 1012, 1005, 2059, 1996, 13170, 1011, 2708, 2056, 1010, 1005, 4826, 1045, 5987, 2000, 2202, 2112, 1999, 1037, 2679, 1998, 1045, 2572, 19244, 2026, 2166, 2006, 2009, 1012, 1005, 16660, 22427, 2356, 2032, 1010, 1005, 3183, 2024, 2017, 2183, 2000, 2679, 1029, 1005, 1005, 1045, 2572, 2183, 2000, 2679, 2019, 18995, 1010, 1005, 2056, 1996, 2708, 1010, 1005, 1998, 2085, 1045, 2572, 2183, 2000, 2131, 3201, 1012, 1005, 2002, 2872, 2060, 16489, 2105, 1996, 2697, 1998, 2409, 2068, 2054, 2000, 2079, 1010, 1998, 2059, 2002, 2001, 3201, 2005, 1996, 2679, 1012, 16660, 22427, 2387, 1996, 18995, 1996, 2279, 2851, 1010, 1998, 2009, 2246, 2200, 6638, 1998, 2204, 2000, 4521, 1012, 2002, 2056, 2000, 2370, 1010, 1005, 1996, 13170, 2097, 2763, 2507, 1037, 9831, 2044, 1996, 2679, 1012, 1045, 2097, 2022, 2045, 1998, 2156, 2040, 2097, 2663, 1012, 1005, 2574, 2027, 2020, 3201, 2000, 2707, 1012, 2011, 2965, 1997, 2010, 2567, 16489, 1010, 1996, 2708, 2180, 1998, 1996, 18995, 2001, 7854, 1012, 2059, 1996, 13170, 2730, 1996, 18995, 1012, 16660, 22427, 4370, 1010, 5327, 2000, 2131, 2070, 1997, 2023, 6240, 1010, 2021, 1996, 13170, 2056, 1010, 1005, 1045, 2572, 2183, 2000, 5438, 2035, 2026, 2336, 1998, 2045, 2097, 2025, 2022, 2438, 6240, 2000, 2175, 2105, 1012, 1005, 26090, 16660, 22427, 3818, 2008, 2002, 2323, 4287, 1996, 6240, 2188, 2005, 2068, 1012, 1996, 13170, 3530, 2000, 2023, 1998, 2253, 2188, 2000, 3524, 2005, 16660, 22427, 1012, 16660, 22427, 1010, 2174, 1010, 2165, 1996, 6240, 2000, 2010, 2219, 2188, 1998, 2045, 8823, 2009, 2035, 1012, 102, 0, 0, 0, 0, 0, 0, 0, 0, 0, 0, 0, 0, 0, 0, 0, 0, 0, 0, 0, 0, 0, 0, 0, 0, 0, 0, 0, 0, 0, 0, 0, 0, 0, 0, 0, 0, 0, 0, 0, 0, 0, 0, 0, 0, 0, 0, 0, 0, 0, 0, 0, 0, 0, 0, 0, 0, 0, 0, 0, 0, 0, 0, 0, 0, 0, 0, 0, 0, 0, 0, 0, 0, 0, 0, 0, 0, 0, 0, 0, 0, 0, 0, 0, 0, 0, 0, 0, 0, 0, 0, 0, 0, 0, 0, 0, 0, 0, 0, 0, 0, 0, 0, 0, 0, 0, 0, 0, 0, 0, 0, 0, 0, 0, 0, 0, 0, 0, 0]\n"
          ]
        },
        {
          "output_type": "stream",
          "name": "stderr",
          "text": [
            "/usr/local/lib/python3.10/dist-packages/transformers/tokenization_utils_base.py:2393: FutureWarning: The `pad_to_max_length` argument is deprecated and will be removed in a future version, use `padding=True` or `padding='longest'` to pad to the longest sequence in the batch, or use `padding='max_length'` to pad to a max length. In this case, you can give a specific length with `max_length` (e.g. `max_length=45`) or leave max_length to None to pad to the maximal input size of the model (e.g. 512 for Bert).\n",
            "  warnings.warn(\n"
          ]
        },
        {
          "output_type": "stream",
          "name": "stdout",
          "text": [
            "Text 'You,' she said, 'come with me.' She led him to a hollow tree, a thick one. 'Climb this tree,' she said. 'Higher up there is a hole. Climb down into it. At the bottom you'll find a room where a dog is sitting on a chest. You must pick him up and set him on the floor. You can take as much money as you want from the chest, but then set the dog back where you found him. On the table there is a tinderbox. Put it in your pocket as well.' He did what she had told him to do and climbed down into the hole. Entering the room, he saw the dog seated on the chest. Its eyes were as large as a fist. 'See here,' said the soldier, 'you are a good fellow. You won't do anything to me!' He lifted the dog into his arms then set him on the floor. He opened the chest, which was filled with copper coins, and he filled his pockets with them. Then he closed the chest and set the dog back on it. He went into the second room, where there also was a light burning. He again saw a dog sitting on a chest, as in the first room, and this dog had eyes just as large as the first one. 'See here,' he said, 'you won't do anything to me. The first one didn't do anything to me.' He picked this one up as well and set him down away from the chest. He opened it, and it was filled with silver coins. He emptied out his pockets and filled them with the silver coins. Then he closed the chest and put the dog back on it. Then he went into the third room. There a dog was sitting on a chest as well, and he was as large as the first two. 'Oh,' said the soldier, 'I see that you three are good comrades. You won't do anything to me either.' He picked him up and set him on the floor. This chest was filled with gold ducats. He emptied out the silver coins and filled his pockets with ducats. Then he picked up the dog, placed him back on the chest, then returned to the tree. When he had climbed halfway up, the old woman asked, 'Do you have the tinderbox?' So he climbed back down, for he had left the tinderbox in the third room where he had filled his pockets with ducats. It was there on the table, and he put it into his pocket. He made his way back up the tree to the outside, but the old woman had disappeared. He never saw her again. He came to an inn where a baptism was being celebrated. There he took off his uniform and bought civilians' clothes for himself. He lived very well. He traveled about for nearly an entire year, finally coming to a royal city. There he took quarters in an inn. Gradually he spent all the money that he had. He owed large sum to the innkeeper. One night at bedtime he had nothing to strike a light with. There was usually something at hand, but not this time. He picked up the tinderbox, and struck one spark, when suddenly the three dogs appeared in his room. 'What is your wish?' they all three asked. 'Oh, I no longer have any money. Could you kindly bring me a chestful? 'You can always have as much money as you want from us,' said the dogs, and disappeared. Thus he outfitted himself as a cavalier. One day he was out walking when the princess came riding by in her carriage. That evening he struck a spark with his tinderbox, and the three dogs appeared. 'Give us a command!' they said. 'Bring the princess to me in her sleep!' In an instant she was there in his bed, and the dogs disappeared. Before daybreak he called the three dogs with his tinderbox, and they carried the princess back to her own bed. And thus he had her brought to him every night for two weeks. Then she said to her father, the king, 'For two weeks now I have been with this man every night at the inn.' The king summoned the soldier and asked the princess if he were the man. She said, 'Yes, he's the one.' 'How can you take my child to bed with you every night?' asked the king. 'Because she gives me pleasure,' said the soldier. The king had him thrown into prison, where he stayed for eight days with only bread and water. He was sentenced to die on the gallows. On the ninth day he was brought to a room in the castle where he was put on display for three days. Unfortunately he did not have his tinderbox with him, so he could not help himself. Happily, on the second day a servant from the inn where he had been sleeping came to get a look at him. The soldier said to him, 'You, bring my tinderbox to me. It is in the pocket of the coat hanging on the wall.' The servant returned with the tinderbox, and the soldier said to him, 'You can have the chest filled with gold and everything else that is in the room.' On the third day the king called up three hundred men who surrounded the soldier then took him to the gallows. Arriving there, the soldier said to the king, 'Every condemned person is granted three last wishes.' Then he reached into his pocket and rubbed against the tinderbox. The three dogs were suddenly there. The soldier said, 'Take them and tear them apart.' And they tore the three hundred soldiers to pieces. The king begged for mercy, asking the soldier to spare him. He said, 'I give you my princess in marriage, and you can become king as well.' Three days later they celebrated their wedding, and the three dogs sat at the table next to the soldier. Each of the dogs had a napkin, a fork, and a knife, just like the humans. After the meal the three dogs told him to call on them whenever he might need them. Then they disappeared. They were always available to him and helped him both in war and in peace.\n",
            "dict [101, 1005, 2017, 1010, 1005, 2016, 2056, 1010, 1005, 2272, 2007, 2033, 1012, 1005, 2016, 2419, 2032, 2000, 1037, 8892, 3392, 1010, 1037, 4317, 2028, 1012, 1005, 7105, 2023, 3392, 1010, 1005, 2016, 2056, 1012, 1005, 3020, 2039, 2045, 2003, 1037, 4920, 1012, 7105, 2091, 2046, 2009, 1012, 2012, 1996, 3953, 2017, 1005, 2222, 2424, 1037, 2282, 2073, 1037, 3899, 2003, 3564, 2006, 1037, 3108, 1012, 2017, 2442, 4060, 2032, 2039, 1998, 2275, 2032, 2006, 1996, 2723, 1012, 2017, 2064, 2202, 2004, 2172, 2769, 2004, 2017, 2215, 2013, 1996, 3108, 1010, 2021, 2059, 2275, 1996, 3899, 2067, 2073, 2017, 2179, 2032, 1012, 2006, 1996, 2795, 2045, 2003, 1037, 9543, 4063, 8758, 1012, 2404, 2009, 1999, 2115, 4979, 2004, 2092, 1012, 1005, 2002, 2106, 2054, 2016, 2018, 2409, 2032, 2000, 2079, 1998, 6589, 2091, 2046, 1996, 4920, 1012, 5738, 1996, 2282, 1010, 2002, 2387, 1996, 3899, 8901, 2006, 1996, 3108, 1012, 2049, 2159, 2020, 2004, 2312, 2004, 1037, 7345, 1012, 1005, 2156, 2182, 1010, 1005, 2056, 1996, 5268, 1010, 1005, 2017, 2024, 1037, 2204, 3507, 1012, 2017, 2180, 1005, 1056, 2079, 2505, 2000, 2033, 999, 1005, 2002, 4196, 1996, 3899, 2046, 2010, 2608, 2059, 2275, 2032, 2006, 1996, 2723, 1012, 2002, 2441, 1996, 3108, 1010, 2029, 2001, 3561, 2007, 6967, 7824, 1010, 1998, 2002, 3561, 2010, 10306, 2007, 2068, 1012, 2059, 2002, 2701, 1996, 3108, 1998, 2275, 1996, 3899, 2067, 2006, 2009, 1012, 2002, 2253, 2046, 1996, 2117, 2282, 1010, 2073, 2045, 2036, 2001, 1037, 2422, 5255, 1012, 2002, 2153, 2387, 1037, 3899, 3564, 2006, 1037, 3108, 1010, 2004, 1999, 1996, 2034, 2282, 1010, 1998, 2023, 3899, 2018, 2159, 2074, 2004, 2312, 2004, 1996, 2034, 2028, 1012, 1005, 2156, 2182, 1010, 1005, 2002, 2056, 1010, 1005, 2017, 2180, 1005, 1056, 2079, 2505, 2000, 2033, 1012, 1996, 2034, 2028, 2134, 1005, 1056, 2079, 2505, 2000, 2033, 1012, 1005, 2002, 3856, 2023, 2028, 2039, 2004, 2092, 1998, 2275, 2032, 2091, 2185, 2013, 1996, 3108, 1012, 2002, 2441, 2009, 1010, 1998, 2009, 2001, 3561, 2007, 3165, 7824, 1012, 2002, 21764, 2041, 2010, 10306, 1998, 3561, 2068, 2007, 1996, 3165, 7824, 1012, 2059, 2002, 2701, 1996, 3108, 1998, 2404, 1996, 3899, 2067, 2006, 2009, 1012, 2059, 2002, 2253, 2046, 1996, 2353, 2282, 1012, 2045, 1037, 3899, 2001, 3564, 2006, 1037, 3108, 2004, 2092, 1010, 1998, 2002, 2001, 2004, 2312, 2004, 1996, 2034, 2048, 1012, 1005, 2821, 1010, 1005, 2056, 1996, 5268, 1010, 1005, 1045, 2156, 2008, 2017, 2093, 2024, 2204, 19033, 1012, 2017, 2180, 1005, 1056, 2079, 2505, 2000, 2033, 2593, 1012, 1005, 2002, 3856, 2032, 2039, 1998, 2275, 2032, 2006, 1996, 2723, 1012, 2023, 3108, 2001, 3561, 2007, 2751, 26363, 11149, 1012, 2002, 21764, 2041, 1996, 3165, 7824, 1998, 3561, 2010, 10306, 2007, 26363, 11149, 1012, 2059, 2002, 3856, 2039, 1996, 3899, 1010, 2872, 2032, 2067, 2006, 1996, 3108, 1010, 2059, 2513, 2000, 1996, 3392, 1012, 2043, 2002, 2018, 6589, 8576, 2039, 1010, 1996, 2214, 2450, 2356, 1010, 1005, 2079, 2017, 2031, 1996, 9543, 4063, 8758, 1029, 1005, 2061, 2002, 6589, 2067, 2091, 1010, 2005, 2002, 2018, 2187, 1996, 9543, 4063, 8758, 1999, 1996, 2353, 102]\n",
            "Text There was a couple here in Jutland who had a good farm, but they had no children. The wife was very distressed about this. She thought it was terrible that in their old age she and her husband should be cared for by outsiders. One day a beggarwoman came and said, 'I think that you are troubled. What is wrong with you?' 'Oh, I'm very concerned, because we have no children.' 'I'll give you some good advice,' said the beggarwoman. 'You should cut off your big toe, wrap it in cotton, and put it in a black pot, and then tomorrow you shall have a son. He will stay very small, but small and clever is much better than a big and stupid.' The strange woman went away, and the next day the couple had a little son. He was very small, and his mother gave him the name Svend Tomling. When the child was eight days old, his mother was making pancakes for her husband who was out in the field plowing. 'May I take the pancakes out to my father?' asked Svend from his bed. 'What! Can you talk, my boy? You've learned to talk very early; but no, you're still too little to go out to the field.' But it was no use. Svend wanted to go out. He took the pancakes and a bottle of beer in his hand and walked out to the field to his father. The man was very surprised when he saw his son coming with food. 'You stay here in the grass until I go home,' he said, 'because you are too little to come into the plowed furrows. You would get completely lost in the soil.' 'No, I want to sit up in the horse's ear. That is a good place for me,' said Svend Tomling. Then he got up there and shouted, 'Giddyup, giddyup! Forward!' A fine gentleman came driving by on the road, and he had his driver stop. He asked the plowman about the strange horse he had that was able to talk. 'It's not the horse,' said the man. 'It's my little son. He's sitting in the horse's ear.' 'Can I buy that son?' asked the gentleman. 'No, I want to keep him.' 'Sell me, father! Sell me, father!' shouted Svend. So his father sold him, and he got a good price for him. Svend sat in the back of the carriage on a chest that was filled with money. As they drove on, he began to throw the money out of the chest, one coin after the other, and Svend's father ran behind and picked them up. When there was no more money in the chest, Svend jumped out of it onto the road. He could not find his way home, so he just lay there on the road. That night some thieves came by, talking about how they wanted to steal some cheese from the deacon. 'Take me with you! Take me with you!' shouted Svend. The thieves were startled, but then they found him, and one thief picked him up and put him in his vest pocket. When they got to the deacon's, Svend went up into the loft to take the cheeses down. 'Do you want them hard or soft, sour or sweet?' shouted Svend Tomling. The shouting awakened the deacon. He came out, and the thieves ran away. The deacon went up into the loft, and Svend was also frightened. He hid in a bundle of straw. The next morning the deacon took the bundle of straw where Svend was hiding, and fed it to the cow. Later, the deacon's maidservent was milking the cow, but she came running in saying that there was a ghost in the cow, because it could talk. The deacon could not believe this, and said that he himself would milk the cow. When the deacon started milking, Svend Tomling shouted, 'Steady now, steady now! Keep trying, and the bucket will soon be full!' This startled the deacon, and he swore that the cow should be slaughtered. This was done, and the entrails were thrown out onto the manure pile. That night a fox came and started to eat the entrails. 'Will you soon be finished, Reynard?' cried Svend. This scared the fox, and it ran away. Then a mangy old dog came by and began to drag off the entrails. Svend shouted again, 'Keep trying, you old snowman.' This frightend the dog, and it dropped the entrails. And then Svend ran home to his father.\n",
            "dict [101, 2045, 2001, 1037, 3232, 2182, 1999, 18414, 19270, 2040, 2018, 1037, 2204, 3888, 1010, 2021, 2027, 2018, 2053, 2336, 1012, 1996, 2564, 2001, 2200, 24305, 2055, 2023, 1012, 2016, 2245, 2009, 2001, 6659, 2008, 1999, 2037, 2214, 2287, 2016, 1998, 2014, 3129, 2323, 2022, 8725, 2005, 2011, 22361, 1012, 2028, 2154, 1037, 11693, 6843, 10169, 2234, 1998, 2056, 1010, 1005, 1045, 2228, 2008, 2017, 2024, 11587, 1012, 2054, 2003, 3308, 2007, 2017, 1029, 1005, 1005, 2821, 1010, 1045, 1005, 1049, 2200, 4986, 1010, 2138, 2057, 2031, 2053, 2336, 1012, 1005, 1005, 1045, 1005, 2222, 2507, 2017, 2070, 2204, 6040, 1010, 1005, 2056, 1996, 11693, 6843, 10169, 1012, 1005, 2017, 2323, 3013, 2125, 2115, 2502, 11756, 1010, 10236, 2009, 1999, 6557, 1010, 1998, 2404, 2009, 1999, 1037, 2304, 8962, 1010, 1998, 2059, 4826, 2017, 4618, 2031, 1037, 2365, 1012, 2002, 2097, 2994, 2200, 2235, 1010, 2021, 2235, 1998, 12266, 2003, 2172, 2488, 2084, 1037, 2502, 1998, 5236, 1012, 1005, 1996, 4326, 2450, 2253, 2185, 1010, 1998, 1996, 2279, 2154, 1996, 3232, 2018, 1037, 2210, 2365, 1012, 2002, 2001, 2200, 2235, 1010, 1998, 2010, 2388, 2435, 2032, 1996, 2171, 21313, 2094, 3419, 2989, 1012, 2043, 1996, 2775, 2001, 2809, 2420, 2214, 1010, 2010, 2388, 2001, 2437, 28470, 2005, 2014, 3129, 2040, 2001, 2041, 1999, 1996, 2492, 20228, 14138, 1012, 1005, 2089, 1045, 2202, 1996, 28470, 2041, 2000, 2026, 2269, 1029, 1005, 2356, 21313, 2094, 2013, 2010, 2793, 1012, 1005, 2054, 999, 2064, 2017, 2831, 1010, 2026, 2879, 1029, 2017, 1005, 2310, 4342, 2000, 2831, 2200, 2220, 1025, 2021, 2053, 1010, 2017, 1005, 2128, 2145, 2205, 2210, 2000, 2175, 2041, 2000, 1996, 2492, 1012, 1005, 2021, 2009, 2001, 2053, 2224, 1012, 21313, 2094, 2359, 2000, 2175, 2041, 1012, 2002, 2165, 1996, 28470, 1998, 1037, 5835, 1997, 5404, 1999, 2010, 2192, 1998, 2939, 2041, 2000, 1996, 2492, 2000, 2010, 2269, 1012, 1996, 2158, 2001, 2200, 4527, 2043, 2002, 2387, 2010, 2365, 2746, 2007, 2833, 1012, 1005, 2017, 2994, 2182, 1999, 1996, 5568, 2127, 1045, 2175, 2188, 1010, 1005, 2002, 2056, 1010, 1005, 2138, 2017, 2024, 2205, 2210, 2000, 2272, 2046, 1996, 20228, 15096, 6519, 10524, 2015, 1012, 2017, 2052, 2131, 3294, 2439, 1999, 1996, 5800, 1012, 1005, 1005, 2053, 1010, 1045, 2215, 2000, 4133, 2039, 1999, 1996, 3586, 1005, 1055, 4540, 1012, 2008, 2003, 1037, 2204, 2173, 2005, 2033, 1010, 1005, 2056, 21313, 2094, 3419, 2989, 1012, 2059, 2002, 2288, 2039, 2045, 1998, 6626, 1010, 1005, 21025, 14968, 6279, 1010, 21025, 14968, 6279, 999, 2830, 999, 1005, 1037, 2986, 10170, 2234, 4439, 2011, 2006, 1996, 2346, 1010, 1998, 2002, 2018, 2010, 4062, 2644, 1012, 2002, 2356, 1996, 20228, 5004, 2386, 2055, 1996, 4326, 3586, 2002, 2018, 2008, 2001, 2583, 2000, 2831, 1012, 1005, 2009, 1005, 1055, 2025, 1996, 3586, 1010, 1005, 2056, 1996, 2158, 1012, 1005, 2009, 1005, 1055, 2026, 2210, 2365, 1012, 2002, 1005, 1055, 3564, 1999, 1996, 3586, 1005, 1055, 4540, 1012, 1005, 1005, 2064, 1045, 4965, 2008, 2365, 1029, 1005, 2356, 1996, 10170, 1012, 1005, 2053, 1010, 1045, 2215, 2000, 2562, 2032, 1012, 1005, 1005, 5271, 2033, 1010, 2269, 999, 5271, 102]\n",
            "Text Once upon a time a little boy was walking down a road. After he had gone a piece he found a chest. 'For sure there is something rare in this chest,' he said to himself. But however he examined it, he found no way to open it. 'That is very strange,' he thought. When he had gone on a piece he found a little key. So he stopped and sat down, and he thought it would be good if the key fit the chest, for there was a little keyhole in it. So he put the little key into his pocket. First he blew into the key's shaft. Then he blew into the keyhole. Then he put the key into the keyhole and turned it around. 'Snap!' went the lock. And then he took hold of the lock, and the chest opened. And can you guess what was in the chest? -- It was a calf's tail. And if the calf's tail had been longer, this tale would have been longer as well. det rare i, Norske Folkeeventyr. finds a chest and a key) with type 2251 (if the tail had been longer,...).\n",
            "dict [101, 2320, 2588, 1037, 2051, 1037, 2210, 2879, 2001, 3788, 2091, 1037, 2346, 1012, 2044, 2002, 2018, 2908, 1037, 3538, 2002, 2179, 1037, 3108, 1012, 1005, 2005, 2469, 2045, 2003, 2242, 4678, 1999, 2023, 3108, 1010, 1005, 2002, 2056, 2000, 2370, 1012, 2021, 2174, 2002, 8920, 2009, 1010, 2002, 2179, 2053, 2126, 2000, 2330, 2009, 1012, 1005, 2008, 2003, 2200, 4326, 1010, 1005, 2002, 2245, 1012, 2043, 2002, 2018, 2908, 2006, 1037, 3538, 2002, 2179, 1037, 2210, 3145, 1012, 2061, 2002, 3030, 1998, 2938, 2091, 1010, 1998, 2002, 2245, 2009, 2052, 2022, 2204, 2065, 1996, 3145, 4906, 1996, 3108, 1010, 2005, 2045, 2001, 1037, 2210, 3145, 11484, 1999, 2009, 1012, 2061, 2002, 2404, 1996, 2210, 3145, 2046, 2010, 4979, 1012, 2034, 2002, 8682, 2046, 1996, 3145, 1005, 1055, 9093, 1012, 2059, 2002, 8682, 2046, 1996, 3145, 11484, 1012, 2059, 2002, 2404, 1996, 3145, 2046, 1996, 3145, 11484, 1998, 2357, 2009, 2105, 1012, 1005, 10245, 999, 1005, 2253, 1996, 5843, 1012, 1998, 2059, 2002, 2165, 2907, 1997, 1996, 5843, 1010, 1998, 1996, 3108, 2441, 1012, 1998, 2064, 2017, 3984, 2054, 2001, 1999, 1996, 3108, 1029, 1011, 1011, 2009, 2001, 1037, 19134, 1005, 1055, 5725, 1012, 1998, 2065, 1996, 19134, 1005, 1055, 5725, 2018, 2042, 2936, 1010, 2023, 6925, 2052, 2031, 2042, 2936, 2004, 2092, 1012, 20010, 4678, 1045, 1010, 4496, 17140, 5154, 4402, 15338, 12541, 1012, 4858, 1037, 3108, 1998, 1037, 3145, 1007, 2007, 2828, 14993, 2487, 1006, 2065, 1996, 5725, 2018, 2042, 2936, 1010, 1012, 1012, 1012, 1007, 1012, 102, 0, 0, 0, 0, 0, 0, 0, 0, 0, 0, 0, 0, 0, 0, 0, 0, 0, 0, 0, 0, 0, 0, 0, 0, 0, 0, 0, 0, 0, 0, 0, 0, 0, 0, 0, 0, 0, 0, 0, 0, 0, 0, 0, 0, 0, 0, 0, 0, 0, 0, 0, 0, 0, 0, 0, 0, 0, 0, 0, 0, 0, 0, 0, 0, 0, 0, 0, 0, 0, 0, 0, 0, 0, 0, 0, 0, 0, 0, 0, 0, 0, 0, 0, 0, 0, 0, 0, 0, 0, 0, 0, 0, 0, 0, 0, 0, 0, 0, 0, 0, 0, 0, 0, 0, 0, 0, 0, 0, 0, 0, 0, 0, 0, 0, 0, 0, 0, 0, 0, 0, 0, 0, 0, 0, 0, 0, 0, 0, 0, 0, 0, 0, 0, 0, 0, 0, 0, 0, 0, 0, 0, 0, 0, 0, 0, 0, 0, 0, 0, 0, 0, 0, 0, 0, 0, 0, 0, 0, 0, 0, 0, 0, 0, 0, 0, 0, 0, 0, 0, 0, 0, 0, 0, 0, 0, 0, 0, 0, 0, 0, 0, 0, 0, 0, 0, 0, 0, 0, 0, 0, 0, 0, 0, 0, 0, 0, 0, 0, 0, 0, 0, 0, 0, 0, 0, 0, 0, 0, 0, 0, 0, 0, 0, 0, 0, 0, 0, 0, 0, 0, 0, 0, 0, 0, 0, 0, 0, 0, 0, 0, 0, 0, 0, 0, 0, 0, 0, 0, 0, 0, 0, 0, 0, 0, 0, 0, 0, 0, 0, 0, 0, 0, 0, 0, 0, 0, 0, 0, 0, 0, 0, 0]\n"
          ]
        }
      ]
    },
    {
      "cell_type": "code",
      "source": [
        "print('Train_input_shape', train_inp.shape)\n",
        "print('Train_mask_shape', train_mask.shape)\n",
        "print('Validation_input_shape', val_inp.shape)\n",
        "print('Validation_mask_shape', val_mask.shape)\n",
        "print('Train_label_shape', train_label.shape)\n",
        "print('Validation_label_shape', val_label.shape)"
      ],
      "metadata": {
        "colab": {
          "base_uri": "https://localhost:8080/"
        },
        "id": "lbY1Ery7XbBD",
        "outputId": "8cee1208-df11-4eb4-81f9-b9e0ba6e52dc"
      },
      "execution_count": null,
      "outputs": [
        {
          "output_type": "stream",
          "name": "stdout",
          "text": [
            "Train_input_shape (684, 512)\n",
            "Train_mask_shape (684, 512)\n",
            "Validation_input_shape (229, 512)\n",
            "Validation_mask_shape (229, 512)\n",
            "Train_label_shape (684,)\n",
            "Validation_label_shape (229,)\n"
          ]
        }
      ]
    },
    {
      "cell_type": "code",
      "source": [
        "#bert_model = TFBertForSequenceClassification.from_pretrained('bert-base-uncased', num_labels = 182)\n",
        "bert_model = TFDistilBertForSequenceClassification.from_pretrained('distilbert-base-uncased', num_labels = 182)"
      ],
      "metadata": {
        "colab": {
          "base_uri": "https://localhost:8080/",
          "height": 156,
          "referenced_widgets": [
            "44b0c7d0427243118ddca52bf9b1e2f4",
            "639233977da94936a741aaceadb819db",
            "656f72ba44e349ad95679c43baa854b3",
            "78abecd7f1574c32b60c1e099096f0d1",
            "4de14d33344e4f728b17a888733b4b7b",
            "657ecb3d377b4c6db8085b9716422318",
            "9143e394d64142f3a00033050d1fefd1",
            "e5bc39a4ab2947d7a0f9cac43587975f",
            "f7d3575c299f47a88d0e7798e732fec0",
            "7e75c1b9f709429ba1f6d49f4bc60fef",
            "50580bc97217455782c8278e52298c14"
          ]
        },
        "id": "WmH4XuY8an1z",
        "outputId": "1ea604fa-b2ae-4227-bfe1-5d5fefc6084c"
      },
      "execution_count": null,
      "outputs": [
        {
          "output_type": "display_data",
          "data": {
            "text/plain": [
              "Downloading model.safetensors:   0%|          | 0.00/268M [00:00<?, ?B/s]"
            ],
            "application/vnd.jupyter.widget-view+json": {
              "version_major": 2,
              "version_minor": 0,
              "model_id": "44b0c7d0427243118ddca52bf9b1e2f4"
            }
          },
          "metadata": {}
        },
        {
          "output_type": "stream",
          "name": "stderr",
          "text": [
            "Some weights of the PyTorch model were not used when initializing the TF 2.0 model TFDistilBertForSequenceClassification: ['vocab_projector.bias', 'vocab_transform.bias', 'vocab_layer_norm.weight', 'vocab_layer_norm.bias', 'vocab_transform.weight']\n",
            "- This IS expected if you are initializing TFDistilBertForSequenceClassification from a PyTorch model trained on another task or with another architecture (e.g. initializing a TFBertForSequenceClassification model from a BertForPreTraining model).\n",
            "- This IS NOT expected if you are initializing TFDistilBertForSequenceClassification from a PyTorch model that you expect to be exactly identical (e.g. initializing a TFBertForSequenceClassification model from a BertForSequenceClassification model).\n",
            "Some weights or buffers of the TF 2.0 model TFDistilBertForSequenceClassification were not initialized from the PyTorch model and are newly initialized: ['pre_classifier.weight', 'pre_classifier.bias', 'classifier.weight', 'classifier.bias']\n",
            "You should probably TRAIN this model on a down-stream task to be able to use it for predictions and inference.\n"
          ]
        }
      ]
    },
    {
      "cell_type": "code",
      "source": [
        "log_dir = 'gdrive/MyDrive'"
      ],
      "metadata": {
        "id": "aRcArKdoa7Nw"
      },
      "execution_count": null,
      "outputs": []
    },
    {
      "cell_type": "code",
      "source": [
        "model_save_path = 'gdrive/MyDrive'"
      ],
      "metadata": {
        "id": "6X6Y1wdnewc2"
      },
      "execution_count": null,
      "outputs": []
    },
    {
      "cell_type": "code",
      "source": [
        "callbacks = [tf.keras.callbacks.ModelCheckpoint(filepath = model_save_path,\\\n",
        "                                                save_weights_only = True,\\\n",
        "                                                monitor = 'val_loss',\\\n",
        "                                                mode = 'min',\\\n",
        "                                                save_best_only = True),\\\n",
        "             tf.keras.callbacks.TensorBoard(log_dir = log_dir)]\n",
        "\n",
        "print('\\nBert Model ', bert_model.summary())\n",
        "\n",
        "loss = tf.keras.losses.SparseCategoricalCrossentropy(from_logits = True)\n",
        "metric = tf.keras.metrics.SparseCategoricalAccuracy('accuracy')\n",
        "optimizer = tf.keras.optimizers.Adam(learning_rate = 2e-5, epsilon = 1e-08)\n",
        "\n",
        "bert_model.compile(loss = loss, optimizer = optimizer, metrics = [metric])"
      ],
      "metadata": {
        "colab": {
          "base_uri": "https://localhost:8080/"
        },
        "id": "y__gsBPge4jM",
        "outputId": "4878a1cf-dd18-42a5-e56f-7e45a4044379"
      },
      "execution_count": null,
      "outputs": [
        {
          "output_type": "stream",
          "name": "stdout",
          "text": [
            "Model: \"tf_distil_bert_for_sequence_classification\"\n",
            "_________________________________________________________________\n",
            " Layer (type)                Output Shape              Param #   \n",
            "=================================================================\n",
            " distilbert (TFDistilBertMai  multiple                 66362880  \n",
            " nLayer)                                                         \n",
            "                                                                 \n",
            " pre_classifier (Dense)      multiple                  590592    \n",
            "                                                                 \n",
            " classifier (Dense)          multiple                  139958    \n",
            "                                                                 \n",
            " dropout_19 (Dropout)        multiple                  0         \n",
            "                                                                 \n",
            "=================================================================\n",
            "Total params: 67,093,430\n",
            "Trainable params: 67,093,430\n",
            "Non-trainable params: 0\n",
            "_________________________________________________________________\n",
            "\n",
            "Bert Model  None\n"
          ]
        }
      ]
    },
    {
      "cell_type": "code",
      "source": [
        "print(train_label.numpy())\n"
      ],
      "metadata": {
        "colab": {
          "base_uri": "https://localhost:8080/"
        },
        "id": "eICj2GwUiEog",
        "outputId": "cdb67fcc-36fd-47de-fb18-a435e9ac389e"
      },
      "execution_count": null,
      "outputs": [
        {
          "output_type": "stream",
          "name": "stdout",
          "text": [
            "[ 0  7 22 45 51 45 31 46 56 44  2 35  3 24 52 35 28 15 52 23 44 40 40 23\n",
            " 11 18 45 38 41 34 24 35 17 34 15  1 60 26  2 54 47 41 21 22 40  9 49 37\n",
            " 26 52 43  3 13 13 47 21 19 36 25 22 49 10 11  0 11 10  6 25 59 18 39  8\n",
            " 51 59 13 25 26 47 26 59  4 46 36  5 59  7 44 39 59 36 44 12 56 56 58 43\n",
            "  0 41 23 54 26 58 33 11 16 13 21  3  2  7 47 59 47 30 54 10 41 44 15 27\n",
            " 45 39 46 59  3 12 58 11 45 49 24 38 41 56 34 40 15 42 30 44 58 19  1 55\n",
            " 41 53 39 56  9 31 35 31 41  3 17 42  9 11  2 35  1 37 26 58 29 51 24 51\n",
            " 38 17  7 28 33 13 38  6 18 22 40 51  8 46 57 22 36 31 49  8 36 41 41 22\n",
            "  9 46 44 34  5 35 29 59 20 22 39  0 41 22 51  1 45 26 42 28 27 33 30 35\n",
            " 26  9 34 60 16 16 28 14 38 15 24 19 19 13 39 35 44 22 51 46 37 46 40 31\n",
            " 16  4  0 36 13 36 55 22 54  2 22 41 40 12 31 40 29 29 19 58 22 48 14 21\n",
            " 21 53  5  9 47 59 50 17 54 59 14 52 36 41  3 53  1 20 39 30 54 11 28 36\n",
            " 32 52 50 13 39 55 53 19 51 27 51  9 41 25 33 51 57 44 20 54 38 17 51 39\n",
            " 20 42 43 30 59 57 43 60 55 31 43 60 23 30 40 10 27 38 16 48 40 13  8 22\n",
            " 52 22 23 60 28  6 13 33 49 16 59 41 41  2 58 43 29 29 35 20 48 29 37 23\n",
            " 18 55 54 50 10  4 25  5  1 39 40 41 51 13 49 40 36 32  2 39 10 40 15 30\n",
            "  3 51 26 32 35  1  1 12 51 36 49 10 55  5 48 51 33 30  8 39 48 45 10  3\n",
            " 27 44 31 27 55 28  0  8  2  3 27 13 29 38 59 30 57  1  3 10 21 30 52 36\n",
            " 26 60 27 51 57 44 44 59 52 35  2  7 33 50  9 51 59 28 22 23 32 22 47 36\n",
            " 40 13 40 50  6  8  4 30 22  8 30  9 24 18 12  7  0 47 29 16 42 14 22 49\n",
            " 25 57 25 51 45 24 24 24 52 43 22 23  7 53  2  5 17 30 22  6 14 48 55 36\n",
            " 12 29 39 13 58 36 45  6 53 41  5 51 11  9 29  7  9 15  9 21 51 29 14  9\n",
            " 20 13  0  5  9 21 48 36 35 35 34 13 15 37 34  6 11 52 59 31 20 27 51 46\n",
            "  2 48 19 57  5  9 50 28 13 32 10 10 52 51 35 22 43 16 53 37 10 47 40 10\n",
            " 60  6 34  7 10 18 19 10  0 38  3 27 55 60  2 43  4 41 13 57 39 32 40 12\n",
            " 40 39 40 12 24 12  2  3 51 28 33 32 21 50 22  8 45 10 60 16  2  8 58 34\n",
            " 55 35 40 21 48 22 40  4 13  1 46 13 19 35 58 46 44 14 33 29 39 18 36 11\n",
            " 26 55 37 48 21 33 44 10 54  8 13 57  2 55  8 11 16 11  5 39 13 46 53  3\n",
            " 29 46 21 30 37 27 44 38  6 18 26 53]\n"
          ]
        }
      ]
    },
    {
      "cell_type": "code",
      "source": [
        "history = bert_model.fit([train_inp, train_mask],\\\n",
        "                         train_label,\\\n",
        "                         batch_size = 16,\\\n",
        "                         epochs = 4,\\\n",
        "                         validation_data = ([val_inp, val_mask], val_label),\\\n",
        "                         callbacks = callbacks)"
      ],
      "metadata": {
        "colab": {
          "base_uri": "https://localhost:8080/"
        },
        "id": "Ex103MJpf7kB",
        "outputId": "28e734ec-720b-4719-d1d7-2fafa14c2999"
      },
      "execution_count": null,
      "outputs": [
        {
          "output_type": "stream",
          "name": "stdout",
          "text": [
            "Epoch 1/4\n",
            "43/43 [==============================] - 64s 1s/step - loss: 5.0993 - accuracy: 0.0175 - val_loss: 4.9379 - val_accuracy: 0.0218\n",
            "Epoch 2/4\n",
            "43/43 [==============================] - 48s 1s/step - loss: 4.7880 - accuracy: 0.0497 - val_loss: 4.6711 - val_accuracy: 0.0611\n",
            "Epoch 3/4\n",
            "43/43 [==============================] - 49s 1s/step - loss: 4.4708 - accuracy: 0.0921 - val_loss: 4.4093 - val_accuracy: 0.0873\n",
            "Epoch 4/4\n",
            "43/43 [==============================] - 50s 1s/step - loss: 4.1208 - accuracy: 0.1520 - val_loss: 4.1580 - val_accuracy: 0.1266\n"
          ]
        }
      ]
    },
    {
      "cell_type": "code",
      "source": [
        "#make predictions\n",
        "bert_model_pred_probs = bert_model.predict(val_label)"
      ],
      "metadata": {
        "id": "fKszCzZ_hAtC",
        "colab": {
          "base_uri": "https://localhost:8080/"
        },
        "outputId": "8cf214ba-233f-494a-cde3-37ab7af66da9"
      },
      "execution_count": null,
      "outputs": [
        {
          "output_type": "stream",
          "name": "stdout",
          "text": [
            "8/8 [==============================] - 4s 19ms/step\n"
          ]
        }
      ]
    },
    {
      "cell_type": "code",
      "source": [
        "logits = bert_model_pred_probs.logits\n",
        "bert_model_preds = tf.squeeze(tf.round(logits))\n",
        "bert_model_preds"
      ],
      "metadata": {
        "colab": {
          "base_uri": "https://localhost:8080/"
        },
        "id": "DoRQqWvuihtV",
        "outputId": "7b1fbce8-9f03-4d04-92de-0df05e62d550"
      },
      "execution_count": null,
      "outputs": [
        {
          "output_type": "execute_result",
          "data": {
            "text/plain": [
              "<tf.Tensor: shape=(8, 182), dtype=float32, numpy=\n",
              "array([[ 0.,  0.,  0., ...,  0., -1., -1.],\n",
              "       [ 0.,  0.,  0., ...,  0., -1., -1.],\n",
              "       [ 0.,  0.,  0., ...,  0., -1., -1.],\n",
              "       ...,\n",
              "       [ 0.,  0.,  0., ...,  0., -1., -1.],\n",
              "       [ 0.,  0.,  0., ...,  0., -1., -1.],\n",
              "       [ 0.,  0.,  0., ...,  0., -1., -1.]], dtype=float32)>"
            ]
          },
          "metadata": {},
          "execution_count": 38
        }
      ]
    },
    {
      "cell_type": "code",
      "source": [
        "# Function to evaluate: accuracy, precision, recall, f1-score\n",
        "from sklearn.metrics import accuracy_score, precision_recall_fscore_support\n",
        "\n",
        "def calculate_results(y_true, y_pred):\n",
        "  \"\"\"\n",
        "  Calculates model accuracy, precision, recall and f1 score of a binary classification model.\n",
        "\n",
        "  Args:\n",
        "  -----\n",
        "  y_true = true labels in the form of a 1D array\n",
        "  y_pred = predicted labels in the form of a 1D array\n",
        "\n",
        "  Returns a dictionary of accuracy, precision, recall, f1-score.\n",
        "  \"\"\"\n",
        "  # Calculate model accuracy\n",
        "  model_accuracy = accuracy_score(y_true, y_pred) * 100\n",
        "  # Calculate model precision, recall and f1 score using \"weighted\" average\n",
        "  model_precision, model_recall, model_f1, _ = precision_recall_fscore_support(y_true, y_pred, average=\"weighted\")\n",
        "  model_results = {\"accuracy\": model_accuracy,\n",
        "                  \"precision\": model_precision,\n",
        "                  \"recall\": model_recall,\n",
        "                  \"f1\": model_f1}\n",
        "  return model_results"
      ],
      "metadata": {
        "id": "NFOZV4T9kFGf"
      },
      "execution_count": null,
      "outputs": []
    },
    {
      "cell_type": "code",
      "source": [
        "bert_model_results = calculate_results(y_true = val_label,\n",
        "                      y_pred = bert_model_preds)"
      ],
      "metadata": {
        "colab": {
          "base_uri": "https://localhost:8080/",
          "height": 339
        },
        "id": "Y6imqslvdL_O",
        "outputId": "f870c372-7b2e-45e9-ec6c-6e0c379886b6"
      },
      "execution_count": null,
      "outputs": [
        {
          "output_type": "error",
          "ename": "ValueError",
          "evalue": "ignored",
          "traceback": [
            "\u001b[0;31m---------------------------------------------------------------------------\u001b[0m",
            "\u001b[0;31mValueError\u001b[0m                                Traceback (most recent call last)",
            "\u001b[0;32m<ipython-input-45-1b83263dd406>\u001b[0m in \u001b[0;36m<cell line: 1>\u001b[0;34m()\u001b[0m\n\u001b[0;32m----> 1\u001b[0;31m bert_model_results = calculate_results(y_true = val_label,\n\u001b[0m\u001b[1;32m      2\u001b[0m                       y_pred = bert_model_preds)\n",
            "\u001b[0;32m<ipython-input-40-eab54528deb0>\u001b[0m in \u001b[0;36mcalculate_results\u001b[0;34m(y_true, y_pred)\u001b[0m\n\u001b[1;32m     14\u001b[0m   \"\"\"\n\u001b[1;32m     15\u001b[0m   \u001b[0;31m# Calculate model accuracy\u001b[0m\u001b[0;34m\u001b[0m\u001b[0;34m\u001b[0m\u001b[0m\n\u001b[0;32m---> 16\u001b[0;31m   \u001b[0mmodel_accuracy\u001b[0m \u001b[0;34m=\u001b[0m \u001b[0maccuracy_score\u001b[0m\u001b[0;34m(\u001b[0m\u001b[0my_true\u001b[0m\u001b[0;34m,\u001b[0m \u001b[0my_pred\u001b[0m\u001b[0;34m)\u001b[0m \u001b[0;34m*\u001b[0m \u001b[0;36m100\u001b[0m\u001b[0;34m\u001b[0m\u001b[0;34m\u001b[0m\u001b[0m\n\u001b[0m\u001b[1;32m     17\u001b[0m   \u001b[0;31m# Calculate model precision, recall and f1 score using \"weighted\" average\u001b[0m\u001b[0;34m\u001b[0m\u001b[0;34m\u001b[0m\u001b[0m\n\u001b[1;32m     18\u001b[0m   \u001b[0mmodel_precision\u001b[0m\u001b[0;34m,\u001b[0m \u001b[0mmodel_recall\u001b[0m\u001b[0;34m,\u001b[0m \u001b[0mmodel_f1\u001b[0m\u001b[0;34m,\u001b[0m \u001b[0m_\u001b[0m \u001b[0;34m=\u001b[0m \u001b[0mprecision_recall_fscore_support\u001b[0m\u001b[0;34m(\u001b[0m\u001b[0my_true\u001b[0m\u001b[0;34m,\u001b[0m \u001b[0my_pred\u001b[0m\u001b[0;34m,\u001b[0m \u001b[0maverage\u001b[0m\u001b[0;34m=\u001b[0m\u001b[0;34m\"weighted\"\u001b[0m\u001b[0;34m)\u001b[0m\u001b[0;34m\u001b[0m\u001b[0;34m\u001b[0m\u001b[0m\n",
            "\u001b[0;32m/usr/local/lib/python3.10/dist-packages/sklearn/utils/_param_validation.py\u001b[0m in \u001b[0;36mwrapper\u001b[0;34m(*args, **kwargs)\u001b[0m\n\u001b[1;32m    190\u001b[0m \u001b[0;34m\u001b[0m\u001b[0m\n\u001b[1;32m    191\u001b[0m             \u001b[0;32mtry\u001b[0m\u001b[0;34m:\u001b[0m\u001b[0;34m\u001b[0m\u001b[0;34m\u001b[0m\u001b[0m\n\u001b[0;32m--> 192\u001b[0;31m                 \u001b[0;32mreturn\u001b[0m \u001b[0mfunc\u001b[0m\u001b[0;34m(\u001b[0m\u001b[0;34m*\u001b[0m\u001b[0margs\u001b[0m\u001b[0;34m,\u001b[0m \u001b[0;34m**\u001b[0m\u001b[0mkwargs\u001b[0m\u001b[0;34m)\u001b[0m\u001b[0;34m\u001b[0m\u001b[0;34m\u001b[0m\u001b[0m\n\u001b[0m\u001b[1;32m    193\u001b[0m             \u001b[0;32mexcept\u001b[0m \u001b[0mInvalidParameterError\u001b[0m \u001b[0;32mas\u001b[0m \u001b[0me\u001b[0m\u001b[0;34m:\u001b[0m\u001b[0;34m\u001b[0m\u001b[0;34m\u001b[0m\u001b[0m\n\u001b[1;32m    194\u001b[0m                 \u001b[0;31m# When the function is just a wrapper around an estimator, we allow\u001b[0m\u001b[0;34m\u001b[0m\u001b[0;34m\u001b[0m\u001b[0m\n",
            "\u001b[0;32m/usr/local/lib/python3.10/dist-packages/sklearn/metrics/_classification.py\u001b[0m in \u001b[0;36maccuracy_score\u001b[0;34m(y_true, y_pred, normalize, sample_weight)\u001b[0m\n\u001b[1;32m    219\u001b[0m \u001b[0;34m\u001b[0m\u001b[0m\n\u001b[1;32m    220\u001b[0m     \u001b[0;31m# Compute accuracy for each possible representation\u001b[0m\u001b[0;34m\u001b[0m\u001b[0;34m\u001b[0m\u001b[0m\n\u001b[0;32m--> 221\u001b[0;31m     \u001b[0my_type\u001b[0m\u001b[0;34m,\u001b[0m \u001b[0my_true\u001b[0m\u001b[0;34m,\u001b[0m \u001b[0my_pred\u001b[0m \u001b[0;34m=\u001b[0m \u001b[0m_check_targets\u001b[0m\u001b[0;34m(\u001b[0m\u001b[0my_true\u001b[0m\u001b[0;34m,\u001b[0m \u001b[0my_pred\u001b[0m\u001b[0;34m)\u001b[0m\u001b[0;34m\u001b[0m\u001b[0;34m\u001b[0m\u001b[0m\n\u001b[0m\u001b[1;32m    222\u001b[0m     \u001b[0mcheck_consistent_length\u001b[0m\u001b[0;34m(\u001b[0m\u001b[0my_true\u001b[0m\u001b[0;34m,\u001b[0m \u001b[0my_pred\u001b[0m\u001b[0;34m,\u001b[0m \u001b[0msample_weight\u001b[0m\u001b[0;34m)\u001b[0m\u001b[0;34m\u001b[0m\u001b[0;34m\u001b[0m\u001b[0m\n\u001b[1;32m    223\u001b[0m     \u001b[0;32mif\u001b[0m \u001b[0my_type\u001b[0m\u001b[0;34m.\u001b[0m\u001b[0mstartswith\u001b[0m\u001b[0;34m(\u001b[0m\u001b[0;34m\"multilabel\"\u001b[0m\u001b[0;34m)\u001b[0m\u001b[0;34m:\u001b[0m\u001b[0;34m\u001b[0m\u001b[0;34m\u001b[0m\u001b[0m\n",
            "\u001b[0;32m/usr/local/lib/python3.10/dist-packages/sklearn/metrics/_classification.py\u001b[0m in \u001b[0;36m_check_targets\u001b[0;34m(y_true, y_pred)\u001b[0m\n\u001b[1;32m     84\u001b[0m     \u001b[0my_pred\u001b[0m \u001b[0;34m:\u001b[0m \u001b[0marray\u001b[0m \u001b[0;32mor\u001b[0m \u001b[0mindicator\u001b[0m \u001b[0mmatrix\u001b[0m\u001b[0;34m\u001b[0m\u001b[0;34m\u001b[0m\u001b[0m\n\u001b[1;32m     85\u001b[0m     \"\"\"\n\u001b[0;32m---> 86\u001b[0;31m     \u001b[0mcheck_consistent_length\u001b[0m\u001b[0;34m(\u001b[0m\u001b[0my_true\u001b[0m\u001b[0;34m,\u001b[0m \u001b[0my_pred\u001b[0m\u001b[0;34m)\u001b[0m\u001b[0;34m\u001b[0m\u001b[0;34m\u001b[0m\u001b[0m\n\u001b[0m\u001b[1;32m     87\u001b[0m     \u001b[0mtype_true\u001b[0m \u001b[0;34m=\u001b[0m \u001b[0mtype_of_target\u001b[0m\u001b[0;34m(\u001b[0m\u001b[0my_true\u001b[0m\u001b[0;34m,\u001b[0m \u001b[0minput_name\u001b[0m\u001b[0;34m=\u001b[0m\u001b[0;34m\"y_true\"\u001b[0m\u001b[0;34m)\u001b[0m\u001b[0;34m\u001b[0m\u001b[0;34m\u001b[0m\u001b[0m\n\u001b[1;32m     88\u001b[0m     \u001b[0mtype_pred\u001b[0m \u001b[0;34m=\u001b[0m \u001b[0mtype_of_target\u001b[0m\u001b[0;34m(\u001b[0m\u001b[0my_pred\u001b[0m\u001b[0;34m,\u001b[0m \u001b[0minput_name\u001b[0m\u001b[0;34m=\u001b[0m\u001b[0;34m\"y_pred\"\u001b[0m\u001b[0;34m)\u001b[0m\u001b[0;34m\u001b[0m\u001b[0;34m\u001b[0m\u001b[0m\n",
            "\u001b[0;32m/usr/local/lib/python3.10/dist-packages/sklearn/utils/validation.py\u001b[0m in \u001b[0;36mcheck_consistent_length\u001b[0;34m(*arrays)\u001b[0m\n\u001b[1;32m    395\u001b[0m     \u001b[0muniques\u001b[0m \u001b[0;34m=\u001b[0m \u001b[0mnp\u001b[0m\u001b[0;34m.\u001b[0m\u001b[0munique\u001b[0m\u001b[0;34m(\u001b[0m\u001b[0mlengths\u001b[0m\u001b[0;34m)\u001b[0m\u001b[0;34m\u001b[0m\u001b[0;34m\u001b[0m\u001b[0m\n\u001b[1;32m    396\u001b[0m     \u001b[0;32mif\u001b[0m \u001b[0mlen\u001b[0m\u001b[0;34m(\u001b[0m\u001b[0muniques\u001b[0m\u001b[0;34m)\u001b[0m \u001b[0;34m>\u001b[0m \u001b[0;36m1\u001b[0m\u001b[0;34m:\u001b[0m\u001b[0;34m\u001b[0m\u001b[0;34m\u001b[0m\u001b[0m\n\u001b[0;32m--> 397\u001b[0;31m         raise ValueError(\n\u001b[0m\u001b[1;32m    398\u001b[0m             \u001b[0;34m\"Found input variables with inconsistent numbers of samples: %r\"\u001b[0m\u001b[0;34m\u001b[0m\u001b[0;34m\u001b[0m\u001b[0m\n\u001b[1;32m    399\u001b[0m             \u001b[0;34m%\u001b[0m \u001b[0;34m[\u001b[0m\u001b[0mint\u001b[0m\u001b[0;34m(\u001b[0m\u001b[0ml\u001b[0m\u001b[0;34m)\u001b[0m \u001b[0;32mfor\u001b[0m \u001b[0ml\u001b[0m \u001b[0;32min\u001b[0m \u001b[0mlengths\u001b[0m\u001b[0;34m]\u001b[0m\u001b[0;34m\u001b[0m\u001b[0;34m\u001b[0m\u001b[0m\n",
            "\u001b[0;31mValueError\u001b[0m: Found input variables with inconsistent numbers of samples: [229, 8]"
          ]
        }
      ]
    },
    {
      "cell_type": "code",
      "source": [
        "print(val_inp.shape)\n",
        "print(bert_model_preds.shape)\n"
      ],
      "metadata": {
        "colab": {
          "base_uri": "https://localhost:8080/"
        },
        "id": "oY9PBnY0j8pm",
        "outputId": "74e50484-e11e-4174-9384-36bc2ab0407d"
      },
      "execution_count": null,
      "outputs": [
        {
          "output_type": "stream",
          "name": "stdout",
          "text": [
            "(229, 512)\n",
            "(8, 182)\n"
          ]
        }
      ]
    },
    {
      "cell_type": "code",
      "source": [],
      "metadata": {
        "id": "zk2M62RYlCk5"
      },
      "execution_count": null,
      "outputs": []
    }
  ]
}