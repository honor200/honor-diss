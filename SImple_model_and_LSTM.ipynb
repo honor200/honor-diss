{
  "nbformat": 4,
  "nbformat_minor": 0,
  "metadata": {
    "colab": {
      "provenance": [],
      "gpuType": "T4",
      "include_colab_link": true
    },
    "kernelspec": {
      "name": "python3",
      "display_name": "Python 3"
    },
    "language_info": {
      "name": "python"
    },
    "accelerator": "GPU"
  },
  "cells": [
    {
      "cell_type": "markdown",
      "metadata": {
        "id": "view-in-github",
        "colab_type": "text"
      },
      "source": [
        "<a href=\"https://colab.research.google.com/github/honor200/honor-diss/blob/main/SImple_model_and_LSTM.ipynb\" target=\"_parent\"><img src=\"https://colab.research.google.com/assets/colab-badge.svg\" alt=\"Open In Colab\"/></a>"
      ]
    },
    {
      "cell_type": "code",
      "execution_count": null,
      "metadata": {
        "colab": {
          "base_uri": "https://localhost:8080/"
        },
        "id": "4xjZKzOZvtSg",
        "outputId": "20386fd1-a219-4669-e73d-f3ca2acd2c89"
      },
      "outputs": [
        {
          "output_type": "stream",
          "name": "stdout",
          "text": [
            "--2023-07-17 15:20:39--  https://raw.githubusercontent.com/mrdbourke/tensorflow-deep-learning/main/extras/helper_functions.py\n",
            "Resolving raw.githubusercontent.com (raw.githubusercontent.com)... 185.199.108.133, 185.199.109.133, 185.199.110.133, ...\n",
            "Connecting to raw.githubusercontent.com (raw.githubusercontent.com)|185.199.108.133|:443... connected.\n",
            "HTTP request sent, awaiting response... 200 OK\n",
            "Length: 10246 (10K) [text/plain]\n",
            "Saving to: ‘helper_functions.py’\n",
            "\n",
            "\rhelper_functions.py   0%[                    ]       0  --.-KB/s               \rhelper_functions.py 100%[===================>]  10.01K  --.-KB/s    in 0s      \n",
            "\n",
            "2023-07-17 15:20:39 (88.7 MB/s) - ‘helper_functions.py’ saved [10246/10246]\n",
            "\n"
          ]
        }
      ],
      "source": [
        "!wget https://raw.githubusercontent.com/mrdbourke/tensorflow-deep-learning/main/extras/helper_functions.py"
      ]
    },
    {
      "cell_type": "code",
      "source": [
        "\n",
        "from helper_functions import unzip_data, create_tensorboard_callback, plot_loss_curves, compare_historys"
      ],
      "metadata": {
        "id": "aDG5xUnWwEma"
      },
      "execution_count": null,
      "outputs": []
    },
    {
      "cell_type": "code",
      "source": [
        "import pandas as pd\n",
        "df = pd.read_csv('aft.csv')\n",
        "df.drop(['provenance','notes','source','data_source','date_obtained'], axis = 1, inplace = True)"
      ],
      "metadata": {
        "id": "_8xYbQJEwHzk"
      },
      "execution_count": null,
      "outputs": []
    },
    {
      "cell_type": "code",
      "source": [
        "from sklearn import preprocessing\n",
        "\n",
        "# label_encoder object knows\n",
        "# how to understand word labels.\n",
        "label_encoder = preprocessing.LabelEncoder()\n",
        "\n",
        "# Encode labels in column 'atu_id'.\n",
        "df['atu_id']= label_encoder.fit_transform(df['atu_id'])\n",
        "\n",
        "df['atu_id'].unique()"
      ],
      "metadata": {
        "colab": {
          "base_uri": "https://localhost:8080/"
        },
        "id": "hCB6Swbh1YZo",
        "outputId": "204d2cf7-9891-455b-8bd6-bb1c504bcef7"
      },
      "execution_count": null,
      "outputs": [
        {
          "output_type": "execute_result",
          "data": {
            "text/plain": [
              "array([170,  38, 174,  47, 114,  95,   9, 111, 116,  82,  41, 164,  21,\n",
              "        99, 132, 103,  62,  37,  20,  39, 119, 109,  73,  74,  75,  76,\n",
              "        77,  78,  83,  80,  81, 173, 128, 129,  46, 113,  87,   3, 138,\n",
              "         7, 110, 102,   8,  10,  11,  12,  13,  69,  55,  54,  58,  57,\n",
              "        16,  53, 126, 167, 131,  49, 154,  19,  18, 155,   4, 140,  40,\n",
              "       121, 122, 117,  94,  61, 148, 108,  52, 127, 145, 158, 176,  25,\n",
              "       106, 142, 137, 118, 120,  24,  34,  45, 107,  42, 143, 171, 123,\n",
              "        68,  71,  96,  14, 104, 161, 169,  23,  91, 150,  50,   5, 124,\n",
              "        48, 160,   1, 151, 177, 178, 179, 180,  60,  43,  88,  89,  36,\n",
              "        90,   0,  51, 147, 130, 136, 101, 181, 175, 134,  93,   6, 100,\n",
              "        26,  84, 115,  28, 149, 105, 112,  64,  44,  97,  65, 162, 168,\n",
              "        67,  15,  17, 133, 172,  85,  92,  35,  79,  59, 156,  66,  56,\n",
              "       139,  86, 157,   2, 165,  30,  29, 166,  31,  32, 125,  98,  27,\n",
              "        33, 163, 152,  22, 141,  70, 146,  63,  72, 135, 144, 153, 159])"
            ]
          },
          "metadata": {},
          "execution_count": 12
        }
      ]
    },
    {
      "cell_type": "markdown",
      "source": [
        "## Solving Imbalance Issues"
      ],
      "metadata": {
        "id": "wSZVFrd2e72P"
      }
    },
    {
      "cell_type": "code",
      "source": [
        "# Finding the distribution of each class\n",
        "\n",
        "from collections import Counter\n",
        "from matplotlib import pyplot\n",
        "\n",
        "# split into input and output elements\n",
        "X, y = df['text'], df['atu_id']\n",
        "\n",
        "counter = Counter(y)\n",
        "for k,v in counter.items():\n",
        "\tper = v / len(y) * 100\n",
        "\tprint('Class=%d, n=%d (%.3f%%)' % (k, v, per))\n",
        "\n",
        " # plot the distribution\n",
        "pyplot.bar(counter.keys(), counter.values())\n",
        "pyplot.show()"
      ],
      "metadata": {
        "colab": {
          "base_uri": "https://localhost:8080/",
          "height": 1000
        },
        "id": "z7Jy1xrueCYN",
        "outputId": "85333964-aa4f-4f06-b1c3-ca6d34975138"
      },
      "execution_count": null,
      "outputs": [
        {
          "output_type": "stream",
          "name": "stdout",
          "text": [
            "Class=170, n=6 (0.395%)\n",
            "Class=38, n=19 (1.252%)\n",
            "Class=174, n=10 (0.659%)\n",
            "Class=47, n=6 (0.395%)\n",
            "Class=114, n=19 (1.252%)\n",
            "Class=95, n=11 (0.725%)\n",
            "Class=9, n=9 (0.593%)\n",
            "Class=111, n=8 (0.527%)\n",
            "Class=116, n=15 (0.988%)\n",
            "Class=82, n=4 (0.264%)\n",
            "Class=41, n=2 (0.132%)\n",
            "Class=164, n=12 (0.791%)\n",
            "Class=21, n=5 (0.329%)\n",
            "Class=99, n=1 (0.066%)\n",
            "Class=132, n=10 (0.659%)\n",
            "Class=103, n=8 (0.527%)\n",
            "Class=62, n=3 (0.198%)\n",
            "Class=37, n=8 (0.527%)\n",
            "Class=20, n=13 (0.856%)\n",
            "Class=39, n=5 (0.329%)\n",
            "Class=119, n=10 (0.659%)\n",
            "Class=109, n=12 (0.791%)\n",
            "Class=73, n=1 (0.066%)\n",
            "Class=74, n=5 (0.329%)\n",
            "Class=75, n=13 (0.856%)\n",
            "Class=76, n=5 (0.329%)\n",
            "Class=77, n=8 (0.527%)\n",
            "Class=78, n=2 (0.132%)\n",
            "Class=83, n=15 (0.988%)\n",
            "Class=80, n=1 (0.066%)\n",
            "Class=81, n=2 (0.132%)\n",
            "Class=173, n=4 (0.264%)\n",
            "Class=128, n=21 (1.383%)\n",
            "Class=129, n=26 (1.713%)\n",
            "Class=46, n=4 (0.264%)\n",
            "Class=113, n=16 (1.054%)\n",
            "Class=87, n=12 (0.791%)\n",
            "Class=3, n=11 (0.725%)\n",
            "Class=138, n=18 (1.186%)\n",
            "Class=7, n=15 (0.988%)\n",
            "Class=110, n=7 (0.461%)\n",
            "Class=102, n=10 (0.659%)\n",
            "Class=8, n=2 (0.132%)\n",
            "Class=10, n=8 (0.527%)\n",
            "Class=11, n=5 (0.329%)\n",
            "Class=12, n=8 (0.527%)\n",
            "Class=13, n=15 (0.988%)\n",
            "Class=69, n=6 (0.395%)\n",
            "Class=55, n=12 (0.791%)\n",
            "Class=54, n=6 (0.395%)\n",
            "Class=58, n=2 (0.132%)\n",
            "Class=57, n=26 (1.713%)\n",
            "Class=16, n=5 (0.329%)\n",
            "Class=53, n=8 (0.527%)\n",
            "Class=126, n=16 (1.054%)\n",
            "Class=167, n=6 (0.395%)\n",
            "Class=131, n=5 (0.329%)\n",
            "Class=49, n=15 (0.988%)\n",
            "Class=154, n=8 (0.527%)\n",
            "Class=19, n=3 (0.198%)\n",
            "Class=18, n=5 (0.329%)\n",
            "Class=155, n=2 (0.132%)\n",
            "Class=4, n=13 (0.856%)\n",
            "Class=140, n=2 (0.132%)\n",
            "Class=40, n=6 (0.395%)\n",
            "Class=121, n=3 (0.198%)\n",
            "Class=122, n=18 (1.186%)\n",
            "Class=117, n=13 (0.856%)\n",
            "Class=94, n=6 (0.395%)\n",
            "Class=61, n=10 (0.659%)\n",
            "Class=148, n=17 (1.120%)\n",
            "Class=108, n=16 (1.054%)\n",
            "Class=52, n=7 (0.461%)\n",
            "Class=127, n=2 (0.132%)\n",
            "Class=145, n=4 (0.264%)\n",
            "Class=158, n=11 (0.725%)\n",
            "Class=176, n=11 (0.725%)\n",
            "Class=25, n=4 (0.264%)\n",
            "Class=106, n=13 (0.856%)\n",
            "Class=142, n=3 (0.198%)\n",
            "Class=137, n=12 (0.791%)\n",
            "Class=118, n=13 (0.856%)\n",
            "Class=120, n=5 (0.329%)\n",
            "Class=24, n=4 (0.264%)\n",
            "Class=34, n=1 (0.066%)\n",
            "Class=45, n=20 (1.318%)\n",
            "Class=107, n=5 (0.329%)\n",
            "Class=42, n=2 (0.132%)\n",
            "Class=143, n=16 (1.054%)\n",
            "Class=171, n=12 (0.791%)\n",
            "Class=123, n=4 (0.264%)\n",
            "Class=68, n=7 (0.461%)\n",
            "Class=71, n=5 (0.329%)\n",
            "Class=96, n=4 (0.264%)\n",
            "Class=14, n=5 (0.329%)\n",
            "Class=104, n=1 (0.066%)\n",
            "Class=161, n=7 (0.461%)\n",
            "Class=169, n=7 (0.461%)\n",
            "Class=23, n=2 (0.132%)\n",
            "Class=91, n=6 (0.395%)\n",
            "Class=150, n=7 (0.461%)\n",
            "Class=50, n=5 (0.329%)\n",
            "Class=5, n=5 (0.329%)\n",
            "Class=124, n=23 (1.515%)\n",
            "Class=48, n=3 (0.198%)\n",
            "Class=160, n=12 (0.791%)\n",
            "Class=1, n=5 (0.329%)\n",
            "Class=151, n=9 (0.593%)\n",
            "Class=177, n=20 (1.318%)\n",
            "Class=178, n=7 (0.461%)\n",
            "Class=179, n=14 (0.922%)\n",
            "Class=180, n=9 (0.593%)\n",
            "Class=60, n=5 (0.329%)\n",
            "Class=43, n=19 (1.252%)\n",
            "Class=88, n=5 (0.329%)\n",
            "Class=89, n=4 (0.264%)\n",
            "Class=36, n=5 (0.329%)\n",
            "Class=90, n=9 (0.593%)\n",
            "Class=0, n=8 (0.527%)\n",
            "Class=51, n=3 (0.198%)\n",
            "Class=147, n=3 (0.198%)\n",
            "Class=130, n=20 (1.318%)\n",
            "Class=136, n=7 (0.461%)\n",
            "Class=101, n=7 (0.461%)\n",
            "Class=181, n=6 (0.395%)\n",
            "Class=175, n=13 (0.856%)\n",
            "Class=134, n=5 (0.329%)\n",
            "Class=93, n=3 (0.198%)\n",
            "Class=6, n=9 (0.593%)\n",
            "Class=100, n=11 (0.725%)\n",
            "Class=26, n=14 (0.922%)\n",
            "Class=84, n=5 (0.329%)\n",
            "Class=115, n=3 (0.198%)\n",
            "Class=28, n=7 (0.461%)\n",
            "Class=149, n=5 (0.329%)\n",
            "Class=105, n=7 (0.461%)\n",
            "Class=112, n=9 (0.593%)\n",
            "Class=64, n=7 (0.461%)\n",
            "Class=44, n=6 (0.395%)\n",
            "Class=97, n=4 (0.264%)\n",
            "Class=65, n=2 (0.132%)\n",
            "Class=162, n=4 (0.264%)\n",
            "Class=168, n=8 (0.527%)\n",
            "Class=67, n=15 (0.988%)\n",
            "Class=15, n=3 (0.198%)\n",
            "Class=17, n=9 (0.593%)\n",
            "Class=133, n=7 (0.461%)\n",
            "Class=172, n=3 (0.198%)\n",
            "Class=85, n=7 (0.461%)\n",
            "Class=92, n=31 (2.042%)\n",
            "Class=35, n=4 (0.264%)\n",
            "Class=79, n=3 (0.198%)\n",
            "Class=59, n=8 (0.527%)\n",
            "Class=156, n=9 (0.593%)\n",
            "Class=66, n=4 (0.264%)\n",
            "Class=56, n=1 (0.066%)\n",
            "Class=139, n=13 (0.856%)\n",
            "Class=86, n=12 (0.791%)\n",
            "Class=157, n=30 (1.976%)\n",
            "Class=2, n=2 (0.132%)\n",
            "Class=165, n=5 (0.329%)\n",
            "Class=30, n=5 (0.329%)\n",
            "Class=29, n=12 (0.791%)\n",
            "Class=166, n=1 (0.066%)\n",
            "Class=31, n=6 (0.395%)\n",
            "Class=32, n=1 (0.066%)\n",
            "Class=125, n=10 (0.659%)\n",
            "Class=98, n=5 (0.329%)\n",
            "Class=27, n=3 (0.198%)\n",
            "Class=33, n=8 (0.527%)\n",
            "Class=163, n=8 (0.527%)\n",
            "Class=152, n=10 (0.659%)\n",
            "Class=22, n=14 (0.922%)\n",
            "Class=141, n=9 (0.593%)\n",
            "Class=70, n=3 (0.198%)\n",
            "Class=146, n=21 (1.383%)\n",
            "Class=63, n=10 (0.659%)\n",
            "Class=72, n=10 (0.659%)\n",
            "Class=135, n=1 (0.066%)\n",
            "Class=144, n=8 (0.527%)\n",
            "Class=153, n=12 (0.791%)\n",
            "Class=159, n=1 (0.066%)\n"
          ]
        },
        {
          "output_type": "display_data",
          "data": {
            "text/plain": [
              "<Figure size 640x480 with 1 Axes>"
            ],
            "image/png": "[encoded data removed]"
          },
          "metadata": {}
        }
      ]
    },
    {
      "cell_type": "code",
      "source": [
        "# Oversamplign the dataset\n",
        "from imblearn.over_sampling import SMOTE\n",
        "\n",
        "# transform the dataset\n",
        "oversample = SMOTE()\n",
        "X, y = oversample.fit_resample(X, y)\n",
        "# summarize distribution\n",
        "counter = Counter(y)\n",
        "for k,v in counter.items():\n",
        " per = v / len(y) * 100\n",
        " print('Class=%d, n=%d (%.3f%%)' % (k, v, per))\n",
        "# plot the distribution\n",
        "pyplot.bar(counter.keys(), counter.values())\n",
        "pyplot.show()"
      ],
      "metadata": {
        "colab": {
          "base_uri": "https://localhost:8080/",
          "height": 555
        },
        "id": "pnH6Jw0sfA2S",
        "outputId": "66a18b8a-df6c-46aa-85cb-6daf20f33b9e"
      },
      "execution_count": null,
      "outputs": [
        {
          "output_type": "error",
          "ename": "ValueError",
          "evalue": "ignored",
          "traceback": [
            "\u001b[0;31m---------------------------------------------------------------------------\u001b[0m",
            "\u001b[0;31mValueError\u001b[0m                                Traceback (most recent call last)",
            "\u001b[0;32m<ipython-input-21-8897b33a3b6c>\u001b[0m in \u001b[0;36m<cell line: 6>\u001b[0;34m()\u001b[0m\n\u001b[1;32m      4\u001b[0m \u001b[0;31m# transform the dataset\u001b[0m\u001b[0;34m\u001b[0m\u001b[0;34m\u001b[0m\u001b[0m\n\u001b[1;32m      5\u001b[0m \u001b[0moversample\u001b[0m \u001b[0;34m=\u001b[0m \u001b[0mSMOTE\u001b[0m\u001b[0;34m(\u001b[0m\u001b[0;34m)\u001b[0m\u001b[0;34m\u001b[0m\u001b[0;34m\u001b[0m\u001b[0m\n\u001b[0;32m----> 6\u001b[0;31m \u001b[0mX\u001b[0m\u001b[0;34m,\u001b[0m \u001b[0my\u001b[0m \u001b[0;34m=\u001b[0m \u001b[0moversample\u001b[0m\u001b[0;34m.\u001b[0m\u001b[0mfit_resample\u001b[0m\u001b[0;34m(\u001b[0m\u001b[0mX\u001b[0m\u001b[0;34m,\u001b[0m \u001b[0my\u001b[0m\u001b[0;34m)\u001b[0m\u001b[0;34m\u001b[0m\u001b[0;34m\u001b[0m\u001b[0m\n\u001b[0m\u001b[1;32m      7\u001b[0m \u001b[0;31m# summarize distribution\u001b[0m\u001b[0;34m\u001b[0m\u001b[0;34m\u001b[0m\u001b[0m\n\u001b[1;32m      8\u001b[0m \u001b[0mcounter\u001b[0m \u001b[0;34m=\u001b[0m \u001b[0mCounter\u001b[0m\u001b[0;34m(\u001b[0m\u001b[0my\u001b[0m\u001b[0;34m)\u001b[0m\u001b[0;34m\u001b[0m\u001b[0;34m\u001b[0m\u001b[0m\n",
            "\u001b[0;32m/usr/local/lib/python3.10/dist-packages/imblearn/base.py\u001b[0m in \u001b[0;36mfit_resample\u001b[0;34m(self, X, y)\u001b[0m\n\u001b[1;32m    201\u001b[0m         \"\"\"\n\u001b[1;32m    202\u001b[0m         \u001b[0mself\u001b[0m\u001b[0;34m.\u001b[0m\u001b[0m_validate_params\u001b[0m\u001b[0;34m(\u001b[0m\u001b[0;34m)\u001b[0m\u001b[0;34m\u001b[0m\u001b[0;34m\u001b[0m\u001b[0m\n\u001b[0;32m--> 203\u001b[0;31m         \u001b[0;32mreturn\u001b[0m \u001b[0msuper\u001b[0m\u001b[0;34m(\u001b[0m\u001b[0;34m)\u001b[0m\u001b[0;34m.\u001b[0m\u001b[0mfit_resample\u001b[0m\u001b[0;34m(\u001b[0m\u001b[0mX\u001b[0m\u001b[0;34m,\u001b[0m \u001b[0my\u001b[0m\u001b[0;34m)\u001b[0m\u001b[0;34m\u001b[0m\u001b[0;34m\u001b[0m\u001b[0m\n\u001b[0m\u001b[1;32m    204\u001b[0m \u001b[0;34m\u001b[0m\u001b[0m\n\u001b[1;32m    205\u001b[0m     \u001b[0;32mdef\u001b[0m \u001b[0m_more_tags\u001b[0m\u001b[0;34m(\u001b[0m\u001b[0mself\u001b[0m\u001b[0;34m)\u001b[0m\u001b[0;34m:\u001b[0m\u001b[0;34m\u001b[0m\u001b[0;34m\u001b[0m\u001b[0m\n",
            "\u001b[0;32m/usr/local/lib/python3.10/dist-packages/imblearn/base.py\u001b[0m in \u001b[0;36mfit_resample\u001b[0;34m(self, X, y)\u001b[0m\n\u001b[1;32m     80\u001b[0m         \u001b[0mcheck_classification_targets\u001b[0m\u001b[0;34m(\u001b[0m\u001b[0my\u001b[0m\u001b[0;34m)\u001b[0m\u001b[0;34m\u001b[0m\u001b[0;34m\u001b[0m\u001b[0m\n\u001b[1;32m     81\u001b[0m         \u001b[0marrays_transformer\u001b[0m \u001b[0;34m=\u001b[0m \u001b[0mArraysTransformer\u001b[0m\u001b[0;34m(\u001b[0m\u001b[0mX\u001b[0m\u001b[0;34m,\u001b[0m \u001b[0my\u001b[0m\u001b[0;34m)\u001b[0m\u001b[0;34m\u001b[0m\u001b[0;34m\u001b[0m\u001b[0m\n\u001b[0;32m---> 82\u001b[0;31m         \u001b[0mX\u001b[0m\u001b[0;34m,\u001b[0m \u001b[0my\u001b[0m\u001b[0;34m,\u001b[0m \u001b[0mbinarize_y\u001b[0m \u001b[0;34m=\u001b[0m \u001b[0mself\u001b[0m\u001b[0;34m.\u001b[0m\u001b[0m_check_X_y\u001b[0m\u001b[0;34m(\u001b[0m\u001b[0mX\u001b[0m\u001b[0;34m,\u001b[0m \u001b[0my\u001b[0m\u001b[0;34m)\u001b[0m\u001b[0;34m\u001b[0m\u001b[0;34m\u001b[0m\u001b[0m\n\u001b[0m\u001b[1;32m     83\u001b[0m \u001b[0;34m\u001b[0m\u001b[0m\n\u001b[1;32m     84\u001b[0m         self.sampling_strategy_ = check_sampling_strategy(\n",
            "\u001b[0;32m/usr/local/lib/python3.10/dist-packages/imblearn/base.py\u001b[0m in \u001b[0;36m_check_X_y\u001b[0;34m(self, X, y, accept_sparse)\u001b[0m\n\u001b[1;32m    154\u001b[0m             \u001b[0maccept_sparse\u001b[0m \u001b[0;34m=\u001b[0m \u001b[0;34m[\u001b[0m\u001b[0;34m\"csr\"\u001b[0m\u001b[0;34m,\u001b[0m \u001b[0;34m\"csc\"\u001b[0m\u001b[0;34m]\u001b[0m\u001b[0;34m\u001b[0m\u001b[0;34m\u001b[0m\u001b[0m\n\u001b[1;32m    155\u001b[0m         \u001b[0my\u001b[0m\u001b[0;34m,\u001b[0m \u001b[0mbinarize_y\u001b[0m \u001b[0;34m=\u001b[0m \u001b[0mcheck_target_type\u001b[0m\u001b[0;34m(\u001b[0m\u001b[0my\u001b[0m\u001b[0;34m,\u001b[0m \u001b[0mindicate_one_vs_all\u001b[0m\u001b[0;34m=\u001b[0m\u001b[0;32mTrue\u001b[0m\u001b[0;34m)\u001b[0m\u001b[0;34m\u001b[0m\u001b[0;34m\u001b[0m\u001b[0m\n\u001b[0;32m--> 156\u001b[0;31m         \u001b[0mX\u001b[0m\u001b[0;34m,\u001b[0m \u001b[0my\u001b[0m \u001b[0;34m=\u001b[0m \u001b[0mself\u001b[0m\u001b[0;34m.\u001b[0m\u001b[0m_validate_data\u001b[0m\u001b[0;34m(\u001b[0m\u001b[0mX\u001b[0m\u001b[0;34m,\u001b[0m \u001b[0my\u001b[0m\u001b[0;34m,\u001b[0m \u001b[0mreset\u001b[0m\u001b[0;34m=\u001b[0m\u001b[0;32mTrue\u001b[0m\u001b[0;34m,\u001b[0m \u001b[0maccept_sparse\u001b[0m\u001b[0;34m=\u001b[0m\u001b[0maccept_sparse\u001b[0m\u001b[0;34m)\u001b[0m\u001b[0;34m\u001b[0m\u001b[0;34m\u001b[0m\u001b[0m\n\u001b[0m\u001b[1;32m    157\u001b[0m         \u001b[0;32mreturn\u001b[0m \u001b[0mX\u001b[0m\u001b[0;34m,\u001b[0m \u001b[0my\u001b[0m\u001b[0;34m,\u001b[0m \u001b[0mbinarize_y\u001b[0m\u001b[0;34m\u001b[0m\u001b[0;34m\u001b[0m\u001b[0m\n\u001b[1;32m    158\u001b[0m \u001b[0;34m\u001b[0m\u001b[0m\n",
            "\u001b[0;32m/usr/local/lib/python3.10/dist-packages/sklearn/base.py\u001b[0m in \u001b[0;36m_validate_data\u001b[0;34m(self, X, y, reset, validate_separately, **check_params)\u001b[0m\n\u001b[1;32m    582\u001b[0m                 \u001b[0my\u001b[0m \u001b[0;34m=\u001b[0m \u001b[0mcheck_array\u001b[0m\u001b[0;34m(\u001b[0m\u001b[0my\u001b[0m\u001b[0;34m,\u001b[0m \u001b[0minput_name\u001b[0m\u001b[0;34m=\u001b[0m\u001b[0;34m\"y\"\u001b[0m\u001b[0;34m,\u001b[0m \u001b[0;34m**\u001b[0m\u001b[0mcheck_y_params\u001b[0m\u001b[0;34m)\u001b[0m\u001b[0;34m\u001b[0m\u001b[0;34m\u001b[0m\u001b[0m\n\u001b[1;32m    583\u001b[0m             \u001b[0;32melse\u001b[0m\u001b[0;34m:\u001b[0m\u001b[0;34m\u001b[0m\u001b[0;34m\u001b[0m\u001b[0m\n\u001b[0;32m--> 584\u001b[0;31m                 \u001b[0mX\u001b[0m\u001b[0;34m,\u001b[0m \u001b[0my\u001b[0m \u001b[0;34m=\u001b[0m \u001b[0mcheck_X_y\u001b[0m\u001b[0;34m(\u001b[0m\u001b[0mX\u001b[0m\u001b[0;34m,\u001b[0m \u001b[0my\u001b[0m\u001b[0;34m,\u001b[0m \u001b[0;34m**\u001b[0m\u001b[0mcheck_params\u001b[0m\u001b[0;34m)\u001b[0m\u001b[0;34m\u001b[0m\u001b[0;34m\u001b[0m\u001b[0m\n\u001b[0m\u001b[1;32m    585\u001b[0m             \u001b[0mout\u001b[0m \u001b[0;34m=\u001b[0m \u001b[0mX\u001b[0m\u001b[0;34m,\u001b[0m \u001b[0my\u001b[0m\u001b[0;34m\u001b[0m\u001b[0;34m\u001b[0m\u001b[0m\n\u001b[1;32m    586\u001b[0m \u001b[0;34m\u001b[0m\u001b[0m\n",
            "\u001b[0;32m/usr/local/lib/python3.10/dist-packages/sklearn/utils/validation.py\u001b[0m in \u001b[0;36mcheck_X_y\u001b[0;34m(X, y, accept_sparse, accept_large_sparse, dtype, order, copy, force_all_finite, ensure_2d, allow_nd, multi_output, ensure_min_samples, ensure_min_features, y_numeric, estimator)\u001b[0m\n\u001b[1;32m   1104\u001b[0m         )\n\u001b[1;32m   1105\u001b[0m \u001b[0;34m\u001b[0m\u001b[0m\n\u001b[0;32m-> 1106\u001b[0;31m     X = check_array(\n\u001b[0m\u001b[1;32m   1107\u001b[0m         \u001b[0mX\u001b[0m\u001b[0;34m,\u001b[0m\u001b[0;34m\u001b[0m\u001b[0;34m\u001b[0m\u001b[0m\n\u001b[1;32m   1108\u001b[0m         \u001b[0maccept_sparse\u001b[0m\u001b[0;34m=\u001b[0m\u001b[0maccept_sparse\u001b[0m\u001b[0;34m,\u001b[0m\u001b[0;34m\u001b[0m\u001b[0;34m\u001b[0m\u001b[0m\n",
            "\u001b[0;32m/usr/local/lib/python3.10/dist-packages/sklearn/utils/validation.py\u001b[0m in \u001b[0;36mcheck_array\u001b[0;34m(array, accept_sparse, accept_large_sparse, dtype, order, copy, force_all_finite, ensure_2d, allow_nd, ensure_min_samples, ensure_min_features, estimator, input_name)\u001b[0m\n\u001b[1;32m    877\u001b[0m                     \u001b[0marray\u001b[0m \u001b[0;34m=\u001b[0m \u001b[0mxp\u001b[0m\u001b[0;34m.\u001b[0m\u001b[0mastype\u001b[0m\u001b[0;34m(\u001b[0m\u001b[0marray\u001b[0m\u001b[0;34m,\u001b[0m \u001b[0mdtype\u001b[0m\u001b[0;34m,\u001b[0m \u001b[0mcopy\u001b[0m\u001b[0;34m=\u001b[0m\u001b[0;32mFalse\u001b[0m\u001b[0;34m)\u001b[0m\u001b[0;34m\u001b[0m\u001b[0;34m\u001b[0m\u001b[0m\n\u001b[1;32m    878\u001b[0m                 \u001b[0;32melse\u001b[0m\u001b[0;34m:\u001b[0m\u001b[0;34m\u001b[0m\u001b[0;34m\u001b[0m\u001b[0m\n\u001b[0;32m--> 879\u001b[0;31m                     \u001b[0marray\u001b[0m \u001b[0;34m=\u001b[0m \u001b[0m_asarray_with_order\u001b[0m\u001b[0;34m(\u001b[0m\u001b[0marray\u001b[0m\u001b[0;34m,\u001b[0m \u001b[0morder\u001b[0m\u001b[0;34m=\u001b[0m\u001b[0morder\u001b[0m\u001b[0;34m,\u001b[0m \u001b[0mdtype\u001b[0m\u001b[0;34m=\u001b[0m\u001b[0mdtype\u001b[0m\u001b[0;34m,\u001b[0m \u001b[0mxp\u001b[0m\u001b[0;34m=\u001b[0m\u001b[0mxp\u001b[0m\u001b[0;34m)\u001b[0m\u001b[0;34m\u001b[0m\u001b[0;34m\u001b[0m\u001b[0m\n\u001b[0m\u001b[1;32m    880\u001b[0m             \u001b[0;32mexcept\u001b[0m \u001b[0mComplexWarning\u001b[0m \u001b[0;32mas\u001b[0m \u001b[0mcomplex_warning\u001b[0m\u001b[0;34m:\u001b[0m\u001b[0;34m\u001b[0m\u001b[0;34m\u001b[0m\u001b[0m\n\u001b[1;32m    881\u001b[0m                 raise ValueError(\n",
            "\u001b[0;32m/usr/local/lib/python3.10/dist-packages/sklearn/utils/_array_api.py\u001b[0m in \u001b[0;36m_asarray_with_order\u001b[0;34m(array, dtype, order, copy, xp)\u001b[0m\n\u001b[1;32m    183\u001b[0m     \u001b[0;32mif\u001b[0m \u001b[0mxp\u001b[0m\u001b[0;34m.\u001b[0m\u001b[0m__name__\u001b[0m \u001b[0;32min\u001b[0m \u001b[0;34m{\u001b[0m\u001b[0;34m\"numpy\"\u001b[0m\u001b[0;34m,\u001b[0m \u001b[0;34m\"numpy.array_api\"\u001b[0m\u001b[0;34m}\u001b[0m\u001b[0;34m:\u001b[0m\u001b[0;34m\u001b[0m\u001b[0;34m\u001b[0m\u001b[0m\n\u001b[1;32m    184\u001b[0m         \u001b[0;31m# Use NumPy API to support order\u001b[0m\u001b[0;34m\u001b[0m\u001b[0;34m\u001b[0m\u001b[0m\n\u001b[0;32m--> 185\u001b[0;31m         \u001b[0marray\u001b[0m \u001b[0;34m=\u001b[0m \u001b[0mnumpy\u001b[0m\u001b[0;34m.\u001b[0m\u001b[0masarray\u001b[0m\u001b[0;34m(\u001b[0m\u001b[0marray\u001b[0m\u001b[0;34m,\u001b[0m \u001b[0morder\u001b[0m\u001b[0;34m=\u001b[0m\u001b[0morder\u001b[0m\u001b[0;34m,\u001b[0m \u001b[0mdtype\u001b[0m\u001b[0;34m=\u001b[0m\u001b[0mdtype\u001b[0m\u001b[0;34m)\u001b[0m\u001b[0;34m\u001b[0m\u001b[0;34m\u001b[0m\u001b[0m\n\u001b[0m\u001b[1;32m    186\u001b[0m         \u001b[0;32mreturn\u001b[0m \u001b[0mxp\u001b[0m\u001b[0;34m.\u001b[0m\u001b[0masarray\u001b[0m\u001b[0;34m(\u001b[0m\u001b[0marray\u001b[0m\u001b[0;34m,\u001b[0m \u001b[0mcopy\u001b[0m\u001b[0;34m=\u001b[0m\u001b[0mcopy\u001b[0m\u001b[0;34m)\u001b[0m\u001b[0;34m\u001b[0m\u001b[0;34m\u001b[0m\u001b[0m\n\u001b[1;32m    187\u001b[0m     \u001b[0;32melse\u001b[0m\u001b[0;34m:\u001b[0m\u001b[0;34m\u001b[0m\u001b[0;34m\u001b[0m\u001b[0m\n",
            "\u001b[0;32m/usr/local/lib/python3.10/dist-packages/pandas/core/series.py\u001b[0m in \u001b[0;36m__array__\u001b[0;34m(self, dtype)\u001b[0m\n\u001b[1;32m    891\u001b[0m               dtype='datetime64[ns]')\n\u001b[1;32m    892\u001b[0m         \"\"\"\n\u001b[0;32m--> 893\u001b[0;31m         \u001b[0;32mreturn\u001b[0m \u001b[0mnp\u001b[0m\u001b[0;34m.\u001b[0m\u001b[0masarray\u001b[0m\u001b[0;34m(\u001b[0m\u001b[0mself\u001b[0m\u001b[0;34m.\u001b[0m\u001b[0m_values\u001b[0m\u001b[0;34m,\u001b[0m \u001b[0mdtype\u001b[0m\u001b[0;34m)\u001b[0m\u001b[0;34m\u001b[0m\u001b[0;34m\u001b[0m\u001b[0m\n\u001b[0m\u001b[1;32m    894\u001b[0m \u001b[0;34m\u001b[0m\u001b[0m\n\u001b[1;32m    895\u001b[0m     \u001b[0;31m# ----------------------------------------------------------------------\u001b[0m\u001b[0;34m\u001b[0m\u001b[0;34m\u001b[0m\u001b[0m\n",
            "\u001b[0;31mValueError\u001b[0m: could not convert string to float: \"In one of the glens of Cantire there lived a young and loving pair who were blessed with one child, a fine healthy lad. They strove hard to provide themselves with the necessaries of life; but their croft was sterile and their crops scanty: and, after many bitter and serious consultations, it was agreed that they should separate for a season, with the hope to make their circumstances better, and that the wife should shift for herself and the lad, and that the husband should travel in search of a situation where he would have food and wages. Their separation was painful; but they comforted themselves with the promise to be true to each other, and to meet again in better circumstances. The husband had an aversion to become a soldier; so he sailed to Greenock, and from thence made his way into England, and traveled on until he met with a worthy farmer, with whom he agreed to work. The bargain was made by signs, for the highlander had no English; but after a time they came to understand each other quite well, and the highlander learned a little English. His master respected his servant very much; and the servant was steady, honest, and industrious in his service. Time passed on, year after year; and every year the highlander left his wages in his master's hands, until he had a pretty round sum to take. At length he prepared to return home to Cantire; and his master laid down all his wages on the table, and said, 'Wheth..."
          ]
        }
      ]
    },
    {
      "cell_type": "code",
      "source": [
        "df_shuffled = df.sample(frac=1, random_state=42) # shuffle with random_state=42 for reproducibility\n",
        "df_shuffled.head()"
      ],
      "metadata": {
        "colab": {
          "base_uri": "https://localhost:8080/",
          "height": 206
        },
        "id": "vfPfuEOOwn4m",
        "outputId": "f7824ff2-07a1-4c34-fe37-f024bd7431aa"
      },
      "execution_count": null,
      "outputs": [
        {
          "output_type": "execute_result",
          "data": {
            "text/plain": [
              "     atu_id                                       tale_title  \\\n",
              "142       3               The Story of the Simpleton Husband   \n",
              "6         4                                     Day-Dreaming   \n",
              "97        6                          Of Hearing Good Counsel   \n",
              "60       19                  The Story of the Little Red Hen   \n",
              "112       2  On the Blind Men and the Affair of the Elephant   \n",
              "\n",
              "                                                  text  \n",
              "142  There was once in olden time a foolish man and...  \n",
              "6    Now there was once a man at Bagdad who had sev...  \n",
              "97   An archer, catching a little bird called a nig...  \n",
              "60   There was once a little red hen. She was scrat...  \n",
              "112  There was a great city in the country of Ghur,...  "
            ],
            "text/html": [
              "\n",
              "\n",
              "  <div id=\"df-8923cfa6-06ca-44b1-8f7e-d839a4fdebe6\">\n",
              "    <div class=\"colab-df-container\">\n",
              "      <div>\n",
              "<style scoped>\n",
              "    .dataframe tbody tr th:only-of-type {\n",
              "        vertical-align: middle;\n",
              "    }\n",
              "\n",
              "    .dataframe tbody tr th {\n",
              "        vertical-align: top;\n",
              "    }\n",
              "\n",
              "    .dataframe thead th {\n",
              "        text-align: right;\n",
              "    }\n",
              "</style>\n",
              "<table border=\"1\" class=\"dataframe\">\n",
              "  <thead>\n",
              "    <tr style=\"text-align: right;\">\n",
              "      <th></th>\n",
              "      <th>atu_id</th>\n",
              "      <th>tale_title</th>\n",
              "      <th>text</th>\n",
              "    </tr>\n",
              "  </thead>\n",
              "  <tbody>\n",
              "    <tr>\n",
              "      <th>142</th>\n",
              "      <td>3</td>\n",
              "      <td>The Story of the Simpleton Husband</td>\n",
              "      <td>There was once in olden time a foolish man and...</td>\n",
              "    </tr>\n",
              "    <tr>\n",
              "      <th>6</th>\n",
              "      <td>4</td>\n",
              "      <td>Day-Dreaming</td>\n",
              "      <td>Now there was once a man at Bagdad who had sev...</td>\n",
              "    </tr>\n",
              "    <tr>\n",
              "      <th>97</th>\n",
              "      <td>6</td>\n",
              "      <td>Of Hearing Good Counsel</td>\n",
              "      <td>An archer, catching a little bird called a nig...</td>\n",
              "    </tr>\n",
              "    <tr>\n",
              "      <th>60</th>\n",
              "      <td>19</td>\n",
              "      <td>The Story of the Little Red Hen</td>\n",
              "      <td>There was once a little red hen. She was scrat...</td>\n",
              "    </tr>\n",
              "    <tr>\n",
              "      <th>112</th>\n",
              "      <td>2</td>\n",
              "      <td>On the Blind Men and the Affair of the Elephant</td>\n",
              "      <td>There was a great city in the country of Ghur,...</td>\n",
              "    </tr>\n",
              "  </tbody>\n",
              "</table>\n",
              "</div>\n",
              "      <button class=\"colab-df-convert\" onclick=\"convertToInteractive('df-8923cfa6-06ca-44b1-8f7e-d839a4fdebe6')\"\n",
              "              title=\"Convert this dataframe to an interactive table.\"\n",
              "              style=\"display:none;\">\n",
              "\n",
              "  <svg xmlns=\"http://www.w3.org/2000/svg\" height=\"24px\"viewBox=\"0 0 24 24\"\n",
              "       width=\"24px\">\n",
              "    <path d=\"M0 0h24v24H0V0z\" fill=\"none\"/>\n",
              "    <path d=\"M18.56 5.44l.94 2.06.94-2.06 2.06-.94-2.06-.94-.94-2.06-.94 2.06-2.06.94zm-11 1L8.5 8.5l.94-2.06 2.06-.94-2.06-.94L8.5 2.5l-.94 2.06-2.06.94zm10 10l.94 2.06.94-2.06 2.06-.94-2.06-.94-.94-2.06-.94 2.06-2.06.94z\"/><path d=\"M17.41 7.96l-1.37-1.37c-.4-.4-.92-.59-1.43-.59-.52 0-1.04.2-1.43.59L10.3 9.45l-7.72 7.72c-.78.78-.78 2.05 0 2.83L4 21.41c.39.39.9.59 1.41.59.51 0 1.02-.2 1.41-.59l7.78-7.78 2.81-2.81c.8-.78.8-2.07 0-2.86zM5.41 20L4 18.59l7.72-7.72 1.47 1.35L5.41 20z\"/>\n",
              "  </svg>\n",
              "      </button>\n",
              "\n",
              "\n",
              "\n",
              "    <div id=\"df-3c5bb369-fb30-476b-8b0e-ecff1d578cbe\">\n",
              "      <button class=\"colab-df-quickchart\" onclick=\"quickchart('df-3c5bb369-fb30-476b-8b0e-ecff1d578cbe')\"\n",
              "              title=\"Suggest charts.\"\n",
              "              style=\"display:none;\">\n",
              "\n",
              "<svg xmlns=\"http://www.w3.org/2000/svg\" height=\"24px\"viewBox=\"0 0 24 24\"\n",
              "     width=\"24px\">\n",
              "    <g>\n",
              "        <path d=\"M19 3H5c-1.1 0-2 .9-2 2v14c0 1.1.9 2 2 2h14c1.1 0 2-.9 2-2V5c0-1.1-.9-2-2-2zM9 17H7v-7h2v7zm4 0h-2V7h2v10zm4 0h-2v-4h2v4z\"/>\n",
              "    </g>\n",
              "</svg>\n",
              "      </button>\n",
              "    </div>\n",
              "\n",
              "<style>\n",
              "  .colab-df-quickchart {\n",
              "    background-color: #E8F0FE;\n",
              "    border: none;\n",
              "    border-radius: 50%;\n",
              "    cursor: pointer;\n",
              "    display: none;\n",
              "    fill: #1967D2;\n",
              "    height: 32px;\n",
              "    padding: 0 0 0 0;\n",
              "    width: 32px;\n",
              "  }\n",
              "\n",
              "  .colab-df-quickchart:hover {\n",
              "    background-color: #E2EBFA;\n",
              "    box-shadow: 0px 1px 2px rgba(60, 64, 67, 0.3), 0px 1px 3px 1px rgba(60, 64, 67, 0.15);\n",
              "    fill: #174EA6;\n",
              "  }\n",
              "\n",
              "  [theme=dark] .colab-df-quickchart {\n",
              "    background-color: #3B4455;\n",
              "    fill: #D2E3FC;\n",
              "  }\n",
              "\n",
              "  [theme=dark] .colab-df-quickchart:hover {\n",
              "    background-color: #434B5C;\n",
              "    box-shadow: 0px 1px 3px 1px rgba(0, 0, 0, 0.15);\n",
              "    filter: drop-shadow(0px 1px 2px rgba(0, 0, 0, 0.3));\n",
              "    fill: #FFFFFF;\n",
              "  }\n",
              "</style>\n",
              "\n",
              "    <script>\n",
              "      async function quickchart(key) {\n",
              "        const containerElement = document.querySelector('#' + key);\n",
              "        const charts = await google.colab.kernel.invokeFunction(\n",
              "            'suggestCharts', [key], {});\n",
              "      }\n",
              "    </script>\n",
              "\n",
              "      <script>\n",
              "\n",
              "function displayQuickchartButton(domScope) {\n",
              "  let quickchartButtonEl =\n",
              "    domScope.querySelector('#df-3c5bb369-fb30-476b-8b0e-ecff1d578cbe button.colab-df-quickchart');\n",
              "  quickchartButtonEl.style.display =\n",
              "    google.colab.kernel.accessAllowed ? 'block' : 'none';\n",
              "}\n",
              "\n",
              "        displayQuickchartButton(document);\n",
              "      </script>\n",
              "      <style>\n",
              "    .colab-df-container {\n",
              "      display:flex;\n",
              "      flex-wrap:wrap;\n",
              "      gap: 12px;\n",
              "    }\n",
              "\n",
              "    .colab-df-convert {\n",
              "      background-color: #E8F0FE;\n",
              "      border: none;\n",
              "      border-radius: 50%;\n",
              "      cursor: pointer;\n",
              "      display: none;\n",
              "      fill: #1967D2;\n",
              "      height: 32px;\n",
              "      padding: 0 0 0 0;\n",
              "      width: 32px;\n",
              "    }\n",
              "\n",
              "    .colab-df-convert:hover {\n",
              "      background-color: #E2EBFA;\n",
              "      box-shadow: 0px 1px 2px rgba(60, 64, 67, 0.3), 0px 1px 3px 1px rgba(60, 64, 67, 0.15);\n",
              "      fill: #174EA6;\n",
              "    }\n",
              "\n",
              "    [theme=dark] .colab-df-convert {\n",
              "      background-color: #3B4455;\n",
              "      fill: #D2E3FC;\n",
              "    }\n",
              "\n",
              "    [theme=dark] .colab-df-convert:hover {\n",
              "      background-color: #434B5C;\n",
              "      box-shadow: 0px 1px 3px 1px rgba(0, 0, 0, 0.15);\n",
              "      filter: drop-shadow(0px 1px 2px rgba(0, 0, 0, 0.3));\n",
              "      fill: #FFFFFF;\n",
              "    }\n",
              "  </style>\n",
              "\n",
              "      <script>\n",
              "        const buttonEl =\n",
              "          document.querySelector('#df-8923cfa6-06ca-44b1-8f7e-d839a4fdebe6 button.colab-df-convert');\n",
              "        buttonEl.style.display =\n",
              "          google.colab.kernel.accessAllowed ? 'block' : 'none';\n",
              "\n",
              "        async function convertToInteractive(key) {\n",
              "          const element = document.querySelector('#df-8923cfa6-06ca-44b1-8f7e-d839a4fdebe6');\n",
              "          const dataTable =\n",
              "            await google.colab.kernel.invokeFunction('convertToInteractive',\n",
              "                                                     [key], {});\n",
              "          if (!dataTable) return;\n",
              "\n",
              "          const docLinkHtml = 'Like what you see? Visit the ' +\n",
              "            '<a target=\"_blank\" href=https://colab.research.google.com/notebooks/data_table.ipynb>data table notebook</a>'\n",
              "            + ' to learn more about interactive tables.';\n",
              "          element.innerHTML = '';\n",
              "          dataTable['output_type'] = 'display_data';\n",
              "          await google.colab.output.renderOutput(dataTable, element);\n",
              "          const docLink = document.createElement('div');\n",
              "          docLink.innerHTML = docLinkHtml;\n",
              "          element.appendChild(docLink);\n",
              "        }\n",
              "      </script>\n",
              "    </div>\n",
              "  </div>\n"
            ]
          },
          "metadata": {},
          "execution_count": 6
        }
      ]
    },
    {
      "cell_type": "code",
      "source": [
        "train_df = df_shuffled[:int(len(df_shuffled)*0.8)]\n",
        "test_df = df_shuffled[int(len(df_shuffled)*0.8):]"
      ],
      "metadata": {
        "id": "W1Y6KwerxSWs"
      },
      "execution_count": null,
      "outputs": []
    },
    {
      "cell_type": "code",
      "source": [
        "train_df.tail()"
      ],
      "metadata": {
        "colab": {
          "base_uri": "https://localhost:8080/",
          "height": 206
        },
        "id": "XiQFnlGGymh-",
        "outputId": "ac7ab1bf-ac77-4ff2-b940-43d0d03436cb"
      },
      "execution_count": null,
      "outputs": [
        {
          "output_type": "execute_result",
          "data": {
            "text/plain": [
              "     atu_id                                         tale_title  \\\n",
              "166      26                                    The Seven Doves   \n",
              "72       23                         Don Giovanni de la Fortuna   \n",
              "220      16                           What Have You Got There?   \n",
              "134       8                A Young Monk Wanted to Have a Goose   \n",
              "204      13  The Transformed Mouse Seeks a Bridegroom (Panc...   \n",
              "\n",
              "                                                  text  \n",
              "166  There was once in the county of Arzano a good ...  \n",
              "72   One day he was walking down a broad road when ...  \n",
              "220  Two playfellows place their clenched fists one...  \n",
              "134  A hermit once took a young monk to the city. H...  \n",
              "204  On the shore of the Ganges there was a hermita...  "
            ],
            "text/html": [
              "\n",
              "\n",
              "  <div id=\"df-cedb0fc8-dba0-4bbb-9ca7-c0c0059671f7\">\n",
              "    <div class=\"colab-df-container\">\n",
              "      <div>\n",
              "<style scoped>\n",
              "    .dataframe tbody tr th:only-of-type {\n",
              "        vertical-align: middle;\n",
              "    }\n",
              "\n",
              "    .dataframe tbody tr th {\n",
              "        vertical-align: top;\n",
              "    }\n",
              "\n",
              "    .dataframe thead th {\n",
              "        text-align: right;\n",
              "    }\n",
              "</style>\n",
              "<table border=\"1\" class=\"dataframe\">\n",
              "  <thead>\n",
              "    <tr style=\"text-align: right;\">\n",
              "      <th></th>\n",
              "      <th>atu_id</th>\n",
              "      <th>tale_title</th>\n",
              "      <th>text</th>\n",
              "    </tr>\n",
              "  </thead>\n",
              "  <tbody>\n",
              "    <tr>\n",
              "      <th>166</th>\n",
              "      <td>26</td>\n",
              "      <td>The Seven Doves</td>\n",
              "      <td>There was once in the county of Arzano a good ...</td>\n",
              "    </tr>\n",
              "    <tr>\n",
              "      <th>72</th>\n",
              "      <td>23</td>\n",
              "      <td>Don Giovanni de la Fortuna</td>\n",
              "      <td>One day he was walking down a broad road when ...</td>\n",
              "    </tr>\n",
              "    <tr>\n",
              "      <th>220</th>\n",
              "      <td>16</td>\n",
              "      <td>What Have You Got There?</td>\n",
              "      <td>Two playfellows place their clenched fists one...</td>\n",
              "    </tr>\n",
              "    <tr>\n",
              "      <th>134</th>\n",
              "      <td>8</td>\n",
              "      <td>A Young Monk Wanted to Have a Goose</td>\n",
              "      <td>A hermit once took a young monk to the city. H...</td>\n",
              "    </tr>\n",
              "    <tr>\n",
              "      <th>204</th>\n",
              "      <td>13</td>\n",
              "      <td>The Transformed Mouse Seeks a Bridegroom (Panc...</td>\n",
              "      <td>On the shore of the Ganges there was a hermita...</td>\n",
              "    </tr>\n",
              "  </tbody>\n",
              "</table>\n",
              "</div>\n",
              "      <button class=\"colab-df-convert\" onclick=\"convertToInteractive('df-cedb0fc8-dba0-4bbb-9ca7-c0c0059671f7')\"\n",
              "              title=\"Convert this dataframe to an interactive table.\"\n",
              "              style=\"display:none;\">\n",
              "\n",
              "  <svg xmlns=\"http://www.w3.org/2000/svg\" height=\"24px\"viewBox=\"0 0 24 24\"\n",
              "       width=\"24px\">\n",
              "    <path d=\"M0 0h24v24H0V0z\" fill=\"none\"/>\n",
              "    <path d=\"M18.56 5.44l.94 2.06.94-2.06 2.06-.94-2.06-.94-.94-2.06-.94 2.06-2.06.94zm-11 1L8.5 8.5l.94-2.06 2.06-.94-2.06-.94L8.5 2.5l-.94 2.06-2.06.94zm10 10l.94 2.06.94-2.06 2.06-.94-2.06-.94-.94-2.06-.94 2.06-2.06.94z\"/><path d=\"M17.41 7.96l-1.37-1.37c-.4-.4-.92-.59-1.43-.59-.52 0-1.04.2-1.43.59L10.3 9.45l-7.72 7.72c-.78.78-.78 2.05 0 2.83L4 21.41c.39.39.9.59 1.41.59.51 0 1.02-.2 1.41-.59l7.78-7.78 2.81-2.81c.8-.78.8-2.07 0-2.86zM5.41 20L4 18.59l7.72-7.72 1.47 1.35L5.41 20z\"/>\n",
              "  </svg>\n",
              "      </button>\n",
              "\n",
              "\n",
              "\n",
              "    <div id=\"df-80d47ea5-60b5-4f24-81dc-cf8e10e2cdf5\">\n",
              "      <button class=\"colab-df-quickchart\" onclick=\"quickchart('df-80d47ea5-60b5-4f24-81dc-cf8e10e2cdf5')\"\n",
              "              title=\"Suggest charts.\"\n",
              "              style=\"display:none;\">\n",
              "\n",
              "<svg xmlns=\"http://www.w3.org/2000/svg\" height=\"24px\"viewBox=\"0 0 24 24\"\n",
              "     width=\"24px\">\n",
              "    <g>\n",
              "        <path d=\"M19 3H5c-1.1 0-2 .9-2 2v14c0 1.1.9 2 2 2h14c1.1 0 2-.9 2-2V5c0-1.1-.9-2-2-2zM9 17H7v-7h2v7zm4 0h-2V7h2v10zm4 0h-2v-4h2v4z\"/>\n",
              "    </g>\n",
              "</svg>\n",
              "      </button>\n",
              "    </div>\n",
              "\n",
              "<style>\n",
              "  .colab-df-quickchart {\n",
              "    background-color: #E8F0FE;\n",
              "    border: none;\n",
              "    border-radius: 50%;\n",
              "    cursor: pointer;\n",
              "    display: none;\n",
              "    fill: #1967D2;\n",
              "    height: 32px;\n",
              "    padding: 0 0 0 0;\n",
              "    width: 32px;\n",
              "  }\n",
              "\n",
              "  .colab-df-quickchart:hover {\n",
              "    background-color: #E2EBFA;\n",
              "    box-shadow: 0px 1px 2px rgba(60, 64, 67, 0.3), 0px 1px 3px 1px rgba(60, 64, 67, 0.15);\n",
              "    fill: #174EA6;\n",
              "  }\n",
              "\n",
              "  [theme=dark] .colab-df-quickchart {\n",
              "    background-color: #3B4455;\n",
              "    fill: #D2E3FC;\n",
              "  }\n",
              "\n",
              "  [theme=dark] .colab-df-quickchart:hover {\n",
              "    background-color: #434B5C;\n",
              "    box-shadow: 0px 1px 3px 1px rgba(0, 0, 0, 0.15);\n",
              "    filter: drop-shadow(0px 1px 2px rgba(0, 0, 0, 0.3));\n",
              "    fill: #FFFFFF;\n",
              "  }\n",
              "</style>\n",
              "\n",
              "    <script>\n",
              "      async function quickchart(key) {\n",
              "        const containerElement = document.querySelector('#' + key);\n",
              "        const charts = await google.colab.kernel.invokeFunction(\n",
              "            'suggestCharts', [key], {});\n",
              "      }\n",
              "    </script>\n",
              "\n",
              "      <script>\n",
              "\n",
              "function displayQuickchartButton(domScope) {\n",
              "  let quickchartButtonEl =\n",
              "    domScope.querySelector('#df-80d47ea5-60b5-4f24-81dc-cf8e10e2cdf5 button.colab-df-quickchart');\n",
              "  quickchartButtonEl.style.display =\n",
              "    google.colab.kernel.accessAllowed ? 'block' : 'none';\n",
              "}\n",
              "\n",
              "        displayQuickchartButton(document);\n",
              "      </script>\n",
              "      <style>\n",
              "    .colab-df-container {\n",
              "      display:flex;\n",
              "      flex-wrap:wrap;\n",
              "      gap: 12px;\n",
              "    }\n",
              "\n",
              "    .colab-df-convert {\n",
              "      background-color: #E8F0FE;\n",
              "      border: none;\n",
              "      border-radius: 50%;\n",
              "      cursor: pointer;\n",
              "      display: none;\n",
              "      fill: #1967D2;\n",
              "      height: 32px;\n",
              "      padding: 0 0 0 0;\n",
              "      width: 32px;\n",
              "    }\n",
              "\n",
              "    .colab-df-convert:hover {\n",
              "      background-color: #E2EBFA;\n",
              "      box-shadow: 0px 1px 2px rgba(60, 64, 67, 0.3), 0px 1px 3px 1px rgba(60, 64, 67, 0.15);\n",
              "      fill: #174EA6;\n",
              "    }\n",
              "\n",
              "    [theme=dark] .colab-df-convert {\n",
              "      background-color: #3B4455;\n",
              "      fill: #D2E3FC;\n",
              "    }\n",
              "\n",
              "    [theme=dark] .colab-df-convert:hover {\n",
              "      background-color: #434B5C;\n",
              "      box-shadow: 0px 1px 3px 1px rgba(0, 0, 0, 0.15);\n",
              "      filter: drop-shadow(0px 1px 2px rgba(0, 0, 0, 0.3));\n",
              "      fill: #FFFFFF;\n",
              "    }\n",
              "  </style>\n",
              "\n",
              "      <script>\n",
              "        const buttonEl =\n",
              "          document.querySelector('#df-cedb0fc8-dba0-4bbb-9ca7-c0c0059671f7 button.colab-df-convert');\n",
              "        buttonEl.style.display =\n",
              "          google.colab.kernel.accessAllowed ? 'block' : 'none';\n",
              "\n",
              "        async function convertToInteractive(key) {\n",
              "          const element = document.querySelector('#df-cedb0fc8-dba0-4bbb-9ca7-c0c0059671f7');\n",
              "          const dataTable =\n",
              "            await google.colab.kernel.invokeFunction('convertToInteractive',\n",
              "                                                     [key], {});\n",
              "          if (!dataTable) return;\n",
              "\n",
              "          const docLinkHtml = 'Like what you see? Visit the ' +\n",
              "            '<a target=\"_blank\" href=https://colab.research.google.com/notebooks/data_table.ipynb>data table notebook</a>'\n",
              "            + ' to learn more about interactive tables.';\n",
              "          element.innerHTML = '';\n",
              "          dataTable['output_type'] = 'display_data';\n",
              "          await google.colab.output.renderOutput(dataTable, element);\n",
              "          const docLink = document.createElement('div');\n",
              "          docLink.innerHTML = docLinkHtml;\n",
              "          element.appendChild(docLink);\n",
              "        }\n",
              "      </script>\n",
              "    </div>\n",
              "  </div>\n"
            ]
          },
          "metadata": {},
          "execution_count": 8
        }
      ]
    },
    {
      "cell_type": "code",
      "source": [
        "test_df.head()"
      ],
      "metadata": {
        "colab": {
          "base_uri": "https://localhost:8080/",
          "height": 206
        },
        "id": "5eh14zUGzbjT",
        "outputId": "254186c2-a63f-4fef-9322-42ad5fe31c5d"
      },
      "execution_count": null,
      "outputs": [
        {
          "output_type": "execute_result",
          "data": {
            "text/plain": [
              "     atu_id                            tale_title  \\\n",
              "230      27            Fair, Brown, and Trembling   \n",
              "63        0                   The Cat of Norrhult   \n",
              "54       19  The Ant and the Grasshopper (Jacobs)   \n",
              "107      30                         The Swineherd   \n",
              "50       19              An Ant and a Grasshopper   \n",
              "\n",
              "                                                  text  \n",
              "230  King Aedh Cúrucha lived in Tir Conal, and he h...  \n",
              "63   On the estate of Norrhult, in the parish of Ru...  \n",
              "54   'Why not come and chat with me,' said the gras...  \n",
              "107  There was once a poor prince; he had only a ti...  \n",
              "50   As the ants were airing their provisions one w...  "
            ],
            "text/html": [
              "\n",
              "\n",
              "  <div id=\"df-b80f2f54-23b8-437b-99df-094500065461\">\n",
              "    <div class=\"colab-df-container\">\n",
              "      <div>\n",
              "<style scoped>\n",
              "    .dataframe tbody tr th:only-of-type {\n",
              "        vertical-align: middle;\n",
              "    }\n",
              "\n",
              "    .dataframe tbody tr th {\n",
              "        vertical-align: top;\n",
              "    }\n",
              "\n",
              "    .dataframe thead th {\n",
              "        text-align: right;\n",
              "    }\n",
              "</style>\n",
              "<table border=\"1\" class=\"dataframe\">\n",
              "  <thead>\n",
              "    <tr style=\"text-align: right;\">\n",
              "      <th></th>\n",
              "      <th>atu_id</th>\n",
              "      <th>tale_title</th>\n",
              "      <th>text</th>\n",
              "    </tr>\n",
              "  </thead>\n",
              "  <tbody>\n",
              "    <tr>\n",
              "      <th>230</th>\n",
              "      <td>27</td>\n",
              "      <td>Fair, Brown, and Trembling</td>\n",
              "      <td>King Aedh Cúrucha lived in Tir Conal, and he h...</td>\n",
              "    </tr>\n",
              "    <tr>\n",
              "      <th>63</th>\n",
              "      <td>0</td>\n",
              "      <td>The Cat of Norrhult</td>\n",
              "      <td>On the estate of Norrhult, in the parish of Ru...</td>\n",
              "    </tr>\n",
              "    <tr>\n",
              "      <th>54</th>\n",
              "      <td>19</td>\n",
              "      <td>The Ant and the Grasshopper (Jacobs)</td>\n",
              "      <td>'Why not come and chat with me,' said the gras...</td>\n",
              "    </tr>\n",
              "    <tr>\n",
              "      <th>107</th>\n",
              "      <td>30</td>\n",
              "      <td>The Swineherd</td>\n",
              "      <td>There was once a poor prince; he had only a ti...</td>\n",
              "    </tr>\n",
              "    <tr>\n",
              "      <th>50</th>\n",
              "      <td>19</td>\n",
              "      <td>An Ant and a Grasshopper</td>\n",
              "      <td>As the ants were airing their provisions one w...</td>\n",
              "    </tr>\n",
              "  </tbody>\n",
              "</table>\n",
              "</div>\n",
              "      <button class=\"colab-df-convert\" onclick=\"convertToInteractive('df-b80f2f54-23b8-437b-99df-094500065461')\"\n",
              "              title=\"Convert this dataframe to an interactive table.\"\n",
              "              style=\"display:none;\">\n",
              "\n",
              "  <svg xmlns=\"http://www.w3.org/2000/svg\" height=\"24px\"viewBox=\"0 0 24 24\"\n",
              "       width=\"24px\">\n",
              "    <path d=\"M0 0h24v24H0V0z\" fill=\"none\"/>\n",
              "    <path d=\"M18.56 5.44l.94 2.06.94-2.06 2.06-.94-2.06-.94-.94-2.06-.94 2.06-2.06.94zm-11 1L8.5 8.5l.94-2.06 2.06-.94-2.06-.94L8.5 2.5l-.94 2.06-2.06.94zm10 10l.94 2.06.94-2.06 2.06-.94-2.06-.94-.94-2.06-.94 2.06-2.06.94z\"/><path d=\"M17.41 7.96l-1.37-1.37c-.4-.4-.92-.59-1.43-.59-.52 0-1.04.2-1.43.59L10.3 9.45l-7.72 7.72c-.78.78-.78 2.05 0 2.83L4 21.41c.39.39.9.59 1.41.59.51 0 1.02-.2 1.41-.59l7.78-7.78 2.81-2.81c.8-.78.8-2.07 0-2.86zM5.41 20L4 18.59l7.72-7.72 1.47 1.35L5.41 20z\"/>\n",
              "  </svg>\n",
              "      </button>\n",
              "\n",
              "\n",
              "\n",
              "    <div id=\"df-f7a56e4f-5002-4e30-948e-a0b9c7e3f8e9\">\n",
              "      <button class=\"colab-df-quickchart\" onclick=\"quickchart('df-f7a56e4f-5002-4e30-948e-a0b9c7e3f8e9')\"\n",
              "              title=\"Suggest charts.\"\n",
              "              style=\"display:none;\">\n",
              "\n",
              "<svg xmlns=\"http://www.w3.org/2000/svg\" height=\"24px\"viewBox=\"0 0 24 24\"\n",
              "     width=\"24px\">\n",
              "    <g>\n",
              "        <path d=\"M19 3H5c-1.1 0-2 .9-2 2v14c0 1.1.9 2 2 2h14c1.1 0 2-.9 2-2V5c0-1.1-.9-2-2-2zM9 17H7v-7h2v7zm4 0h-2V7h2v10zm4 0h-2v-4h2v4z\"/>\n",
              "    </g>\n",
              "</svg>\n",
              "      </button>\n",
              "    </div>\n",
              "\n",
              "<style>\n",
              "  .colab-df-quickchart {\n",
              "    background-color: #E8F0FE;\n",
              "    border: none;\n",
              "    border-radius: 50%;\n",
              "    cursor: pointer;\n",
              "    display: none;\n",
              "    fill: #1967D2;\n",
              "    height: 32px;\n",
              "    padding: 0 0 0 0;\n",
              "    width: 32px;\n",
              "  }\n",
              "\n",
              "  .colab-df-quickchart:hover {\n",
              "    background-color: #E2EBFA;\n",
              "    box-shadow: 0px 1px 2px rgba(60, 64, 67, 0.3), 0px 1px 3px 1px rgba(60, 64, 67, 0.15);\n",
              "    fill: #174EA6;\n",
              "  }\n",
              "\n",
              "  [theme=dark] .colab-df-quickchart {\n",
              "    background-color: #3B4455;\n",
              "    fill: #D2E3FC;\n",
              "  }\n",
              "\n",
              "  [theme=dark] .colab-df-quickchart:hover {\n",
              "    background-color: #434B5C;\n",
              "    box-shadow: 0px 1px 3px 1px rgba(0, 0, 0, 0.15);\n",
              "    filter: drop-shadow(0px 1px 2px rgba(0, 0, 0, 0.3));\n",
              "    fill: #FFFFFF;\n",
              "  }\n",
              "</style>\n",
              "\n",
              "    <script>\n",
              "      async function quickchart(key) {\n",
              "        const containerElement = document.querySelector('#' + key);\n",
              "        const charts = await google.colab.kernel.invokeFunction(\n",
              "            'suggestCharts', [key], {});\n",
              "      }\n",
              "    </script>\n",
              "\n",
              "      <script>\n",
              "\n",
              "function displayQuickchartButton(domScope) {\n",
              "  let quickchartButtonEl =\n",
              "    domScope.querySelector('#df-f7a56e4f-5002-4e30-948e-a0b9c7e3f8e9 button.colab-df-quickchart');\n",
              "  quickchartButtonEl.style.display =\n",
              "    google.colab.kernel.accessAllowed ? 'block' : 'none';\n",
              "}\n",
              "\n",
              "        displayQuickchartButton(document);\n",
              "      </script>\n",
              "      <style>\n",
              "    .colab-df-container {\n",
              "      display:flex;\n",
              "      flex-wrap:wrap;\n",
              "      gap: 12px;\n",
              "    }\n",
              "\n",
              "    .colab-df-convert {\n",
              "      background-color: #E8F0FE;\n",
              "      border: none;\n",
              "      border-radius: 50%;\n",
              "      cursor: pointer;\n",
              "      display: none;\n",
              "      fill: #1967D2;\n",
              "      height: 32px;\n",
              "      padding: 0 0 0 0;\n",
              "      width: 32px;\n",
              "    }\n",
              "\n",
              "    .colab-df-convert:hover {\n",
              "      background-color: #E2EBFA;\n",
              "      box-shadow: 0px 1px 2px rgba(60, 64, 67, 0.3), 0px 1px 3px 1px rgba(60, 64, 67, 0.15);\n",
              "      fill: #174EA6;\n",
              "    }\n",
              "\n",
              "    [theme=dark] .colab-df-convert {\n",
              "      background-color: #3B4455;\n",
              "      fill: #D2E3FC;\n",
              "    }\n",
              "\n",
              "    [theme=dark] .colab-df-convert:hover {\n",
              "      background-color: #434B5C;\n",
              "      box-shadow: 0px 1px 3px 1px rgba(0, 0, 0, 0.15);\n",
              "      filter: drop-shadow(0px 1px 2px rgba(0, 0, 0, 0.3));\n",
              "      fill: #FFFFFF;\n",
              "    }\n",
              "  </style>\n",
              "\n",
              "      <script>\n",
              "        const buttonEl =\n",
              "          document.querySelector('#df-b80f2f54-23b8-437b-99df-094500065461 button.colab-df-convert');\n",
              "        buttonEl.style.display =\n",
              "          google.colab.kernel.accessAllowed ? 'block' : 'none';\n",
              "\n",
              "        async function convertToInteractive(key) {\n",
              "          const element = document.querySelector('#df-b80f2f54-23b8-437b-99df-094500065461');\n",
              "          const dataTable =\n",
              "            await google.colab.kernel.invokeFunction('convertToInteractive',\n",
              "                                                     [key], {});\n",
              "          if (!dataTable) return;\n",
              "\n",
              "          const docLinkHtml = 'Like what you see? Visit the ' +\n",
              "            '<a target=\"_blank\" href=https://colab.research.google.com/notebooks/data_table.ipynb>data table notebook</a>'\n",
              "            + ' to learn more about interactive tables.';\n",
              "          element.innerHTML = '';\n",
              "          dataTable['output_type'] = 'display_data';\n",
              "          await google.colab.output.renderOutput(dataTable, element);\n",
              "          const docLink = document.createElement('div');\n",
              "          docLink.innerHTML = docLinkHtml;\n",
              "          element.appendChild(docLink);\n",
              "        }\n",
              "      </script>\n",
              "    </div>\n",
              "  </div>\n"
            ]
          },
          "metadata": {},
          "execution_count": 9
        }
      ]
    },
    {
      "cell_type": "code",
      "source": [
        "len(test_df), len(train_df), len(df_shuffled)"
      ],
      "metadata": {
        "colab": {
          "base_uri": "https://localhost:8080/"
        },
        "id": "xerBwgkezdz7",
        "outputId": "e9221ccb-6023-47bd-b295-94780a1a60a1"
      },
      "execution_count": null,
      "outputs": [
        {
          "output_type": "execute_result",
          "data": {
            "text/plain": [
              "(50, 200, 250)"
            ]
          },
          "metadata": {},
          "execution_count": 10
        }
      ]
    },
    {
      "cell_type": "code",
      "source": [
        "len(df['atu_id'].unique())"
      ],
      "metadata": {
        "colab": {
          "base_uri": "https://localhost:8080/"
        },
        "id": "x15fU4vi0tJo",
        "outputId": "f9fef739-cb56-4295-ddaa-620d2098ab3e"
      },
      "execution_count": null,
      "outputs": [
        {
          "output_type": "execute_result",
          "data": {
            "text/plain": [
              "34"
            ]
          },
          "metadata": {},
          "execution_count": 11
        }
      ]
    },
    {
      "cell_type": "code",
      "source": [
        "df['atu_id'].value_counts()"
      ],
      "metadata": {
        "colab": {
          "base_uri": "https://localhost:8080/"
        },
        "id": "RV6pILFi1_5W",
        "outputId": "a28b5238-4f67-41e6-be62-5050665b5e99"
      },
      "execution_count": null,
      "outputs": [
        {
          "output_type": "execute_result",
          "data": {
            "text/plain": [
              "27    21\n",
              "4     19\n",
              "24    18\n",
              "25    15\n",
              "1     13\n",
              "11    13\n",
              "30    12\n",
              "19    11\n",
              "29    10\n",
              "18    10\n",
              "26    10\n",
              "0      9\n",
              "13     8\n",
              "23     8\n",
              "3      8\n",
              "21     7\n",
              "7      6\n",
              "12     5\n",
              "10     5\n",
              "31     5\n",
              "5      5\n",
              "2      5\n",
              "17     4\n",
              "32     4\n",
              "28     4\n",
              "8      3\n",
              "6      2\n",
              "14     2\n",
              "16     2\n",
              "33     2\n",
              "22     1\n",
              "9      1\n",
              "20     1\n",
              "15     1\n",
              "Name: atu_id, dtype: int64"
            ]
          },
          "metadata": {},
          "execution_count": 12
        }
      ]
    },
    {
      "cell_type": "code",
      "source": [
        "from sklearn.model_selection import train_test_split\n",
        "from tensorflow.keras.utils import to_categorical\n",
        "\n",
        "# Use train_test_split to split training data into training and validation sets\n",
        "train_sentences, val_sentences, train_labels, val_labels = train_test_split(train_df[\"text\"].to_numpy(),\n",
        "                                                                            train_df[\"atu_id\"].to_numpy(),\n",
        "                                                                            test_size=0.1, # dedicate 10% of samples to validation set\n",
        "                                                                            random_state=42) # random state for reproducibility"
      ],
      "metadata": {
        "id": "8koBBXfn2Ynf"
      },
      "execution_count": null,
      "outputs": []
    },
    {
      "cell_type": "code",
      "source": [
        "from sklearn.preprocessing import LabelBinarizer\n",
        "lb = LabelBinarizer()"
      ],
      "metadata": {
        "id": "f9UXkjdvWKcD"
      },
      "execution_count": null,
      "outputs": []
    },
    {
      "cell_type": "code",
      "source": [
        "train_labels_one_hot = lb.fit_transform(train_labels)\n",
        "val_labels_one_hot = lb.transform(val_labels)"
      ],
      "metadata": {
        "id": "UAg3dE81R17l"
      },
      "execution_count": null,
      "outputs": []
    },
    {
      "cell_type": "code",
      "source": [
        "train_labels.shape, val_labels.shape"
      ],
      "metadata": {
        "colab": {
          "base_uri": "https://localhost:8080/"
        },
        "id": "g4TogN0THbBC",
        "outputId": "e53f0d93-0578-4e82-97e8-4ef7aa0163ea"
      },
      "execution_count": null,
      "outputs": [
        {
          "output_type": "execute_result",
          "data": {
            "text/plain": [
              "((180,), (20,))"
            ]
          },
          "metadata": {},
          "execution_count": 15
        }
      ]
    },
    {
      "cell_type": "code",
      "source": [
        "# Check the lengths\n",
        "len(train_sentences), len(train_labels), len(val_sentences), len(val_labels)\n",
        "#takes 1/10 training data and creates validation data"
      ],
      "metadata": {
        "colab": {
          "base_uri": "https://localhost:8080/"
        },
        "id": "jxprW4NJ23nU",
        "outputId": "aceeed6a-1510-4214-ebfa-4f832b932930"
      },
      "execution_count": null,
      "outputs": [
        {
          "output_type": "execute_result",
          "data": {
            "text/plain": [
              "(180, 180, 20, 20)"
            ]
          },
          "metadata": {},
          "execution_count": 16
        }
      ]
    },
    {
      "cell_type": "code",
      "source": [
        "train_sentences[:10], train_labels[:10]"
      ],
      "metadata": {
        "colab": {
          "base_uri": "https://localhost:8080/"
        },
        "id": "Y3WeFs1Z27If",
        "outputId": "226aaad4-d4e6-4103-acdd-55fccc77878d"
      },
      "execution_count": null,
      "outputs": [
        {
          "output_type": "execute_result",
          "data": {
            "text/plain": [
              "(array([\"Once upon a time there was a merchant who had three daughters. It so happened he had one day to go to strange countries to buy wares, and so he asked his daughters, 'What shall I bring you from beyond the seas?' The eldest asked for a new coat, and the next one also asked for a new coat; but the youngest one only took a sheet of paper and sketched a flower on it. 'Bring me, bátyushka [father], a flower like this!' So the merchant went and made a long journey to foreign kingdoms, but he could never see such a flower. So he came back home, and he saw on his way a splendid lofty palace with watchtowers, turrets, and a garden. He went a walk in the garden, and you cannot imagine how many trees he saw and flowers, every flower fairer than the other flowers. And then he looked and he saw a single one like the one which his daughter had sketched. 'Oh,' he said, 'I will tear off and bring this to my beloved daughter; evidently there is nobody here to watch me.' So he ran up and broke it off, and as soon as he had done it, in that very instant a boisterous wind arose and thunder thundered, and a fearful monster stood in front of him, a formless, winged snake with three heads. 'How dared you play the master in my garden!' cried the snake to the merchant. 'Why have you broken off a blossom?' The merchant was frightened, fell on his knees and besought pardon. 'Very well,' said the snake, 'I will forgive you, but on condition that whoever meets you first, when you reach home, you must give me for all eternity; and, if you deceive me, do not forget, nobody can ever hide himself from me. I shall find you wherever you are.' The merchant agreed to the condition and came back home. And the youngest daughter saw him from the window and ran out to meet him. Then the merchant hung his head, looked at his beloved daughter, and began to shed bitter tears. 'What is the matter with you? Why are you weeping, bátyushka?' He gave her the blossom and told what had befallen him. 'Do not grieve, bátyushka ,' said the youngest daughter. 'It is God's gift. Perhaps I shall fare well. Take me to the snake.' So the father took her away, set her in the palace, bade farewell, and set out home. Then the fair maiden, the daughter of the merchant, went in the different rooms, and beheld everywhere gold and velvet; but no one was there to be seen, not a single human soul. Time went by and went by, and the fair damsel became hungry and thought, 'Oh, if I could only have something to eat!' But before ever she had thought, in front of her stood a table, and on the table were dishes and drinks and refreshments. The only thing that was not there was birds' milk. Then she sat down to the table, drank and ate, got up, and it had all vanished. Darkness now came on, and the merchant's daughter went into the bedroom, wishing to lie down and sleep. Then a boisterous wind rustled round and the three- headed snake appeared in front of her. 'Hail, fair maiden! Put my bed outside this door!' So the fair maiden put the bed outside the door and herself lay on the bedstead. She awoke in the morning, and again in the entire house there was not a single soul to be seen. And it all went well with her. Whatever she wished for appeared on the spot. In the evening the snake flew to her and ordered, 'Now, fair maiden, put my bed next to your bedstead.' She then laid it next to her bedstead, and the night went by, and the maiden awoke, and again there was never a soul in the palace. And for the third time the snake came in the evening and said, 'Now, fair maiden, I am going to lie with you in the bedstead.' The merchant's daughter was fearfully afraid of lying on a single bed with such a formless monster. But she could not help herself, so she strengthened her heart and lay down with him. In the morning the serpent said to her, 'If you are now weary, fair maiden, go to your father and your sisters. Spend a day with them, and in the evening come back to me. But see to it that you are not late. If you are one single minute late I shall die of grief.' 'No, I shall not be late,' said the maiden, the merchant's daughter, and descended the steps; there was a barouche ready for her, and she sat down. That very instant she arrived at her father's courtyard. Then the father saw, welcomed, kissed her, and asked her, 'How has God been dealing with you, my beloved daughter ? Has it been well with you?' 'Very well, father!' And she started telling of all the wealth there was in the palace, how the snake loved her, how whatever she only thought of was in that instant fulfilled. The sisters heard, and did not know what to do out of sheer envy. Now the day was ebbing away, and the fair maiden made ready to go back, and was bidding farewell to her father and her sisters, saying, 'This is the time I must go back. I was bidden keep to my term.' But the envious sisters rubbed onions on their eyes and made as though they were weeping: 'Do not go away, sister; stay until tomorrow.' She was very sorry for her sisters, and stayed one day more. In the morning she bade farewell to them all and went to the palace. When she arrived it was as empty as before. She went into the garden, and she saw the serpent lying dead in the pond! He had thrown himself for sheer grief into the water. 'Oh, my God, what have I done!' cried out the fair maiden, and she wept bitter tears, ran. up to the pond, hauled the snake out of the water, embraced one head and kissed it with all her might. And the snake trembled, and in a minute turned into a good youth. 'I thank you, fair maiden,' he said. 'You have saved me from the greatest misfortune. I am no snake, but an enchanted prince.' Then they went back to the merchant's house, were betrothed, lived long, and lived for good and happy things. Folk-Tales (New York: E. P. Dutton and Company, 1916), pp. 283-86. (1826-1871).\",\n",
              "        \"There was once upon a time a woman who had a son and a goat. The son was called Espen and the goat they called Nanny. But they were not good friends, and did not get on together, for the goat was perverse and wayward, as goats will be, and she would never go home at the right time for her supper. So it happened one evening that Espen went out to fetch her home, and when he had been looking for her a while he saw Nanny high, high up on a crag: 'My dear Nanny, you must not stay any longer up there; you must come home now, it is just supper time. I am so hungry and want my supper.' 'No, I shan't,' said Nanny, 'not before I have finished the grass on this tussock, and that tussock and this and that tussock.' 'Then I'll go and tell mother,' said the lad. 'That you may, and then I shall be left to eat in peace,' said Nanny. So Espen went and told his mother. 'Go to the fox and ask him to bite Nanny,' said his mother. The lad went to the fox. 'My dear fox, bite Nanny, for Nanny won't come home in time. I am so hungry, and I want my supper,' said Espen. 'No, I don't want to spoil my snout on pig's bristles and goat's beard,' said the fox. So the lad went and told his mother. 'Well, go to the wolf,' said his mother. The lad went to the wolf: 'My dear wolf, tear the fox, for the fox won't bite Nanny, and Nanny won't come home in time. I am so hungry, and I want my supper.' 'No,' said the wolf, 'I won't wear out my paws and teeth on a skinny fox.' 'Well, go to the bear and ask him to slay the wolf,' said the mother. The lad went to the bear. 'My dear bear, slay the wolf, for the wolf won't tear the fox, and the fox won't bite Nanny, and Nanny won't come home in time. I am so hungry and want my supper.' 'No, that I won't,' said the bear; 'I don't want to wear out my claws for that.' 'Well, go to the Finn and ask him to shoot the bear.' The lad went to the Finn. 'My dear Finn, shoot the bear, for the bear won't slay the wolf, the wolf won't tear the fox, the fox won't bite Nanny, and Nanny won't come home in time. I am so hungry and want my supper.' 'No, I will not,' said the Finn; 'I am not going to shoot away my bullets for that.' 'Well go to the fir,' said his mother, 'and ask it to crush the Finn.' The lad went to the fir tree: 'My dear fir, crush the Finn, for the Finn won't shoot the bear, the bear won't slay the wolf, the wolf won't tear the fox, the fox won't bite Nanny, and Nanny won't come home in time. I am so hungry and want my supper.' 'No, I will not,' said the fir, 'I am not going to break my boughs for that.' 'Well, go to the fire,' said his mother, 'and ask it to burn the fir.' The lad went to the fire: 'My dear fire, burn the fir, for the fir won't crush the Finn, the Finn won't shoot the bear, the bear won't slay the wolf, the wolf won't tear the fox, the fox won't bite Nanny, and Nanny won't come home in time. I am so hungry and want my supper.' 'No, I will not,' said the fire, 'I am not going to burn myself out for that.' 'Well, go to the water, and ask it to quench the fire,' she said. The lad went to the water. 'My dear water, quench the fire, for the fire won't burn the fir, the fir won't crush the Finn, the Finn won't shoot the bear, the bear won't slay the wolf, the wolf won't tear the fox, the fox won't bite Nanny, and Nanny won't come home in time. I am so hungry and want my supper.' 'No, I will not,' said the water, 'I am not going to waste myself for that.' 'Well, go to the ox,' said she, 'and ask him to drink up the water.' The lad went to the ox: 'My dear ox, drink up the water, for the water won't quench the fire, the fire won't burn the fir, the fir won't crush the Finn, the Finn won't shoot the bear, the bear won't slay the wolf, the wolf won't tear the fox, the fox won't bite Nanny, and Nanny won't come home in time. I am so hungry and want my supper.' 'No, I will not,' said the ox. 'I'm not going to burst myself for that.' 'Well, go to the yoke,' said she, 'and ask it to throttle the ox.' The lad went to the yoke. 'My dear yoke, throttle the ox, for the ox won't drink the water, the water won't quench the fire, the fire won't burn the fir, the fir won't crush the Finn, the Finn won't shoot the bear, the bear won't slay the wolf, the wolf won't tear the fox, the fox won't bite Nanny, and Nanny won't come home in time. I am so hungry and want my supper.' 'No, I will not,' said the yoke. 'I'm not going to break myself in two for that.' 'Well, go to the axe,' said she, 'and tell it to split the yoke.' The lad went to the axe. 'My dear axe, split the yoke, for the yoke won't throttle the ox, the ox won't drink the water, the water won't quench the fire, the fire won't burn the fir, the fir won't crush the Finn, the Finn won't shoot the bear, the bear won't slay the wolf, the wolf won't tear the fox, the fox won't bite Nanny, and Nanny won't come home in time. I am so hungry and want my supper.' 'No, I will not,' said the axe. 'I am not going to blunt my edge for that.' 'Well, go to the smith,' said she, 'and ask him to hammer the axe.' The lad went to the smith. 'My dear smith! hammer the axe, for the axe won't split the yoke, the yoke won't throttle the ox, the ox won't drink the water, the water won't quench the fire, the fire won't burn the fir, the fir won't crush the Finn, the Finn won't shoot the bear, the bear won't slay the wolf, the wolf won't tear the fox, the fox won't bite Nanny, and Nanny won't come home in time. I am so hungry and want my supper.' 'No, I will not,' said the smith. 'I'll not burn my coals and wear out my sledge-hammers for that.' 'Well, go to the rope,' said she, 'and ask it to hang the smith.' The lad went to the rope. 'My dear rope, hang the smith, for the smith won't hammer the axe, the axe won't split the yoke, the yoke won't throttle the ox, the ox won't drink the water, the water won't quench the fire, the fire won't burn the fir, the fir won't crush the Finn, the Finn won't shoot the bear, the bear won't slay the wolf, the wolf won't tear the fox, the fox won't bite Nanny, and Nanny won't come home in time. I am so hungry and want my supper.' 'No, I will not,' said the rope. 'I'm not going to break in two for that.' 'Well, go to the mouse,' said she, 'and ask her to gnaw the rope.' The lad went to the mouse. 'My dear mouse, gnaw the rope, for the rope won't hang the smith, the smith won't hammer the axe, the axe won't split the yoke, the yoke won't throttle the ox, the ox won't drink the water, the water won't quench the fire, the fire won't burn the fir, the fir won't crush the Finn, the Finn won't shoot the bear, the bear won't slay the wolf, the wolf won't tear the fox, the fox won't bite Nanny, and Nanny won't come home in time. I am so hungry and want my supper.' 'No, I will not,' said the mouse. 'I'm not going to wear out my teeth for that.' 'Well, go to the cat,' said she, 'and ask her to catch the mouse.' The lad went to the cat. 'My dear cat, catch the mouse, for the mouse won't gnaw the rope, the rope won't hang the smith, the smith won't hammer the axe, the axe won't split the yoke, the yoke won't throttle the ox, the ox won't drink the water, the water won't quench the fire, the fire won't burn the fir, the fir won't crush the Finn, the Finn won't shoot the bear, the bear won't slay the wolf, the wolf won't tear the fox, the fox won't bite Nanny, and Nanny won't come home in time. I am so hungry and want my supper.' 'Yes, but give me a drop of milk for my kittens, and then' said the cat. Yes, that she should have. So the cat caught the mouse, and the mouse gnawed the rope, and the rope hanged the smith, and the smith hammered the axe, and the axe split the yoke, and the yoke throttled the ox, and the ox drank the water, and the water quenched the fire, and the fire burned the fir, and the fir crushed the Finn, and the Finn shot the bear, and the bear slew the wolf, and the wolf tore the fox, and the fox bit Nanny, and Nanny took to her heels, scampered home, and ran against the barn wall and broke one of her legs. 'M-a-h-a-h!' bleated the goat. There she lay, and if she isn't dead she is still limping about on three legs. But Espen said it served her right, because she would not come home in time for supper that day.\",\n",
              "        \"His parents were dead, and he had no longer a home, so he went to his brothers and asked them to support him until there was another war. The brothers, however, were hardhearted and said, 'What can we do with you? We have no work for you. See that you go and make a living for yourself.' The soldier had nothing left but his gun, so, putting it on his shoulder, he went forth into the world. He came to a large heath, on which nothing was to be seen but a circle of trees. Filled with sorrow, he sat down beneath them and thought about his fate. 'I have no money,' he thought, 'and the only trade I have learned is that of making war, and now that they have made peace they can no longer use me, so I see that I shall starve.' Suddenly he heard a rustling sound, and when he looked around, a strange man was standing before him. He wore a green jacket and looked quite stately, but he had a hideous horse's foot. 'I know what you are in need of,' said the man. 'You shall have money and property, as much as you, with all your might, can squander away, but first I must know if you are fearless, so that I won't be giving away my money for nothing.' 'A soldier and fear -- how can those go together?' he answered, 'You can put me to the test.' 'Very well,' answered the man, 'look behind you.' The soldier turned around and saw a large growling bear running towards him. 'Aha,' shouted the soldier, 'I'll tickle your nose until you lose your desire for growling.' Then taking aim at the bear, he shot it in the snout, and it fell down motionless. 'I see quite well,' said the stranger, 'that you do not lack for courage, but there is one more condition that you will have to fulfill.' 'If it does not endanger my salvation,' answered the soldier, who knew quite well who was standing before him. 'Otherwise I'll have nothing to do with it.' 'You'll see about that for yourself,' answered Greenjacket. 'For the next seven years you are neither to wash yourself, nor comb your beard and hair, nor cut your nails, nor say the Lord's prayer. I will give you a jacket and a cloak, which you must wear during this time. If you die during these seven years, you are mine. If you stay alive, you are free, and rich as well, for all the rest of your life.' The soldier thought about his desperate situation, and having faced death so often before, he decided to risk it now as well, and he entered into the agreement. The devil took off his green jacket and gave it to the soldier, saying, 'Whenever you wear this jacket and reach into its pocket, you will find a handful of money.' Then he pulled the skin off the bear and said, 'This shall be your cloak, and your bed as well, for you are to sleep on it, and you are not allowed to lie in any other bed. Because of your clothing you shall you be called Bearskin.' With that the devil disappeared. The soldier put on the jacket, immediately reached into the pocket, and found that the promise was really true. Then he put on the bearskin and went forth into the world. He did whatever he pleased, refraining from nothing that did him good and his money harm. During the first year his appearance was still acceptable, but during the second he looked like a monster. His hair covered nearly his entire face. His beard looked like a piece of coarse felt cloth. His fingers had claws, and his face was so covered with dirt that if someone had planted cress on it, it would have grown. Everyone who saw him ran away. However, because everywhere he went he gave money to the poor to pray that he might not die during the seven years, and because he paid well for everything, he always found shelter. In the fourth year he arrived an inn. The innkeeper would not let him enter, refusing even to let him have a place in the stable because he was afraid he would frighten the horses. However, when Bearskin reached into his pocket and pulled out a handful of ducats, the innkeeper softened and gave him a room in an outbuilding. Bearskin, however, had to promise not to let himself be seen, lest the inn should get a bad name. One evening Bearskin was sitting alone, wishing with all his heart that the seven years were over, he heard a loud moaning in a neighboring room. He had a compassionate heart, so he opened the door and saw an old man weeping bitterly and striking his hands together above his head. Bearskin went nearer, but the man jumped to his feet and tried to run away. At last, hearing a human voice, the man let Bearskin talk to him, and with friendly words Bearskin succeeded in getting the old man to reveal the cause of his grief. Slowly but surely the old man had lost his wealth, and now he and his daughters would have to starve. He was so poor that he could not pay the innkeeper and was to be sent to prison. 'If that is your only problem,' said Bearskin, 'I have money enough.' He called for the innkeeper and paid him, and then put a bag full of gold into the poor man's pocket. When the old man saw that he was freed from all his troubles he did not know how to show his gratitude. 'Come with me,' he said to Bearskin. 'My daughters are all miracles of beauty. Choose one of them for your wife. When she hears what you have done for me she will not refuse you. You do look a little strange, to be sure, but she will put you in order again.' This pleased Bearskin well, and he went with the old man. When the oldest daughter saw him she was so terrified at his face that she screamed and ran away. The second one stood still and looked at him from head to foot, but then she said, 'How can I accept a husband who no longer has a human form? The shaved bear that once was here and passed itself off for a man pleased me far better. At least it was wearing a hussar's fur and white gloves. If ugliness were his only flaw, I could get used to him.' The youngest one, however, said, 'Father, dear, he must be a good man to have helped you out of your trouble. If you promised him a bride for doing so, your word must be kept.' It was a pity that Bearskin's face was covered with dirt and hair, for otherwise they would have seen how his heart laughed within his body when he heard these words. He took a ring from his finger, broke it in two, and gave her one half. He kept the other half himself. He then wrote his name inside her half, and her name inside his. He asked her to take good care of her piece. Then he took leave saying, 'I must wander about for three more years. If I do not return at that time you are free, for I shall be dead. But ask God to preserve my life.' The poor bride-to-be dressed herself entirely in black, and when she thought about her future bridegroom, tears came into her eyes. From her sisters she received nothing but contempt and scorn. 'Be careful,' said the oldest. 'If you give him your hand, he will hit you with his claws.' 'Beware,' said the second. 'Bears like sweet things, and if he takes a liking to you, he will eat you up.' 'You must always do what he wants you to,' continued the oldest, 'or he will begin to growl.' And the second added, 'But the wedding will be merry, for bears dance well.' The bride-to-be said nothing and did not let them irritate her. Bearskin, however, traveled about the world from one place to another, did good wherever he could, and gave generously to the poor that they might pray for him. Finally, at dawn on the last day of the seven years, he went once more out to the heath, and seated himself beneath the circle of trees. Before long the wind began to howl, and the devil stood before him, looking at him angrily. He threw Bearskin's old jacket to him and demanded the return of his own green one. 'We haven't gotten that far yet,' answered Bearskin. 'First of all you have to clean me up.' Whether the devil wanted to or not, he had to fetch water and wash off Bearskin, comb his hair, and cut his nails. After this he looked like a brave soldier and was much better looking than he had ever been before. When the devil was safely gone Bearskin was quite lighthearted. He went into the town, purchased a splendid velvet jacket, seated himself in a carriage drawn by four white horses, and drove to his bride's house. No one recognized him. The father took him for a distinguished colonel and led him into the room where his daughters were sitting. He was given a seat between the two oldest ones. They poured wine for him, served him the finest things to eat, and thought that they had never seen a more handsome man in all the world. The bride-to-be, however, sat across from him in her black dress without raising her eyes or speaking a word. Finally he asked the father if he would give him one of his daughters for a wife, whereupon the two oldest ones jumped up and ran into their bedrooms to put on splendid dresses, for each of them thought that she was the chosen one. As soon as he was alone with his bride-to-be, the stranger brought out his half of the ring and dropped it into a glass of wine, which he handed across the table to her. She took the wine, but when she had drunk it and found the half ring lying at the bottom, her heart began to beat. She took the other half, which she wore on a ribbon around her neck, put them together, and saw that the two pieces matched perfectly. Then he said, 'I am your betrothed bridegroom, whom you saw as Bearskin. Through God's grace I have regained my human form and have become clean again.' He went to her, embraced her, and gave her a kiss. In the meantime the two sisters came back in full dress. When they saw that the youngest sister had received the handsome man, and heard that he was Bearskin, they ran out filled with anger and rage. One of them drowned herself in the well. The other hanged herself on a tree. That evening, someone knocked at the door, and when the bridegroom opened it, it was the devil in his green jacket, who said, 'You see, I now have two souls for the one of yours.'\",\n",
              "        \"There was a knight who devoted much of his time to hunting. It happened one day, as he was pursuing this diversion, that he was met by a lame lion, who showed him his foot. The knight dismounted, and drew from it a sharp thorn; and then applied an unguent to the wound, which speedily healed it. A while after this, the king of the country hunted in the same wood, and caught that lion, and held him captive for many years. Now, the knight, having offended the king, fled from his anger to the very forest in which he had been accustomed to hunt. There he betook himself to plunder, and spoiled and slew a multitude of travelers. But the king's sufferance was exhausted; he sent out an army, captured, and condemned him to be delivered to a fasting lion. The knight was accordingly thrown into a pit, and remained in terrified expectation of the hour when he should be devoured. But the lion, considering him attentively, and remembering his former friend, fawned upon him; and remained seven days with him destitute of food. When this reached the ears of the king, he was struck with wonder, and directed the knight to be taken from the pit. 'Friend,' said he, 'by what means have you been able to render the lion harmless?' 'As I once rode along the forest, my lord, that lion met me lame. I extracted from his foot a large thorn, and afterward healed the wound, and therefore he has spared me.' 'Well,' returned the king, 'since the lion has spared you, I will for this time ratify your pardon. Study to amend your life.' The knight gave thanks to the king, and ever afterwards conducted himself with all propriety. He lived to a good old age, and ended his days in peace. Application: My beloved, the knight is the world; the lame lion is the human race; the thorn, original sin, drawn out by baptism. The pit represents penitence, whence safety is derived. The Gesta Romanorum or 'Deeds of the Romans' is a collection of some 283 legends and fables. Created as a collection ca. 1330 in England, it served as a source of stories and plots for many of Europe's greatest writers.\",\n",
              "        \"A man had seven sons, but however much he wished for a daughter, he did not have one yet. Finally his wife gave him hope for another child, and when it came into the world it was indeed a girl. Great was their joy, but the child was sickly and small, and because of her weakness, she was to be given an emergency baptism. The father sent one of the boys to run quickly to the well and get some water for the baptism. The other six ran along with him. Because each one of them wanted to be first one to dip out the water, the jug fell into the well. There they stood not knowing what to do, and not one of them dared to go home. When they did not return the father grew impatient, and said, 'They have forgotten what they went after because they were playing, those godless boys.' Fearing that the girl would die without being baptized, he cried out in anger, 'I wish that those boys would all turn into ravens.' He had hardly spoken these words when he heard a whirring sound above his head, and looking up, he saw seven coal-black ravens flying up and away. The parents could not take back the curse, and however sad they were at the loss of their seven sons, they were still somewhat comforted because of their dear little daughter, who soon gained strength and became more beautiful every day. For a long time she did not know that she had had brothers, for her parents took care not to mention them to her. However, one day she accidentally overheard some people talking about her. They said that she was beautiful enough, but that in truth she was to blame for her seven brothers' misfortune. This troubled her greatly, and she went to her father and mother and asked them if she indeed had had brothers, and what had happened to them. Her parents could no longer keep the secret, but said that it had been heaven's fate, and that her birth had been only the innocent cause. However, this ate at the girl's conscience every day, and she came to believe that she would have to redeem her brothers. She had neither rest nor peace until she secretly set forth and went out into the wide world, hoping to find her brothers and to set them free, whatever it might cost. She took nothing with her but a little ring as a remembrance from her parents, a loaf of bread for hunger, a little jug of water for thirst, and a little chair for when she got tired. She walked on and on -- far, far to the end of the world. She came to the sun, but it was too hot and terrible, and ate little children. She hurried away, and ran to the moon, but it was much too cold, and also frightening and wicked, and when it saw the child, it said, 'I smell, smell human flesh.' Then she hurried away, and came to the stars, and they were friendly and good to her, each one sitting on its own little chair. When the morning star arose, it gave her a chicken bone, and said, 'Without that chicken bone you cannot open the glass mountain, and your brothers are inside the glass mountain.' The girl took the bone, wrapped it up well in a cloth, and went on her way again until she came to the glass mountain. The door was locked, and she started to take out the chicken bone, but when she opened up the cloth, it was empty. She had lost the gift of the good stars. What could she do now? She wanted to rescue her brothers, but she had no key to the glass mountain. The good little sister took a knife, cut off one of her little fingers, put it into the door, and fortunately the door opened. After she had gone inside a little dwarf came up to her and said, 'My child, what are you looking for?' 'I am looking for my brothers, the seven ravens,' she replied. The dwarf said, 'The lord ravens are not at home, but if you want to wait here until they return, step inside.' Then the dwarf carried in the ravens' dinner on seven little plates, and in seven little cups. The sister ate a little bit from each plate and took a little sip from each cup. Into the last cup she dropped the ring that she had brought with her. Suddenly she heard a whirring and rushing sound in the air, and the dwarf said, 'The lord ravens are flying home now.' They came, wanted to eat and drink, and looked for their plates and cups. Then one after the other of them said, 'Who has been eating from my plate? Who has been drinking from my cup? It was a human mouth.' When the seventh one came to the bottom of his cup, the ring rolled toward him. Looking at it, he saw that it was a ring from their father and mother, and said, 'God grant that our sister might be here; then we would be set free.' The girl was listening from behind the door, and when she heard this wish she came forth. Then the ravens were restored to their human forms again. They hugged and kissed one another, and went home happily.\",\n",
              "        \"One day Prince Malecadel wanted to get married, so he gave a ball, to which he invited all the ladies in his kingdom. He said that the most beautiful of all was to be his wife. When Damiana and Rosa knew that all the ladies were invited, they began to discuss what clothes they would wear to the ball; but poor Maria was in the river, washing the clothes. Maria was very sad and was weeping, for she had no clothes at all in which she could appear at the prince's fête. While she was washing, a crab approached her, and said, 'Why are you crying, Maria? Tell me the reason, for I am your mother.' Then Maria said to the crab, 'I am treated by my aunt (sic!) and sisters as a servant; and there will be a ball tonight, but I have no clothes to wear.' While she was talking to the crab, Juana came up. The stepmother was very angry with Maria, and ordered her to catch the crab and cook it for their dinner. Maria seized the crab and carried it to the house. At first she did not want to cook it, for she knew that it was her mother; but Juana whipped her so hard, that at last she was forced to obey. Before it was put in the earthen pot to be cooked, the crab said to Maria, 'Maria, don't eat my flesh, but collect all my shell after I am eaten, and bury the pieces in the garden near the house. They will grow into a tree, and you can have what you want if you will only ask the tree for it.' After her parents had eaten the flesh of the crab, Maria collected all its shell and buried it in the garden. At twilight she saw a tree standing on the very spot where she had buried the shell. When night came, Rosa and Damiana went to the ball, and Juana retired for the night as soon as her daughters were gone. When Maria saw that her aunt was sleeping, she went into the garden and asked the tree for what she wanted. The tree changed her clothes into very beautiful ones, and furnished her with a fine coach drawn by four fine horses, and a pair of golden slippers. Before she left, the tree said to her, 'You must be in your house before twelve o'clock. If you are not, your clothes will be changed into ragged, dirty ones again, and your coach will disappear.' After promising to remember the warning of the tree, Maria went to the ball, where she was received by the prince very graciously. All the ladies were astonished when they saw her; she was the most beautiful of all. Then she sat between her two sisters, but neither Rosa nor Damiana recognized her. The prince danced with her all the time. When Maria saw that it was half-past eleven, she bade farewell to the prince and all the ladies present, and went home. When she reached the garden, the tree changed her beautiful clothes back into her old ones, and the coach disappeared. Then she went to bed and to sleep. When her sisters came home, they told her of everything that had happened at the ball. The next night the prince gave another ball. After Rosa and Damiana had dressed themselves in their best clothes and gone, Maria again went to the garden to ask for beautiful clothes. This time she was given a coach drawn by five (?) horses, and again the tree warned her to return before twelve. The prince was delighted to see her, and danced with her the whole evening. Maria was so enchanted that she forgot to notice the time. While she was dancing, she heard the clock striking twelve. She ran as fast as she could down stairs and out the palace door, but in her haste she dropped one of her golden slippers. This night she had to walk home, and in her old ragged clothes, too. One of her golden slippers she had with her; but the other, which she had dropped at the door, was found by one of the guards, who gave it to the prince. The guard said that the slipper had been lost by the beautiful lady who ran out of the palace when the clock was striking twelve. Then the prince said to all the people present, 'The lady whom this slipper fits is to be my wife.' The next morning the prince ordered one of his guards to carry the slipper to every house in the city to see if its owner could be found. The first house visited was the one in which Maria lived. Rosa tried to put the slipper on her foot, but her foot was much too big. Then Damiana put it on her foot, but her foot was too small. The two sisters tried and tried again to make the slipper fit, but in vain. Then Maria told them that she would try, and see if the slipper would fit her foot; but her sisters said to her, 'Your feet are very dirty. This golden slipper will not go on your foot, for your feet are larger than ours.' And they laughed at her. But the guard who had brought the slipper said, 'Let her try. It is the prince's order that all shall try.' So he gave it to Maria. Then Maria put it on, and it fitted her foot exactly. She then drew the other slipper from underneath her dress, and put it on her other foot. When the two sisters saw the two slippers on Maria's feet, they almost fainted with astonishment. So Maria became the wife of the prince, and from that time on she was very dear to her sisters and aunt.\",\n",
              "        \"Once upon a time there was a king who had twelve children, all boys. He also wanted to have a girl and said to the queen, 'If our thirteenth child, which you are soon going to bring to the world, is a girl, then I shall have the twelve others killed, but if it is also a boy, then they may all live together.' The queen tried to dissuade him, but the king would not listen to her. 'If it happens as I said, then they must die. I would rather strike off their heads myself than to have a girl among them.' This saddened the queen, for she loved her sons greatly and did not know how to save them. Finally she went to the youngest one, whom she loved even more than the others, and revealed to him what the king had decided, saying, 'Dear child, go out into the forest with your eleven brothers. Stay there and do not return home. One of you must keep watch from a tree and look toward the tower here. If I bring a little son into the world, then I shall fly a white flag from the top of the tower, but if it is a little daughter, then it shall be a red flag. Then you must save yourselves by fleeing into the world, and may God protect you. I will get up every night and pray for you, in the cold of winter that you may not freeze and that a warm fire may be burning before you, and in the heat of summer that you may rest and sleep in a cool forest.' Thus she blessed her children, and they went forth into the forest. They often looked toward the tower, and one of them always had to sit high in a tall oak tree and keep watch. Soon a flag was raised, but it was not the white one, but rather the red-blood flag that threatened their destruction. When the boys saw it they became angry and cried out, 'Are we to lose our lives for the sake of a girl!' Then they swore among themselves to remain in the middle of the forest, and whenever they might happen upon a girl, they would kill her without mercy. They found a cave in the darkest part of the forest, and there they lived. Every morning eleven of them set forth to hunt, but one of them had to stay at home to cook and keep house. Every girl that the eleven came upon was done away with without mercy. And so it was for many years. The little sister at home grew up as an only child. One day she discovered twelve men's shirts in the wash. 'Whose shirts are these?' asked the princess. 'They are much too small for my father.' Then the washerwoman told her that she had had twelve brothers who had secretly left home because the king had wanted to have them killed, and no one knew where they now were. The twelve shirts belonged to these twelve brothers. The little sister was amazed that she had never heard anything of her twelve brothers. That afternoon she sat in a meadow bleaching the wash and pondering the words of the washerwoman. Finally she stood up, took the twelve shirts, and walked into the forest where her brothers lived. The little sister came to the cave where they lived. Eleven were out hunting, and only one of them was at home doing the cooking. When he saw the girl he grabbed her and reached for his sword, saying, 'Kneel down! Your red blood will flow this instant!' 'Master, let me live!' she begged. 'I will stay here and serve you well. I will cook and keep house.' Now this was the youngest brother, and the girl's beauty softened him, and he spared her life. The eleven returned home and were amazed to find a live girl in their cave. He said to them, 'Brothers, this girl came to our cave. I was about to strike her down, but she begged so fervently for her life, and agreed to serve us faithfully and to keep house for us, so I spared her.' The others agreed that this was to their advantage, and that now all twelve would be able to go out hunting, and they were satisfied. Then she showed them the twelve shirts and said that she was their sister. They rejoiced and were happy that they had not killed her. The little sister took over the household. While the brothers were out hunting, she gathered wood and herbs, tended the fire, made the clean, white beds, and did everything eagerly and well. One day it happened that when she was finished with her work she went for a walk in the woods. She came to a place where there were twelve tall white lilies, and because she liked them so much, she plucked them all. This had scarcely happened when an old woman appeared before her. 'Oh, my daughter,' she said. 'Why didn't you leave the twelve flowers standing? They are your twelve brothers, who have now been transformed into ravens and are lost forever.' The little sister began to cry. 'Oh!' she said. 'Is there no way to redeem them?' 'No, there is only one way in the world, and it is so difficult that you will never succeed. You must remain silent for twelve whole years. If you speak a single word, even if all but one hour has passed, then it will all be for nothing, and your brothers will die that instant.' The little sister took a seat high in a tall tree in the forest where she would spin in silence for twelve years and thus redeem her brothers. One day a king was hunting in this forest. His dog stopped at the tree and barked. The king halted, looked up, and was amazed at the princess's beauty. He called to her, asking her if she would become his wife. She remained silent, but nodded a little with her head. The king himself climbed up and lifted her down, set her before him on his horse, and took her home to his castle, where their wedding was celebrated with splendor. The princess never spoke a word, and the king thought that she was a mute. They would have lived happily together if it had not been for the king's mother, who began to slander her to him, 'You have brought home a common beggar girl, and behind your back she is doing the most unspeakable things.' Because the queen could not defend herself, the king was led into believing his mother, and finally he had his wife sentenced to death. A large fire was set in the courtyard where she was to be burned to death. She was already standing in the fire, with the flames jumping at her dress when the last minutes of the twelve years elapsed. There was a rushing sound in the air, and twelve ravens came flying down and landed. When they touched the earth they turned into twelve handsome princes, who scattered the fire about, and pulled out their sister. Then she spoke once again, telling the king everything, how she had had to redeem her twelve brothers, and they all rejoiced that everything turned out so well. But what should they do with the wicked stepmother? She was thrown into a barrel filled with boiling oil and poisonous snakes, and died a miserable death.\",\n",
              "        \"There was once, I don't know where, an old petticoat a hundred years old, and in this petticoat a tuck, in which I found the following story. There was once a king who had seven sons and seven daughters. He was in great trouble where to find princesses of royal blood as wives for his sons and princes as husbands for his daughters. At last the idea struck him that the seven sons should marry the seven daughters. They all consented to their father's wish with the exception of the youngest son and daughter. 'Well, if you won't,' said the father, 'I will give you your inheritance and you can go and try your fortune, and get married as best you can.' The two children went, and came to a strange land, where they were overtaken by darkness in a wood. They chose a bushy tree for their resting place, whose leafy boughs bent down to the ground and afforded shelter. When they woke next morning, the girl told her brother that she had dreamt that there was a town not far off, where a king lived who had been ill for a long time, and thousands upon thousands of doctors had failed to cure him. He again dreamt that an old man with snow-white hair told him that the tree under which they slept gave water. In this water the king was to be bathed, and he would be cured. They at once examined the tree, and from a crack in the bark sap as clear as crystal was dripping; they filled their flasks with the fluid and continued their journey. When they reached the outskirts of the forest, they saw a town in front of them. Having arrived there they went into an inn to find out whether their dream was true, and asked the host what the news was in the town; he, in his conversation, mentioned the illness of the king, and the many unsuccessful attempts of men to cure him, and that he had strict orders, under a heavy penalty, to report at once every doctor that came to his inn. 'I also am a doctor,' said the prince, 'and this youth is my assistant,' he continued, pointing to his sister, who was dressed in male attire. The innkeeper at once reported them, and they went to court to try their remedy on the king. The king's body was covered with sores, and the doctor bathed his hand with the juice of the tree. To his great joy, the king discovered next morning that the place which had been bathed was visibly improving; he therefore, the very same night, sent a huge wooden vessel on a cart to the tree, to bring him sufficient water for a bath. After a few baths the king actually recovered; and the doctor, having received a handsome present, requested a favor of the king, viz., to pay him a visit and to do him the honor of dining with him. The king cordially granted the request, and the prince received him with great splendor in his spacious apartments, which were decorated with a lavishness becoming a sovereign. As the king found the doctor alone, he inquired after his assistant, and at this moment a charming pretty girl stepped from one of the side rooms, whom the king at once recognized as the doctor's assistant. The strangers now related to him their story, and the king became more affable, especially towards the pretty assistant, who at once gained possession of his heart and soul, and the short acquaintance ended with a wedding. The prince, not forgetting the object of his journey, started soon after the wedding festivities were over. He passed on till he came to the boundary of the king's realm, and then went on as far as the capital of the next country. He was riding about the streets on a fine horse, when he heard a voice coming from a window close by, 'Hum, you, too, won't get on without me,' and looking in the direction from which the voice came, he discovered an old man looking out of the window. He didn't take any notice of the voice, but went on; and, having arrived at an inn, made sundry inquiries, when he was told that adventurous young men in this town might either meet with great fortune or with a great misfortune; because the king had a daughter whom no one had as yet seen, with the exception of her old nurse. The girl had three marks on her, and whoever found out what they were, and where they were, would become her husband; but whosoever undertook the task and failed, would be impaled, and that already ninety-nine young fellows had died in this manner. Upon hearing this, it became clear to the prince what the meaning of the old man's saying was; he thought, that no doubt the old man took him for another adventurer, and the thought struck him that the old man must be acquainted with the secret, and that it would be advantageous to make his acquaintance. He found a plea at once; the old man was a goldsmith, and, as the prince had lost the rowel of his golden spur on the road, he called on him, and, having come to terms about the spur, the prince inquired of him about the princess, and the old man's tale tallied with that of the innkeeper. After a short reflection, the prince told the old man who he was, and, with a look full of meaning, inquired if the goldsmith could help him in case he tried his luck. 'For a good sum with pleasure,' replied the goldsmith. 'You shall have it,' said the prince; 'but tell me how, and I will give you this purse on account.' The old man, seeing that there was good opportunity for gain, said, 'I will construct a silver horse in which you can conceal yourself, and I will expose it for sale in the market. I am almost sure that no one will buy it but someone attached to the royal court, and if once you get in there, you can get out of the horse by a secret opening and go back whenever you like and, I think, you will succeed.' And so it happened; on the following market day a splendid silver horse was exhibited in the vicinity of the royal palace. There were a good many admirers, but on account of the great price there was no buyer, till at last a person belonging to the royal court enquired the price; after a few moments he returned and bought the horse for the king, who presented it to his daughter, and thus the prince managed to get into the chamber of the princess, which was the most difficult of all things, and he listened amidst fear and joy to the silvery voice of the pretty girl, who amused herself with the horse -- which ran on wheels -- and called it her dear pet. Evening drew on, and the mysterious girl went to rest; everything became quiet, and only her old nurse was sitting up not far from her bed; but about midnight she, too, fell asleep. Hearing that she was fast asleep, the prince got out of the horse and approached the girl's bed, holding his breath, and found the mark of the sun shining on the girl's forehead, the moon on the right breast, and three stars on the left. Having found out the three secret marks, the prince was about to retire to his hiding place when the princess woke. She tried to scream, but at an imploring gesture of the youth she kept silence. The girl could not take her eyes off the handsome prince, who related to her how and for what reason he had dared to come. The girl, being tired of her long seclusion, consented to his scheme, and they secretly plotted how the prince should get out of the palace; whereupon he went back to his hiding place. In accord with the plot, next morning the girl broke one of the horse's ears off, and it was sent back to the goldsmith's to be repaired, and the prince was thus able to leave his dangerous position. Having again splendidly remunerated the goldsmith, he returned to his new brother-in-law, so that he might come back with a splendid suite and royal pomp, and appear as a king to try his fortune. The prince returned with many magnificently clad knights and splendid horses, and reported himself to the king, and informed him by message that he was anxious to try his luck for the possession of his daughter. The king was very much pleased with the appearance of the youth, and therefore kindly admonished him not to risk his life, but the prince seemed quite confident, and insisted on carrying out his wishes; so a day was fixed for carrying out the task. The people streamed out to the place where the trial was to take place, like as to a huge festival. And all pitied the handsome youth, and had sad misgivings as to his fate. The king granted three days to those who tried their fortune, and three guesses. On the first and second day, in order not to betray the plot, and in order to increase the éclat the prince guessed wrongly on purpose; but on the third day, when everyone was convinced that he must die, he disclosed in a loud voice the secret marks of the princess. The king declared them to be right, and the prince was led to his future wife, amidst the cheers of the multitude and the joyous strains of the band. The king ordered immense wedding festivities all over the town, and resigned his throne in favor of his son-in-law, who reigned happy for many years after!\",\n",
              "        \"A little louse and a little flea kept house together. They were brewing beer in an eggshell when the little louse fell in and burned herself to death. At this the little flea began to cry loudly. Then the little parlor door said, 'Why are you crying, little flea?' 'Because little louse has burned herself to death.' Then the little door began to creak. Then a little broom in the corner said, 'Why are you creaking, little door?' 'Why should I not be creaking? Little louse has burned herself to death. Little flea is crying.' Then the little broom began to sweep furiously. Then a little cart came by and said, 'Why are you sweeping, little broom?' 'Why should I not be sweeping? Little flea is crying. Little door is creaking.' Then the little cart said, 'Then I will run,' and it began to run furiously. It ran by a little manure pile, which said, 'Why are you running, little cart?' 'Why should I not be running? Little door is creaking. Little broom is sweeping.' Then the little manure pile said, 'Then I will burn furiously,' and it began to burn in bright flames. A little tree that stood near the little manure pile said, 'Little manure pile, why are you burning?' 'Why should I not be burning? Little broom is sweeping. Little cart is running.' Then the little tree said, 'Then I will shake myself,' and it began to shake itself until all its leaves fell off. A girl who came up with her water pitcher saw that, and said, 'Little tree, why are you shaking?' 'Why should I not be shaking? Little cart is running. Little manure pile is burning.' Then the girl said, 'Then I will break my little water pitcher.' And she broke her little water pitcher. Then the little spring from which the water was flowing said, 'Girl, why did you break your little water pitcher?' 'Why should I not break my little water pitcher? Little manure pile is burning. Little tree is shaking.' 'Oh,' said the spring, 'then I will begin to flow,' and it began to flow furiously. And everything drowned in the water: the girl, the little tree, the little manure pile, the little cart, the little broom, the little door, the little flea, and the little louse, all together. und Flöhchen, Kinder- und Hausmärchen (Children's and Household Tales -- Grimms' Fairy Tales), no. 30. introduced to the Grimms' collection in the first edition (1812). From the German-language original it is impossible to determine the genders of the louse and the flea. I have arbitrarily made the deceased louse a female and the grieving flea a male, although it could also have been the other way around. Grimms' title Läuschen und Flöhchen, thus translating the title as 'The Louse and the Flea.'\",\n",
              "        \"When our father died, he left each of us one hundred dirhams. My fifth brother invested his inheritance in glassware, hoping to resell it at a handsome profit. He exhibited the glassware on a large tray, then fell to musing: These pieces will bring me two hundred dirhams, which I can use to buy more glass, which I will then sell for four hundred dirhams. With this money I can buy more glass and other merchandise to sell, and so on and so on until I have amassed a hundred thousand dirhams. Then I will purchase a fine house with slaves and eunuchs, and when my capital has grown to a hundred thousand dinars, I will demand to marry the Prime Minister's eldest daughter, and if he refuses consent, I will take her by force. On my wedding night I will don my finest attire and seat myself on a cushion of gold brocade to receive my bride. She will present herself in her most beautiful clothing, lovely as the full moon, but I will not even glance at her until her attendants kiss the ground before me and beg me to look at her, and then I will cast at her one single glance. When they leave us alone I will neither look at her nor speak to her, but will show my contempt by lying beside her with my face to the wall. Presently her mother will come into the chamber and beg of me, 'Please, my lord, your handmaid longs for your favor.' I will give no answer. Then she will kiss my feet and say, 'My lord, my daughter is truly a beautiful maid who has never before been with a man. Do speak to her and soothe her mind and spirit.' Then she will bring a cup of wine, hand it to her daughter, saying, 'Take this to your lord.' I will say nothing, leaning back so that she may see in me a sultan and a mighty man. She will say to me, 'My lord, do not refuse to take this cup from the hand of your servant.' I will say nothing, and she will insist, 'You must drink it,' and press the cup to my lips. Then I will shake my fist in her face and kick her with my foot. With that he struck out, catching the tray of glassware with his foot. It crashed to the ground and everything broke to pieces, and thus my brother lost both his capital and his profit. translated from the Arabic by Richard F. Burton, reprinted from the original edition and edited by Leonard C. Smithers, vol. 1 (London: H. S. Nichols and Company , 1894), pp.\"],\n",
              "       dtype=object),\n",
              " array([25, 12, 23,  7, 26, 27, 26, 30, 10,  4]))"
            ]
          },
          "metadata": {},
          "execution_count": 17
        }
      ]
    },
    {
      "cell_type": "code",
      "source": [
        "train_df.head()"
      ],
      "metadata": {
        "colab": {
          "base_uri": "https://localhost:8080/",
          "height": 206
        },
        "id": "WC6r3kE3CmJ-",
        "outputId": "39fc0260-4200-4c8c-e698-9a1267f0f7b1"
      },
      "execution_count": null,
      "outputs": [
        {
          "output_type": "execute_result",
          "data": {
            "text/plain": [
              "     atu_id                                       tale_title  \\\n",
              "142       3               The Story of the Simpleton Husband   \n",
              "6         4                                     Day-Dreaming   \n",
              "97        6                          Of Hearing Good Counsel   \n",
              "60       19                  The Story of the Little Red Hen   \n",
              "112       2  On the Blind Men and the Affair of the Elephant   \n",
              "\n",
              "                                                  text  \n",
              "142  There was once in olden time a foolish man and...  \n",
              "6    Now there was once a man at Bagdad who had sev...  \n",
              "97   An archer, catching a little bird called a nig...  \n",
              "60   There was once a little red hen. She was scrat...  \n",
              "112  There was a great city in the country of Ghur,...  "
            ],
            "text/html": [
              "\n",
              "\n",
              "  <div id=\"df-39102a8b-dfe6-4b8c-aae4-967698a0e397\">\n",
              "    <div class=\"colab-df-container\">\n",
              "      <div>\n",
              "<style scoped>\n",
              "    .dataframe tbody tr th:only-of-type {\n",
              "        vertical-align: middle;\n",
              "    }\n",
              "\n",
              "    .dataframe tbody tr th {\n",
              "        vertical-align: top;\n",
              "    }\n",
              "\n",
              "    .dataframe thead th {\n",
              "        text-align: right;\n",
              "    }\n",
              "</style>\n",
              "<table border=\"1\" class=\"dataframe\">\n",
              "  <thead>\n",
              "    <tr style=\"text-align: right;\">\n",
              "      <th></th>\n",
              "      <th>atu_id</th>\n",
              "      <th>tale_title</th>\n",
              "      <th>text</th>\n",
              "    </tr>\n",
              "  </thead>\n",
              "  <tbody>\n",
              "    <tr>\n",
              "      <th>142</th>\n",
              "      <td>3</td>\n",
              "      <td>The Story of the Simpleton Husband</td>\n",
              "      <td>There was once in olden time a foolish man and...</td>\n",
              "    </tr>\n",
              "    <tr>\n",
              "      <th>6</th>\n",
              "      <td>4</td>\n",
              "      <td>Day-Dreaming</td>\n",
              "      <td>Now there was once a man at Bagdad who had sev...</td>\n",
              "    </tr>\n",
              "    <tr>\n",
              "      <th>97</th>\n",
              "      <td>6</td>\n",
              "      <td>Of Hearing Good Counsel</td>\n",
              "      <td>An archer, catching a little bird called a nig...</td>\n",
              "    </tr>\n",
              "    <tr>\n",
              "      <th>60</th>\n",
              "      <td>19</td>\n",
              "      <td>The Story of the Little Red Hen</td>\n",
              "      <td>There was once a little red hen. She was scrat...</td>\n",
              "    </tr>\n",
              "    <tr>\n",
              "      <th>112</th>\n",
              "      <td>2</td>\n",
              "      <td>On the Blind Men and the Affair of the Elephant</td>\n",
              "      <td>There was a great city in the country of Ghur,...</td>\n",
              "    </tr>\n",
              "  </tbody>\n",
              "</table>\n",
              "</div>\n",
              "      <button class=\"colab-df-convert\" onclick=\"convertToInteractive('df-39102a8b-dfe6-4b8c-aae4-967698a0e397')\"\n",
              "              title=\"Convert this dataframe to an interactive table.\"\n",
              "              style=\"display:none;\">\n",
              "\n",
              "  <svg xmlns=\"http://www.w3.org/2000/svg\" height=\"24px\"viewBox=\"0 0 24 24\"\n",
              "       width=\"24px\">\n",
              "    <path d=\"M0 0h24v24H0V0z\" fill=\"none\"/>\n",
              "    <path d=\"M18.56 5.44l.94 2.06.94-2.06 2.06-.94-2.06-.94-.94-2.06-.94 2.06-2.06.94zm-11 1L8.5 8.5l.94-2.06 2.06-.94-2.06-.94L8.5 2.5l-.94 2.06-2.06.94zm10 10l.94 2.06.94-2.06 2.06-.94-2.06-.94-.94-2.06-.94 2.06-2.06.94z\"/><path d=\"M17.41 7.96l-1.37-1.37c-.4-.4-.92-.59-1.43-.59-.52 0-1.04.2-1.43.59L10.3 9.45l-7.72 7.72c-.78.78-.78 2.05 0 2.83L4 21.41c.39.39.9.59 1.41.59.51 0 1.02-.2 1.41-.59l7.78-7.78 2.81-2.81c.8-.78.8-2.07 0-2.86zM5.41 20L4 18.59l7.72-7.72 1.47 1.35L5.41 20z\"/>\n",
              "  </svg>\n",
              "      </button>\n",
              "\n",
              "\n",
              "\n",
              "    <div id=\"df-c5a6deb6-e07d-46aa-9d2b-0994a4c0e421\">\n",
              "      <button class=\"colab-df-quickchart\" onclick=\"quickchart('df-c5a6deb6-e07d-46aa-9d2b-0994a4c0e421')\"\n",
              "              title=\"Suggest charts.\"\n",
              "              style=\"display:none;\">\n",
              "\n",
              "<svg xmlns=\"http://www.w3.org/2000/svg\" height=\"24px\"viewBox=\"0 0 24 24\"\n",
              "     width=\"24px\">\n",
              "    <g>\n",
              "        <path d=\"M19 3H5c-1.1 0-2 .9-2 2v14c0 1.1.9 2 2 2h14c1.1 0 2-.9 2-2V5c0-1.1-.9-2-2-2zM9 17H7v-7h2v7zm4 0h-2V7h2v10zm4 0h-2v-4h2v4z\"/>\n",
              "    </g>\n",
              "</svg>\n",
              "      </button>\n",
              "    </div>\n",
              "\n",
              "<style>\n",
              "  .colab-df-quickchart {\n",
              "    background-color: #E8F0FE;\n",
              "    border: none;\n",
              "    border-radius: 50%;\n",
              "    cursor: pointer;\n",
              "    display: none;\n",
              "    fill: #1967D2;\n",
              "    height: 32px;\n",
              "    padding: 0 0 0 0;\n",
              "    width: 32px;\n",
              "  }\n",
              "\n",
              "  .colab-df-quickchart:hover {\n",
              "    background-color: #E2EBFA;\n",
              "    box-shadow: 0px 1px 2px rgba(60, 64, 67, 0.3), 0px 1px 3px 1px rgba(60, 64, 67, 0.15);\n",
              "    fill: #174EA6;\n",
              "  }\n",
              "\n",
              "  [theme=dark] .colab-df-quickchart {\n",
              "    background-color: #3B4455;\n",
              "    fill: #D2E3FC;\n",
              "  }\n",
              "\n",
              "  [theme=dark] .colab-df-quickchart:hover {\n",
              "    background-color: #434B5C;\n",
              "    box-shadow: 0px 1px 3px 1px rgba(0, 0, 0, 0.15);\n",
              "    filter: drop-shadow(0px 1px 2px rgba(0, 0, 0, 0.3));\n",
              "    fill: #FFFFFF;\n",
              "  }\n",
              "</style>\n",
              "\n",
              "    <script>\n",
              "      async function quickchart(key) {\n",
              "        const containerElement = document.querySelector('#' + key);\n",
              "        const charts = await google.colab.kernel.invokeFunction(\n",
              "            'suggestCharts', [key], {});\n",
              "      }\n",
              "    </script>\n",
              "\n",
              "      <script>\n",
              "\n",
              "function displayQuickchartButton(domScope) {\n",
              "  let quickchartButtonEl =\n",
              "    domScope.querySelector('#df-c5a6deb6-e07d-46aa-9d2b-0994a4c0e421 button.colab-df-quickchart');\n",
              "  quickchartButtonEl.style.display =\n",
              "    google.colab.kernel.accessAllowed ? 'block' : 'none';\n",
              "}\n",
              "\n",
              "        displayQuickchartButton(document);\n",
              "      </script>\n",
              "      <style>\n",
              "    .colab-df-container {\n",
              "      display:flex;\n",
              "      flex-wrap:wrap;\n",
              "      gap: 12px;\n",
              "    }\n",
              "\n",
              "    .colab-df-convert {\n",
              "      background-color: #E8F0FE;\n",
              "      border: none;\n",
              "      border-radius: 50%;\n",
              "      cursor: pointer;\n",
              "      display: none;\n",
              "      fill: #1967D2;\n",
              "      height: 32px;\n",
              "      padding: 0 0 0 0;\n",
              "      width: 32px;\n",
              "    }\n",
              "\n",
              "    .colab-df-convert:hover {\n",
              "      background-color: #E2EBFA;\n",
              "      box-shadow: 0px 1px 2px rgba(60, 64, 67, 0.3), 0px 1px 3px 1px rgba(60, 64, 67, 0.15);\n",
              "      fill: #174EA6;\n",
              "    }\n",
              "\n",
              "    [theme=dark] .colab-df-convert {\n",
              "      background-color: #3B4455;\n",
              "      fill: #D2E3FC;\n",
              "    }\n",
              "\n",
              "    [theme=dark] .colab-df-convert:hover {\n",
              "      background-color: #434B5C;\n",
              "      box-shadow: 0px 1px 3px 1px rgba(0, 0, 0, 0.15);\n",
              "      filter: drop-shadow(0px 1px 2px rgba(0, 0, 0, 0.3));\n",
              "      fill: #FFFFFF;\n",
              "    }\n",
              "  </style>\n",
              "\n",
              "      <script>\n",
              "        const buttonEl =\n",
              "          document.querySelector('#df-39102a8b-dfe6-4b8c-aae4-967698a0e397 button.colab-df-convert');\n",
              "        buttonEl.style.display =\n",
              "          google.colab.kernel.accessAllowed ? 'block' : 'none';\n",
              "\n",
              "        async function convertToInteractive(key) {\n",
              "          const element = document.querySelector('#df-39102a8b-dfe6-4b8c-aae4-967698a0e397');\n",
              "          const dataTable =\n",
              "            await google.colab.kernel.invokeFunction('convertToInteractive',\n",
              "                                                     [key], {});\n",
              "          if (!dataTable) return;\n",
              "\n",
              "          const docLinkHtml = 'Like what you see? Visit the ' +\n",
              "            '<a target=\"_blank\" href=https://colab.research.google.com/notebooks/data_table.ipynb>data table notebook</a>'\n",
              "            + ' to learn more about interactive tables.';\n",
              "          element.innerHTML = '';\n",
              "          dataTable['output_type'] = 'display_data';\n",
              "          await google.colab.output.renderOutput(dataTable, element);\n",
              "          const docLink = document.createElement('div');\n",
              "          docLink.innerHTML = docLinkHtml;\n",
              "          element.appendChild(docLink);\n",
              "        }\n",
              "      </script>\n",
              "    </div>\n",
              "  </div>\n"
            ]
          },
          "metadata": {},
          "execution_count": 18
        }
      ]
    },
    {
      "cell_type": "code",
      "source": [
        "import tensorflow as tf\n",
        "from tensorflow.keras.layers import TextVectorization # after TensorFlow 2.6\n",
        "\n",
        "# Before TensorFlow 2.6\n",
        "# from tensorflow.keras.layers.experimental.preprocessing import TextVectorization\n",
        "# Note: in TensorFlow 2.6+, you no longer need \"layers.experimental.preprocessing\"\n",
        "# you can use: \"tf.keras.layers.TextVectorization\", see https://github.com/tensorflow/tensorflow/releases/tag/v2.6.0 for more\n",
        "\n",
        "# Use the default TextVectorization variables\n",
        "text_vectorizer = TextVectorization(max_tokens=None, # how many words in the vocabulary (all of the different words in your text)\n",
        "                                    standardize=\"lower_and_strip_punctuation\", # how to process text\n",
        "                                    split=\"whitespace\", # how to split tokens\n",
        "                                    ngrams=None, # create groups of n-words?\n",
        "                                    output_mode=\"int\", # how to map tokens to numbers\n",
        "                                    output_sequence_length=None) # how long should the output sequence of tokens be?\n",
        "                                    # pad_to_max_tokens=True) # Not valid if using max_tokens=None"
      ],
      "metadata": {
        "id": "71uHR-lQ3Gl8"
      },
      "execution_count": null,
      "outputs": []
    },
    {
      "cell_type": "code",
      "source": [
        "round(sum([len(i.split()) for i in train_sentences])/len(train_sentences))"
      ],
      "metadata": {
        "colab": {
          "base_uri": "https://localhost:8080/"
        },
        "id": "N34BUjuE3dAL",
        "outputId": "debcc416-b309-4caf-95da-dc4bc9ffa8a3"
      },
      "execution_count": null,
      "outputs": [
        {
          "output_type": "execute_result",
          "data": {
            "text/plain": [
              "993"
            ]
          },
          "metadata": {},
          "execution_count": 20
        }
      ]
    },
    {
      "cell_type": "code",
      "source": [
        "# Setup text vectorization with custom variables\n",
        "max_vocab_length = 10000 # max number of words to have in our vocabulary\n",
        "max_length = 820 # max length our sequences will be\n",
        "\n",
        "text_vectorizer = TextVectorization(max_tokens=max_vocab_length,\n",
        "                                    output_mode=\"int\",\n",
        "                                    output_sequence_length=max_length)"
      ],
      "metadata": {
        "id": "iL2NUoz33imS"
      },
      "execution_count": null,
      "outputs": []
    },
    {
      "cell_type": "code",
      "source": [
        "# Fit the text vectorizer to the training text\n",
        "text_vectorizer.adapt(train_sentences)"
      ],
      "metadata": {
        "id": "dOL_aW8k3lpS"
      },
      "execution_count": null,
      "outputs": []
    },
    {
      "cell_type": "code",
      "source": [
        "# Choose a random sentence from the training dataset and tokenize it\n",
        "import random\n",
        "random_sentence = random.choice(train_sentences)\n",
        "print(f\"Original text:\\n{random_sentence}\\\n",
        "      \\n\\nVectorized version:\")\n",
        "text_vectorizer([random_sentence])\n",
        "\n",
        "#any 0s at the end are just filling in the 820 (av length) if the tale is less than 820 words."
      ],
      "metadata": {
        "colab": {
          "base_uri": "https://localhost:8080/"
        },
        "id": "SWDwjHDI3w4g",
        "outputId": "2867642b-c35c-4423-d6ff-f5cdcd2c6e2e"
      },
      "execution_count": null,
      "outputs": [
        {
          "output_type": "stream",
          "name": "stdout",
          "text": [
            "Original text:\n",
            "So late one evening he came to a great forest. He did not know where he should find a shelter for the night, but he went on looking and searching till he caught sight of an old tumble-down hut, which stood in the middle of some bushes. It was not exactly good enough for such a fine cavalier, but when you cannot get what you want you must take what you can get. And, since there was no help for it, he went into the hut. Not a living soul was to be seen; there was not even a stool to sit upon, but alongside the wall stood a big chest. What could there be inside that chest? If only there were some bits of moldy bread in it! How nice they would taste! For, you must know, he had not had a single bit of food the whole day, and he was so hungry and his stomach so empty that it groaned with pain. He lifted the lid. but inside the chest there was another chest, and inside that chest there was another; and so it went on, each one smaller than the other, until they became quite tiny boxes. The more there were the harder he worked away, for there must be something very fine inside, he thought, since it was so well hidden. At last he came to a tiny, little box, and in this box lay a bit of paper -- and that was all he got for his trouble! It was very annoying, of course, but then he discovered there was something written on the paper, and when he looked at it he was just able to spell it out, although at first it looked somewhat difficult. 'Lars, my lad!' As he pronounced these words something answered right in his ear, 'What are master's orders?' He looked round, but he saw nobody. This was very funny, he thought, and so he read out the words once more, 'Lars, my lad!' And the answer came as before, 'What are master's orders?' But he did not see anybody this time either. 'If there is anybody about who hears what I say, then be kind enough to bring me something to eat,' he said. And the next moment there stood a table laid out with all the best things one could think of. He set to work to eat and drink, and had a proper fill. He had never enjoyed himself so much in all his life, he thought. When he had eaten all he could get down, he began to feel sleepy, and so he took out the paper again, 'Lars, my lad!' 'What are master's orders?' 'Well, you have given me food and drink, and now you must get me a bed to sleep in as well. But I want a really fine bed,' he said, for you must know he was a little more bold now that his hunger was stayed. Well, there it stood, a bed so fine and dainty that even the king himself might covet it. Now this was all very well in its way, but when once you are well off you wish for still more, and he had no sooner got into bed than he began to think that the room was altogether too wretched for such a grand bed. So he took out the paper again: 'Lars, my lad!' 'What are master's orders?' 'Since you are able to get me such food and such a bed here in the midst of the wild forest, I suppose you can manage to get me a better room, for you see I am accustomed to sleep in a palace, with golden mirrors and draped walls and ornaments and comforts of all kinds,' he said. Well, he had no sooner spoken the words than he found himself lying in the grandest chamber anybody had ever seen. Now he was comfortable, he thought, and felt quite satisfied as he turned his face to the wall and closed his eyes. But that was not all the grandeur; for when he woke up in the morning and looked round, he saw it was a big palace he had been sleeping in. One room led into the other, and wherever he went the place was full of all sorts of finery and luxuries, both on the walls and on the ceilings, and they glittered so much when the sun shone on them that he had to shade his eyes with his hand, so strong was the glare of gold and silver wherever he turned. He then happened to look out of the window. Good gracious! How grand it was! There was something else than pine forests and juniper bushes to look at, for there was the finest garden anyone could wish for, with splendid trees and roses of all kinds. But he could not see a single human being, or even a cat; and that, you know, was rather lonely, for otherwise he had everything so grand and had been set up as his own master again. So he took out the bit of paper: 'Lars, my lad!' 'What are master's orders?' 'Well, now you have given me food and bed and a palace to live in, I intend to remain here, for I like the place,' he said, 'yet I don't like to live quite by myself. I must have both lads and lasses whom I may order about to wait on me,' he said. And there they were. There came servants and stewards and scullery maids and chambermaids of all sorts, and some came bowing and some curtseying. So now the duke thought he was really satisfied. But now it happened that there was a large palace on the other side of the forest, and there the king lived who owned the forest, and the great, big fields around it. As he was walking up and down in his room he happened to look out through the window and saw the new palace, where the golden weathercocks were swinging to and fro on the roof in the sunlight, dazzling his eyes. 'This is very strange,' he thought; and so he called his courtiers. They came rushing in, and began bowing and scraping. 'Do you see the palace over there?' said the king. They opened their eyes and began to stare. Yes, of course, they saw it. 'Who is it that has dared to build such a palace on my grounds?' said the king. They bowed, and they scraped with their feet, but they did not know anything about it. The king then called his generals and captains. They came, stood at attention and presented arms. 'Be gone, soldiers and troopers,' said the king, 'and pull down the palace over there, and hang him who has built it; and don't lose any time about it!' Well, they set off in great haste to arm themselves, and away they went. The drummers beat the skins of their drums, and the trumpeters blew their trumpets, and the other musicians played and blew as best they could, so that the duke heard them long before he could see them. But he had heard this kind of noise before, and knew what it meant, so he took out his scrap of paper: 'Lars, my lad!' 'What are master's orders?' 'There are soldiers coming here,' he said, 'and now you must provide me with soldiers and horses, that I may have double as many as those over in the wood, and with sabers and pistols, and guns and cannons with all that belongs to them; but be quick about it.' And no time was lost; for when the duke looked out, he saw an immense number of soldiers, who were drawn up around the palace. When the king's men arrived, they came to a sudden halt and dared not advance. But the duke was not afraid; he went straight up to the colonel of the king's soldiers and asked him what he wanted. The colonel told him his errand. 'It's of no use,' said the duke. 'You see how many men I have; and if the king will listen to me, we shall become good friends, and I will help him against his enemies, and in such a way that it will be heard of far and wide,' he said. The colonel was of the same opinion, and the duke then invited him and all his soldiers inside the palace, and the men had more than one glass to drink and plenty of everything to eat as well. But while they were eating and drinking they began talking; and the duke then got to hear that the king had a daughter who was his only child, and was so wonderfully fair and beautiful that no one had ever seen her like before. And the more the king's soldiers ate and drank the more they thought she would suit the duke for a wife. And they went on talking so long that the duke at last began to be of the same opinion. 'The worst of it,' said the soldiers, 'is that she is just as proud as she is beautiful, and will never look at a man.' But the duke laughed at this. 'If that's all,' said the duke, 'there's sure to be a remedy for that complaint.' When the soldiers had eaten and drunk as much as they could find room for, they shouted 'Hurrah!' so that it echoed among the hills, and then they set out homeward. But, as you may imagine, they did not walk exactly in parade order, for they were rather unsteady about the knees, and many of them did not carry their guns in regulation manner. The duke asked them to greet the king from him. He would call on him the following day, he said. When the duke was alone again, he began to think of the princess, and to wonder if she were as beautiful and fair as they had made her out to be. He would like to make sure of it; and as so many strange things had happened that day it might not be impossible to find that out as well, he thought. 'Lars, my lad!' 'What are master's orders?' 'Well, now you must bring me the king's daughter as soon as she has gone to sleep,' he said; 'but she must not be awakened either on the way here or back. Do you hear that?' he said. And before long the princess was lying on the bed. She slept so soundly and looked so wonderfully beautiful as she lay there. Yes, she was as sweet as sugar, I can tell you. The duke walked round about her, but she was just as beautiful from whatever point of view he looked at her. The more he looked the more he liked her. 'Lars, my lad!' 'What are master's orders?' 'You must now carry the princess home,' he said, 'for now I know how she looks and tomorrow I will ask for her hand,' he said. Next morning the king looked out of the window. 'I suppose I shall not be troubled with the sight of that palace anymore,' he thought. But, zounds! There it stood just as on the day before, and the sun shone so brightly on the roof, and the weathercocks dazzled his eyes. He now became furious, and called all his men. They came quicker than usual. The courtiers bowed and scraped, and the soldiers stood at attention and presented arms. 'Do you see the palace there?' screamed the king. They stretched their necks, and stared and gaped. Yes, of course, that they did. 'Have I not ordered you to pull down the palace and hang the builder?' he said. Yes, they could not deny that; but then the colonel himself stepped forward and reported what had happened and how many soldiers the duke had, and how wonderfully grand the palace was. And next he told him what the duke had said, and how he had asked him to give his greetings to the king, and all that sort of thing. The king felt quite confused, and had to put his crown on the table and scratch his head. He could not understand all this, although he was a king; for he could take his oath it had all been built in a single night; and if the duke were not the evil one himself, he must in any case have done it by magic. While he sat pondering, the princess came into the room. 'Good morning to you, father!' she said. 'Just fancy, I had such a strange and beautiful dream last night!' she said. 'What did you dream then, my girl?' said the king. 'I dreamed I was in the new palace over yonder, and that I saw a duke there, so fine and handsome that I could never have imagined the like; and now I want to get married, father,' she said. 'Do you want to get married? -- you, who never cared to look at a man! That's very strange!' said the king. 'That may be.' Said the princess; 'but it's different now, and I want to get married, and it's the duke I want,' she said. The king was quite beside himself, so frightened did he become of the duke. But all of a sudden he heard a terrible noise of drums and trumpets and instruments of all kinds; and then came a message that the duke had just arrived with a large company, all of whom were so grandly dressed that gold and silver glistened in every fold. The king put on his crown and his coronation robes, and then went out on the steps to receive them. And the princess was not slow to follow him. The duke bowed most graciously, and the king of course did likewise, and when they had talked awhile about their affairs and their grandeur they became the best of friends. A great banquet was then prepared, and the duke was placed next to the princess at the table. What they talked about is not easy to tell, but the duke spoke so well for himself that the princess could not very well say 'No' to anything he said, and then he went up to the king and asked for her hand. The king could not exactly say 'No' either, for he could very well see that the duke was a person with whom it was best to be on friendly terms; but give his sanction there and then, he could not very well do that either. He wanted to see the duke's palace first, and find out about the state of affairs over there, as you may understand. So it was arranged that he should visit the duke and take the princess with him to see his palace; and with this they parted company. When the duke returned home, Lars became busier than ever, for there was so much to attend to. But he set to work and strove hard; and when the king and his daughter arrived everything was so magnificent and splendid that no words can describe it. They went through all the rooms and looked about, and they found everything as it should be, and even still more splendid, thought the king, and so he was quite pleased. The wedding then took place, and that in grand style; and on the duke's arrival home with his bride he, too, gave a great feast, and then there was an end to the festivities. Some time passed by, and one evening the duke heard these words: 'Are you satisfied now?' It was Lars, as you may guess, but the duke could not see him. 'Well, I ought to be,' said the duke. 'You have provided me with everything I have,' he said. 'Yes, but what have I got in return?' asked Lars. 'Nothing,' said the duke; 'but, bless me, what could I have given you, who are not of flesh and blood, and whom I cannot see either?' he said. 'But if there is anything I can do for you, tell me what it is, and I shall do it.' 'Well, I should like to ask you for that little scrap of paper which you found in the chest,' said Lars. 'Nothing else?' said the duke. 'If such a trifle can help you, I can easily do without it, for now I begin to know the words by heart,' he said. Lars thanked the duke, and asked him to put the paper on the chair in front of the bed when he retired to rest, and he would be sure to fetch it during the night. The duke did as he was told; and so he and the princess lay down and went to sleep. But early in the morning the duke awoke and felt so cold that his teeth chattered, and when he had got his eyes quite open he found that he was quite naked and had not even as much as a thread on his back; and instead of the grand bed and the beautiful bedroom, and the magnificent palace, he lay on the big chest in the old tumble-down hut. He began to shout, 'Lars, my lad!' But he got no answer. He shouted once more, 'Lars, my lad!' But he got no answer this time either. So he shouted all he could, 'Lars, my lad!' But it was all in vain. Now he began to understand how matters stood. When Lars had got the scrap of paper he was freed from service at the same time, and now he had taken everything with him. But there was no help for it. There stood the duke in the old hut quite naked; and as for the princess she was not much better off, although she had her clothes on, for she had got them from her father, so Lars had no power over them. The duke had now to tell the princess everything, and ask her to leave him. He would have to manage as best he could, he said. But she would not hear of it. She well remembered what the parson had said when he married them, and she would never, never leave him, she said. In the meantime the king in his palace had also awakened, and when he looked out of the window he did not see any sign whatever of the other palace where his daughter and son-in-law lived. He became uneasy, as you may imagine, and called his courtiers. They came in, and began to bow and scrape. 'Do you see the palace over yonder behind the forest?' he asked. They stretched their necks and stared with all their might. No, they did not see it. 'Where had it gone to, then?' asked the king. Well, really they did not know. It was not long before the king set out with all his court through the forest; and when he arrived at the place where the palace with the beautiful gardens should have been, he could not see anything but heather and juniper bushes and firs. But then he discovered the old tumble-down hut, which stood there among the bushes. He entered the hut and -- mercy on us! -- what a sight met his eyes! There stood his son-in-law, quite naked, and his daughter, who had not very many clothes on either, and who was crying and moaning. 'Dear, dear! what does all this mean?' said the king; but he did not get any answer, for the duke would rather have died than tell him. The king did his utmost to get him to speak; but in spite of all the king's promises and threats the duke remained obstinate and would not utter a word. The king then became angry; and no wonder, for now he could see that this grand duke was not what he pretended to be, and so he ordered the duke to be hanged, and that without any loss of time. The princess begged and prayed for mercy; but neither prayers nor tears were of any help now; for an impostor he was, and as an impostor he should die, said the king. And so it had to be. They erected a gallows, and placed the rope round the duke's neck. But while they were getting the gallows ready, the princess got hold of the hangman, and gave both him and his assistant some money, that they should so manage the hanging of the duke that he should not lose his life, and in the night they were to cut him down, so that he and the princess might then flee the country. And that's how the matter was arranged. In the meantime they had strung up the duke, and the king and his court and all the people went their way. The duke was now in great straits. He had, however, plenty of time to reflect how foolish he had been in not saving some of the crumbs when he was living in plenty, and how unpardonably stupid he had been in letting Lars have the scrap of paper. This vexed him more than all. If only he had it again, he thought, they should see he had been gaining some sense in return for all he had lost. But it is of little use snarling if you haven't got any teeth. 'Ah, well, well!' he sighed, and so he dangled his legs, which was really all he could do. The day passed slowly and tediously for him, and he was not at all displeased when he saw the sun setting behind the forest. But just before it disappeared he heard a fearful shouting, and when he looked down the hill, he saw seven cartloads of worn-out shoes, and on the top of the hindmost cart he saw a little old man in gray clothes and with a red pointed cap on his head. His face was like that of the worst scarecrow, and the rest of him was not very handsome either. He drove straight up to the gallows, and when he arrived right under it he stopped and looked up at the duke, and then burst out laughing, the ugly old fellow! 'How stupid you were!' he said; 'but what should the fool do with his stupidity if he did not make use of it?' And then he laughed again. 'Yes, there you are hanging now, and here am I carting away all the shoes I have worn out for your whims. I wonder if you can read what is written on this bit of paper, and if you recognize it?' he said with an ugly laugh, holding up the paper before the duke's eyes. But all who hang are not dead, and this time it was Lars who was befooled. The duke made a clutch, and snatched the paper from him. 'Lars, my lad!' 'What are master's orders?' 'Well, you must cut me down from the gallows and put the palace and all the rest in its place again, exactly as it was before, and when the night has set in you must bring back the princess.' All went merrily as in a dance, and before long everything was in its place, just as it was when Lars took himself off. When the king awoke the next morning he looked out of the window, as was his custom, and there stood the palace again, with the weathercocks glittering so beautifully in the sunshine. He called his courtiers, and they came and began to bow and scrape. They stretched their necks as far as they could, and stared and gaped. 'Do you see the palace over there?' said the king. Yes, of course, they did. The king then sent for the princess, but she was not to be found. He then went out to see if his son-in-law was still hanging on the gallows, but neither son-in-law nor gallows was to be seen. He had to lift off his crown and scratch his head. But that did not improve matters; he could not make head or tail of either one thing or the other. He set off at once with all his court through the forest, and when he came to the place where the palace should stand, there it stood sure enough. The gardens and the roses were exactly as they used to be, and the duke's people were to be seen everywhere among the trees. His son-in-law and his daughter received him on the steps, dressed in their finest clothes. 'Well, I never saw the like of this,' said the king to himself; he could scarcely believe his own eyes, so wonderful did it all seem to him. 'God's peace be with you, father, and welcome here!' said the duke. The king stood staring at him. 'Are you my son-in-law?' he asked. 'Well, I suppose I am,' said the duke. 'Who else should I be?' 'Did I not order you to be hanged yesterday like any common thief?' said the king. 'I think you must have been bewitched on the way,' said the duke, with a laugh. 'Do you think I am the man to let myself be hanged? Or is there anyone here who dares to believe it?' he said, and looked so fiercely at the courtiers that they felt as if they were being pierced through and through. They bowed and scraped and cringed before him. Who could believe such a thing? Was it at all likely? 'Well, if there is anyone who dares to say the king could have wished me such evil, let him speak out,' said the duke, and fixed his eyes upon them still more fiercely than before. They went on bowing and scraping and cringing. How could anyone dare say such a thing? No, they had more sense than that, they should hope. The king did not know what to believe, for when he looked at the duke he thought he never could have wished him such evil; but still he was not quite convinced. 'Did I not come here yesterday, and was not the whole palace gone, and was there not an old hut in its place? And did not I go into that hut, and did not you stand stark naked right before my eyes?' he asked. 'I wonder the king can talk so,' said the duke. 'I think the trolls must have bewitched your eyes in the forest and made you quite crazy; or what do you think?' he said, and turned round to the courtiers. They bowed and bowed till their backs were bent double, and agreed with everything he said, there could be no mistake about that. The king rubbed his eyes, and looked round about him. 'I suppose it is as you say, then,' he said to the duke, 'and it is well I have got back my proper sight and have come to my senses again. For it would have been a sin and a shame if I had let you be hanged,' he said; and so he was happy again, and nobody thought any more about the matter. 'Once bitten, twice shy,' as the proverb says; and the duke now took upon himself to manage and look after most of his affairs, so that it was seldom Lars had to wear out his shoes. The king soon gave the duke half the kingdom into the bargain; so he had now plenty to do, and people said they would have to search a long time to find his equal in wise and just ruling. Then one day Lars came to the duke, looking very little better than the first time he had seen him; but he was, of course, more humble, and did not dare giggle and make grimaces. 'You do not want my help any longer, now,' he said; 'for although I did wear out my shoes at first, I am now unable to wear out a single pair, and my feet will soon be covered all over with moss. So I thought I might now get my leave of absence,' he said. The duke quite agreed with him. 'I have tried to spare you, and I almost think I could do without you,' he said. 'But the palace and all the rest I do not want to lose, for such a clever builder as you I shall never get again; nor do I ever want to adorn the gallows again, as you can well understand; so I cannot give you back the paper on any account,' he said. 'Well, as long as you have got it, I need not fear,' said Lars; 'but if anybody else should get hold of it there will be nothing but running and trudging about again, and that's what I want to avoid; for when one has been tramping about for a thousand years, as I have done, one begins to get tired of it,' he said. But they went on talking, and at last they agreed that the duke should put the paper in the box, and then bury it seven ells under the ground, under a stone fixed in the earth. They then gave mutual thanks for the time they had spent in each other's company, and so they parted. The duke carried out his part of the agreement, for he was not likely to want to change it. He lived happy and contented with the princess, and they had both sons and daughters. When the king died, he got the whole of the kingdom, and you may guess he was none the worse off for that; and there no doubt he still lives and reigns, if he is not dead. But as for the box with the scrap of paper in it, there are many who are still running about looking for it.      \n",
            "\n",
            "Vectorized version:\n"
          ]
        },
        {
          "output_type": "execute_result",
          "data": {
            "text/plain": [
              "<tf.Tensor: shape=(1, 820), dtype=int64, numpy=\n",
              "array([[  26,  765,   33,  231,    6,   50,    4,    5,  134,  273,    6,\n",
              "          74,   27,  148,   73,    6,  147,  173,    5,  883,   19,    2,\n",
              "         157,   23,    6,   41,   24,  409,    3, 4416,  226,    6,  610,\n",
              "         445,    7,   64,   81, 2470, 1035,   60,  250,   11,    2,  711,\n",
              "           7,   84, 1813,   16,   10,   27,  649,  104,  326,   19,  117,\n",
              "           5,  251, 5330,   23,   30,   14,  431,  128,   47,   14,  175,\n",
              "          14,   99,   98,   47,   14,  102,  128,    3,  444,   40,   10,\n",
              "          59,  362,   19,   16,    6,   41,   48,    2, 1035,   27,    5,\n",
              "         859,  957,   10,    4,   42,  259,   40,   10,   27,  256,    5,\n",
              "        1457,    4,  434,  110,   23, 2815,    2,  566,  250,    5,  274,\n",
              "         653,   47,   62,   40,   42,  426,   13,  653,   53,  126,   40,\n",
              "          46,   84, 3979,    7, 4696,  450,   11,   16,   95, 1222,   18,\n",
              "          55, 2226,   19,   14,   99,  148,    6,   21,   27,   21,    5,\n",
              "         707,  545,    7,  318,    2,  310,   75,    3,    6,   10,   26,\n",
              "         541,    3,   12, 2903,   26, 1250,   13,   16, 4938,   20, 1089,\n",
              "           6, 1303,    2, 7562,   23,  426,    2,  653,   40,   10,  193,\n",
              "         653,    3,  426,   13,  653,   40,   10,  193,    3,   26,   16,\n",
              "          41,   24,  239,   33, 4361,  114,    2,  141,  181,   18,  248,\n",
              "         278, 1354, 9216,    2,  108,   40,   46,    2, 3750,    6, 1991,\n",
              "          78,   19,   40,   99,   42,  389,   80,  251,  426,    6,  146,\n",
              "         444,   16,   10,   26,   76, 1160,   29,  161,    6,   50,    4,\n",
              "           5, 1354,   51,  564,    3,   11,   34,  564,  287,    5,  545,\n",
              "           7,  924,    3,   13,   10,   28,    6,  109,   19,   12,  955,\n",
              "          16,   10,   80, 9491,    7,  543,   23,   32,    6,  987,   40,\n",
              "          10,  389, 2455,   24,    2,  924,    3,   30,    6,  186,   29,\n",
              "          16,    6,   10,  145,  341,    4, 2237,   16,   38,  612,   29,\n",
              "         170,   16,  186, 1203, 1792,  733,   36,  459,   25,    6, 3554,\n",
              "         190,  342,  389,  210,  238,   11,   12, 1112,   47,   57, 1155,\n",
              "         730,    6,  186,  393,   23,    6,   77,  925,   34,   10,   80,\n",
              "        3793,    6,  146,    3,   26,    6, 1584,   38,    2,  342,  123,\n",
              "         108,  733,   36,  459,    3,    2,  379,   50,   25,   83,   47,\n",
              "          57, 1155,  730,   23,    6,   74,   27,   69, 1267,   34,   63,\n",
              "         772,   53,   40,   31, 1267,   85,   43, 2656,   47,   15,  203,\n",
              "          32,   42,  663,  326,    4,  199,   39,  389,    4,  200,    6,\n",
              "          17,    3,    2,  165,  496,   40,  250,    5,  312,  540,   38,\n",
              "          20,   28,    2,  386,  311,   33,   62,  272,    7,    6,  177,\n",
              "           4,  276,    4,  200,    3,  429,    3,   21,    5, 2061, 1410,\n",
              "           6,   21,  144, 2143,  127,   26,  130,   11,   28,   12,  254,\n",
              "           6,  146,   30,    6,   21,  740,   28,    6,   62,  128,   67,\n",
              "           6,  121,    4, 1321, 4365,    3,   26,    6,   89,   38,    2,\n",
              "         924,   87,  733,   36,  459,   47,   57, 1155,  730,   76,   14,\n",
              "          44,  400,   39,  318,    3,  429,    3,   61,   14,   99,  128,\n",
              "          39,    5,  201,    4,  334,   11,   25,   76,   23,   15,  175,\n",
              "           5,  756,  251,  201,    6,   17,   19,   14,   99,  148,    6,\n",
              "          10,    5,   51,  108, 2427,   61,   13,   12, 1496,   10,  778,\n",
              "          76,   40,   16,  250,    5,  201,   26,  251,    3, 3904,   13,\n",
              "         256,    2,   66,  127,  208, 8815,   16,   61,   34,   10,   28,\n",
              "          80,   76,   11,  132,  135,   23,   30,  123,   14,   57,   76,\n",
              "          91,   14,  327,   19,  219,  108,    3,    6,   21,   59,  818,\n",
              "         109,   48,  201,  114,    6,  121,    4,  272,   13,    2,  221,\n",
              "          10, 2197,  143, 1192,   19,  117,    5,  791,  201,   26,    6,\n",
              "          89,   38,    2,  924,   87,  733,   36,  459,   47,   57, 1155,\n",
              "         730,  444,   14,   57,  341,    4,  128,   39,  117,  318,    3,\n",
              "         117,    5,  201,  156,   11,    2, 2312,    7,    2,  774,  273,\n",
              "          15, 1843,   14,  102, 1756,    4,  128,   39,    5,  284,  221,\n",
              "          19,   14,   69,   15,  116, 1681,    4,  334,   11,    5,  233,\n",
              "          20,  317, 7377,    3, 8518, 1274,    3, 1891,    3, 8943,    7,\n",
              "          28, 1612,    6,   17,   76,    6,   21,   59,  818, 1570,    2,\n",
              "         342,  114,    6,  133,  127,  447,   11,    2, 3120,  800, 1267,\n",
              "          21,  290,  259,   61,    6,   10, 2162,    6,  146,    3,  527,\n",
              "         278,  783,   25,    6,  282,   12,  289,    4,    2,  566,    3,\n",
              "         906,   12,  171,   23,   13,   10,   27,   28,    2, 3775,   19,\n",
              "          30,    6, 1684,   45,   11,    2,  163,    3,  186,  393,    6,\n",
              "          77,   16,   10,    5,  274,  233,    6,   21,  107, 1287,   11,\n",
              "          33,  221,  394,   48,    2,  141,    3, 1449,    6,   41,    2,\n",
              "         138,   10,  294,    7,   28, 1573,    7, 3159,    3, 7493,  298,\n",
              "          24,    2, 1274,    3,   24,    2, 9067,    3,   18, 4955,   26,\n",
              "         130,   30,    2,  415, 1365,   24,   37,   13,    6,   21,    4,\n",
              "        2252,   12,  171,   20,   12,  220,   26,  578,   10,    2, 8078,\n",
              "           7,  172,    3,  343, 1449,    6,  282,    6,   32,  237,    4,\n",
              "         205,   38,    7,    2,  338,  104, 1629,   95,  791,   16,   10,\n",
              "          40,   10,  389,  364,  114, 3000, 3808,    3, 4804, 1813,    4,\n",
              "         205,   29,   19,   40,   10,    2, 1172,  307,  517,   62,  327,\n",
              "          19,   20,  817,  813,    3, 1582,    7,   28, 1612,   23,    6,\n",
              "          62,   27,   69,    5,  707,  665]])>"
            ]
          },
          "metadata": {},
          "execution_count": 23
        }
      ]
    },
    {
      "cell_type": "code",
      "source": [
        "tf.random.set_seed(42)\n",
        "from tensorflow.keras import layers\n",
        "\n",
        "embedding = layers.Embedding(input_dim=max_vocab_length, # set input shape\n",
        "                             output_dim=256, # set size of embedding vector\n",
        "                             embeddings_initializer=\"uniform\", # default, intialize randomly\n",
        "                             input_length=max_length, # how long is each input\n",
        "                             name=\"embedding_1\")\n",
        "\n",
        "embedding\n",
        "\n",
        "#creates a map of how similar each word is to the others"
      ],
      "metadata": {
        "colab": {
          "base_uri": "https://localhost:8080/"
        },
        "id": "PtsbCN-w31qP",
        "outputId": "8d1aa3f5-3796-4a8d-f501-976c1a032f00"
      },
      "execution_count": null,
      "outputs": [
        {
          "output_type": "execute_result",
          "data": {
            "text/plain": [
              "<keras.layers.core.embedding.Embedding at 0x7b9bfbf96080>"
            ]
          },
          "metadata": {},
          "execution_count": 24
        }
      ]
    },
    {
      "cell_type": "code",
      "source": [
        "#BASELINE MODEL\n",
        "\n",
        "from sklearn.feature_extraction.text import TfidfVectorizer\n",
        "from sklearn.naive_bayes import MultinomialNB\n",
        "from sklearn.pipeline import Pipeline\n",
        "\n",
        "# Create tokenization and modelling pipeline\n",
        "model_0 = Pipeline([\n",
        "                    (\"tfidf\", TfidfVectorizer()), # convert words to numbers using tfidf\n",
        "                    (\"clf\", MultinomialNB()) # model the text\n",
        "])\n",
        "\n",
        "# Fit the pipeline to the training data\n",
        "model_0.fit(train_sentences, train_labels)"
      ],
      "metadata": {
        "colab": {
          "base_uri": "https://localhost:8080/",
          "height": 125
        },
        "id": "zTCEsPQo5AIJ",
        "outputId": "f7fbf78f-6a5a-487b-cf6b-e1f3292c6a14"
      },
      "execution_count": null,
      "outputs": [
        {
          "output_type": "execute_result",
          "data": {
            "text/plain": [
              "Pipeline(steps=[('tfidf', TfidfVectorizer()), ('clf', MultinomialNB())])"
            ],
            "text/html": [
              "<style>#sk-container-id-1 {color: black;background-color: white;}#sk-container-id-1 pre{padding: 0;}#sk-container-id-1 div.sk-toggleable {background-color: white;}#sk-container-id-1 label.sk-toggleable__label {cursor: pointer;display: block;width: 100%;margin-bottom: 0;padding: 0.3em;box-sizing: border-box;text-align: center;}#sk-container-id-1 label.sk-toggleable__label-arrow:before {content: \"▸\";float: left;margin-right: 0.25em;color: #696969;}#sk-container-id-1 label.sk-toggleable__label-arrow:hover:before {color: black;}#sk-container-id-1 div.sk-estimator:hover label.sk-toggleable__label-arrow:before {color: black;}#sk-container-id-1 div.sk-toggleable__content {max-height: 0;max-width: 0;overflow: hidden;text-align: left;background-color: #f0f8ff;}#sk-container-id-1 div.sk-toggleable__content pre {margin: 0.2em;color: black;border-radius: 0.25em;background-color: #f0f8ff;}#sk-container-id-1 input.sk-toggleable__control:checked~div.sk-toggleable__content {max-height: 200px;max-width: 100%;overflow: auto;}#sk-container-id-1 input.sk-toggleable__control:checked~label.sk-toggleable__label-arrow:before {content: \"▾\";}#sk-container-id-1 div.sk-estimator input.sk-toggleable__control:checked~label.sk-toggleable__label {background-color: #d4ebff;}#sk-container-id-1 div.sk-label input.sk-toggleable__control:checked~label.sk-toggleable__label {background-color: #d4ebff;}#sk-container-id-1 input.sk-hidden--visually {border: 0;clip: rect(1px 1px 1px 1px);clip: rect(1px, 1px, 1px, 1px);height: 1px;margin: -1px;overflow: hidden;padding: 0;position: absolute;width: 1px;}#sk-container-id-1 div.sk-estimator {font-family: monospace;background-color: #f0f8ff;border: 1px dotted black;border-radius: 0.25em;box-sizing: border-box;margin-bottom: 0.5em;}#sk-container-id-1 div.sk-estimator:hover {background-color: #d4ebff;}#sk-container-id-1 div.sk-parallel-item::after {content: \"\";width: 100%;border-bottom: 1px solid gray;flex-grow: 1;}#sk-container-id-1 div.sk-label:hover label.sk-toggleable__label {background-color: #d4ebff;}#sk-container-id-1 div.sk-serial::before {content: \"\";position: absolute;border-left: 1px solid gray;box-sizing: border-box;top: 0;bottom: 0;left: 50%;z-index: 0;}#sk-container-id-1 div.sk-serial {display: flex;flex-direction: column;align-items: center;background-color: white;padding-right: 0.2em;padding-left: 0.2em;position: relative;}#sk-container-id-1 div.sk-item {position: relative;z-index: 1;}#sk-container-id-1 div.sk-parallel {display: flex;align-items: stretch;justify-content: center;background-color: white;position: relative;}#sk-container-id-1 div.sk-item::before, #sk-container-id-1 div.sk-parallel-item::before {content: \"\";position: absolute;border-left: 1px solid gray;box-sizing: border-box;top: 0;bottom: 0;left: 50%;z-index: -1;}#sk-container-id-1 div.sk-parallel-item {display: flex;flex-direction: column;z-index: 1;position: relative;background-color: white;}#sk-container-id-1 div.sk-parallel-item:first-child::after {align-self: flex-end;width: 50%;}#sk-container-id-1 div.sk-parallel-item:last-child::after {align-self: flex-start;width: 50%;}#sk-container-id-1 div.sk-parallel-item:only-child::after {width: 0;}#sk-container-id-1 div.sk-dashed-wrapped {border: 1px dashed gray;margin: 0 0.4em 0.5em 0.4em;box-sizing: border-box;padding-bottom: 0.4em;background-color: white;}#sk-container-id-1 div.sk-label label {font-family: monospace;font-weight: bold;display: inline-block;line-height: 1.2em;}#sk-container-id-1 div.sk-label-container {text-align: center;}#sk-container-id-1 div.sk-container {/* jupyter's `normalize.less` sets `[hidden] { display: none; }` but bootstrap.min.css set `[hidden] { display: none !important; }` so we also need the `!important` here to be able to override the default hidden behavior on the sphinx rendered scikit-learn.org. See: https://github.com/scikit-learn/scikit-learn/issues/21755 */display: inline-block !important;position: relative;}#sk-container-id-1 div.sk-text-repr-fallback {display: none;}</style><div id=\"sk-container-id-1\" class=\"sk-top-container\"><div class=\"sk-text-repr-fallback\"><pre>Pipeline(steps=[(&#x27;tfidf&#x27;, TfidfVectorizer()), (&#x27;clf&#x27;, MultinomialNB())])</pre><b>In a Jupyter environment, please rerun this cell to show the HTML representation or trust the notebook. <br />On GitHub, the HTML representation is unable to render, please try loading this page with nbviewer.org.</b></div><div class=\"sk-container\" hidden><div class=\"sk-item sk-dashed-wrapped\"><div class=\"sk-label-container\"><div class=\"sk-label sk-toggleable\"><input class=\"sk-toggleable__control sk-hidden--visually\" id=\"sk-estimator-id-1\" type=\"checkbox\" ><label for=\"sk-estimator-id-1\" class=\"sk-toggleable__label sk-toggleable__label-arrow\">Pipeline</label><div class=\"sk-toggleable__content\"><pre>Pipeline(steps=[(&#x27;tfidf&#x27;, TfidfVectorizer()), (&#x27;clf&#x27;, MultinomialNB())])</pre></div></div></div><div class=\"sk-serial\"><div class=\"sk-item\"><div class=\"sk-estimator sk-toggleable\"><input class=\"sk-toggleable__control sk-hidden--visually\" id=\"sk-estimator-id-2\" type=\"checkbox\" ><label for=\"sk-estimator-id-2\" class=\"sk-toggleable__label sk-toggleable__label-arrow\">TfidfVectorizer</label><div class=\"sk-toggleable__content\"><pre>TfidfVectorizer()</pre></div></div></div><div class=\"sk-item\"><div class=\"sk-estimator sk-toggleable\"><input class=\"sk-toggleable__control sk-hidden--visually\" id=\"sk-estimator-id-3\" type=\"checkbox\" ><label for=\"sk-estimator-id-3\" class=\"sk-toggleable__label sk-toggleable__label-arrow\">MultinomialNB</label><div class=\"sk-toggleable__content\"><pre>MultinomialNB()</pre></div></div></div></div></div></div></div>"
            ]
          },
          "metadata": {},
          "execution_count": 25
        }
      ]
    },
    {
      "cell_type": "code",
      "source": [
        "baseline_score = model_0.score(val_sentences, val_labels)\n",
        "print(f\"Our baseline model achieves an accuracy of: {baseline_score*100:.2f}%\")"
      ],
      "metadata": {
        "colab": {
          "base_uri": "https://localhost:8080/"
        },
        "id": "qqC-UmAi5lNS",
        "outputId": "4924c418-c781-4dc8-a440-4aa3865098ca"
      },
      "execution_count": null,
      "outputs": [
        {
          "output_type": "stream",
          "name": "stdout",
          "text": [
            "Our baseline model achieves an accuracy of: 15.00%\n"
          ]
        }
      ]
    },
    {
      "cell_type": "code",
      "source": [
        "# Make predictions\n",
        "baseline_preds = model_0.predict(val_sentences)\n",
        "baseline_preds[:20]"
      ],
      "metadata": {
        "colab": {
          "base_uri": "https://localhost:8080/"
        },
        "id": "MAVMopdT6STT",
        "outputId": "f93ab4c8-2d34-44e8-a3fc-dcd7f9e33db4"
      },
      "execution_count": null,
      "outputs": [
        {
          "output_type": "execute_result",
          "data": {
            "text/plain": [
              "array([24, 27, 27, 27, 27, 24, 27, 27, 24,  4, 27, 27, 24, 27, 27, 27, 24,\n",
              "       27, 27, 27])"
            ]
          },
          "metadata": {},
          "execution_count": 27
        }
      ]
    },
    {
      "cell_type": "code",
      "source": [
        "# Function to evaluate: accuracy, precision, recall, f1-score\n",
        "from sklearn.metrics import accuracy_score, precision_recall_fscore_support\n",
        "\n",
        "def calculate_results(y_true, y_pred):\n",
        "  \"\"\"\n",
        "  Calculates model accuracy, precision, recall and f1 score of a binary classification model.\n",
        "\n",
        "  Args:\n",
        "  -----\n",
        "  y_true = true labels in the form of a 1D array\n",
        "  y_pred = predicted labels in the form of a 1D array\n",
        "\n",
        "  Returns a dictionary of accuracy, precision, recall, f1-score.\n",
        "  \"\"\"\n",
        "  # Calculate model accuracy\n",
        "  model_accuracy = accuracy_score(y_true, y_pred) * 100\n",
        "  # Calculate model precision, recall and f1 score using \"weighted\" average\n",
        "  model_precision, model_recall, model_f1, _ = precision_recall_fscore_support(y_true, y_pred, average=\"weighted\")\n",
        "  model_results = {\"accuracy\": model_accuracy,\n",
        "                  \"precision\": model_precision,\n",
        "                  \"recall\": model_recall,\n",
        "                  \"f1\": model_f1}\n",
        "  return model_results"
      ],
      "metadata": {
        "id": "w8z7RePF5xT6"
      },
      "execution_count": null,
      "outputs": []
    },
    {
      "cell_type": "code",
      "source": [
        "# Get baseline results\n",
        "baseline_results = calculate_results(y_true=val_labels,\n",
        "                                     y_pred=baseline_preds)\n",
        "baseline_results"
      ],
      "metadata": {
        "colab": {
          "base_uri": "https://localhost:8080/"
        },
        "id": "WZe33FwM6F-G",
        "outputId": "bfa0737f-8746-46d5-d08d-f5872d4536bd"
      },
      "execution_count": null,
      "outputs": [
        {
          "output_type": "stream",
          "name": "stderr",
          "text": [
            "/usr/local/lib/python3.10/dist-packages/sklearn/metrics/_classification.py:1344: UndefinedMetricWarning: Precision and F-score are ill-defined and being set to 0.0 in labels with no predicted samples. Use `zero_division` parameter to control this behavior.\n",
            "  _warn_prf(average, modifier, msg_start, len(result))\n"
          ]
        },
        {
          "output_type": "execute_result",
          "data": {
            "text/plain": [
              "{'accuracy': 15.0,\n",
              " 'precision': 0.06428571428571428,\n",
              " 'recall': 0.15,\n",
              " 'f1': 0.075}"
            ]
          },
          "metadata": {},
          "execution_count": 29
        }
      ]
    },
    {
      "cell_type": "code",
      "source": [
        "#SIMPLE DENSE MODEL\n",
        "# Create tensorboard callback (need to create a new one for each model)\n",
        "from helper_functions import create_tensorboard_callback\n",
        "\n",
        "# Create directory to save TensorBoard logs\n",
        "SAVE_DIR = \"model_logs\"\n"
      ],
      "metadata": {
        "id": "6GXf_8i56L9g"
      },
      "execution_count": null,
      "outputs": []
    },
    {
      "cell_type": "code",
      "source": [
        "# Build model with the Functional API\n",
        "from tensorflow.keras import layers\n",
        "inputs = layers.Input(shape=(1,), dtype=\"string\") # inputs are 1-dimensional strings\n",
        "x = text_vectorizer(inputs) # turn the input text into numbers\n",
        "x = embedding(x) # create an embedding of the numerized numbers\n",
        "x = layers.GlobalAveragePooling1D()(x) # lower the dimensionality of the embedding (try running the model without this layer and see what happens)\n",
        "outputs = layers.Dense(34, activation=\"softmax\")(x) # create the output layer, want binary outputs so use sigmoid activation\n",
        "model_1 = tf.keras.Model(inputs, outputs, name=\"model_1_dense\") # construct the model\n",
        "model_1.add(layers.Dense(len(lb.classes_), activation = 'softmax'))"
      ],
      "metadata": {
        "colab": {
          "base_uri": "https://localhost:8080/",
          "height": 224
        },
        "id": "0AgP0RGJ8GRh",
        "outputId": "ad4f1cbd-212b-447d-a1e4-e06d66b5c4fe"
      },
      "execution_count": null,
      "outputs": [
        {
          "output_type": "error",
          "ename": "AttributeError",
          "evalue": "ignored",
          "traceback": [
            "\u001b[0;31m---------------------------------------------------------------------------\u001b[0m",
            "\u001b[0;31mAttributeError\u001b[0m                            Traceback (most recent call last)",
            "\u001b[0;32m<ipython-input-38-c7684cfa8179>\u001b[0m in \u001b[0;36m<cell line: 9>\u001b[0;34m()\u001b[0m\n\u001b[1;32m      7\u001b[0m \u001b[0moutputs\u001b[0m \u001b[0;34m=\u001b[0m \u001b[0mlayers\u001b[0m\u001b[0;34m.\u001b[0m\u001b[0mDense\u001b[0m\u001b[0;34m(\u001b[0m\u001b[0;36m34\u001b[0m\u001b[0;34m,\u001b[0m \u001b[0mactivation\u001b[0m\u001b[0;34m=\u001b[0m\u001b[0;34m\"softmax\"\u001b[0m\u001b[0;34m)\u001b[0m\u001b[0;34m(\u001b[0m\u001b[0mx\u001b[0m\u001b[0;34m)\u001b[0m \u001b[0;31m# create the output layer, want binary outputs so use sigmoid activation\u001b[0m\u001b[0;34m\u001b[0m\u001b[0;34m\u001b[0m\u001b[0m\n\u001b[1;32m      8\u001b[0m \u001b[0mmodel_1\u001b[0m \u001b[0;34m=\u001b[0m \u001b[0mtf\u001b[0m\u001b[0;34m.\u001b[0m\u001b[0mkeras\u001b[0m\u001b[0;34m.\u001b[0m\u001b[0mModel\u001b[0m\u001b[0;34m(\u001b[0m\u001b[0minputs\u001b[0m\u001b[0;34m,\u001b[0m \u001b[0moutputs\u001b[0m\u001b[0;34m,\u001b[0m \u001b[0mname\u001b[0m\u001b[0;34m=\u001b[0m\u001b[0;34m\"model_1_dense\"\u001b[0m\u001b[0;34m)\u001b[0m \u001b[0;31m# construct the model\u001b[0m\u001b[0;34m\u001b[0m\u001b[0;34m\u001b[0m\u001b[0m\n\u001b[0;32m----> 9\u001b[0;31m \u001b[0mmodel_1\u001b[0m\u001b[0;34m.\u001b[0m\u001b[0madd\u001b[0m\u001b[0;34m(\u001b[0m\u001b[0mlayers\u001b[0m\u001b[0;34m.\u001b[0m\u001b[0mDense\u001b[0m\u001b[0;34m(\u001b[0m\u001b[0mlen\u001b[0m\u001b[0;34m(\u001b[0m\u001b[0mlb\u001b[0m\u001b[0;34m.\u001b[0m\u001b[0mclasses_\u001b[0m\u001b[0;34m)\u001b[0m\u001b[0;34m,\u001b[0m \u001b[0mactivation\u001b[0m \u001b[0;34m=\u001b[0m \u001b[0;34m'softmax'\u001b[0m\u001b[0;34m)\u001b[0m\u001b[0;34m)\u001b[0m\u001b[0;34m\u001b[0m\u001b[0;34m\u001b[0m\u001b[0m\n\u001b[0m",
            "\u001b[0;31mAttributeError\u001b[0m: 'Functional' object has no attribute 'add'"
          ]
        }
      ]
    },
    {
      "cell_type": "code",
      "source": [
        "model_1.summary()"
      ],
      "metadata": {
        "colab": {
          "base_uri": "https://localhost:8080/"
        },
        "id": "wqJnNvlq8Nxq",
        "outputId": "612662a7-6628-4463-c827-fc1ede1d6ab5"
      },
      "execution_count": null,
      "outputs": [
        {
          "output_type": "stream",
          "name": "stdout",
          "text": [
            "Model: \"model_1_dense\"\n",
            "_________________________________________________________________\n",
            " Layer (type)                Output Shape              Param #   \n",
            "=================================================================\n",
            " input_1 (InputLayer)        [(None, 1)]               0         \n",
            "                                                                 \n",
            " text_vectorization_1 (TextV  (None, 820)              0         \n",
            " ectorization)                                                   \n",
            "                                                                 \n",
            " embedding_1 (Embedding)     (None, 820, 256)          2560000   \n",
            "                                                                 \n",
            " global_average_pooling1d (G  (None, 256)              0         \n",
            " lobalAveragePooling1D)                                          \n",
            "                                                                 \n",
            " dense (Dense)               (None, 34)                8738      \n",
            "                                                                 \n",
            "=================================================================\n",
            "Total params: 2,568,738\n",
            "Trainable params: 2,568,738\n",
            "Non-trainable params: 0\n",
            "_________________________________________________________________\n"
          ]
        }
      ]
    },
    {
      "cell_type": "code",
      "source": [
        "# Compile model\n",
        "model_1.compile(loss=\"categorical_crossentropy\",\n",
        "                optimizer=tf.keras.optimizers.Adam(),\n",
        "                metrics=[\"accuracy\"])"
      ],
      "metadata": {
        "id": "OTEoGzk-8VLX"
      },
      "execution_count": null,
      "outputs": []
    },
    {
      "cell_type": "code",
      "source": [
        "# Fit the model\n",
        "model_1_history = model_1.fit(train_sentences, # input sentences can be a list of strings due to text preprocessing layer built-in model\n",
        "                              train_labels_one_hot,\n",
        "                              epochs=5,\n",
        "                              validation_data=(val_sentences, val_labels_one_hot)),\n",
        "                               callbacks=[create_tensorboard_callback(dir_name=SAVE_DIR,\n",
        "                                                                      experiment_name=\"simple_dense_model\")])"
      ],
      "metadata": {
        "colab": {
          "base_uri": "https://localhost:8080/",
          "height": 882
        },
        "id": "mGQ4Lg8285kO",
        "outputId": "5fda79ca-f621-4a99-fabc-c3eca998c30d"
      },
      "execution_count": null,
      "outputs": [
        {
          "output_type": "stream",
          "name": "stdout",
          "text": [
            "Epoch 1/5\n",
            "6/6 [==============================] - ETA: 0s - loss: 3.5239 - accuracy: 0.0833"
          ]
        },
        {
          "output_type": "error",
          "ename": "ValueError",
          "evalue": "ignored",
          "traceback": [
            "\u001b[0;31m---------------------------------------------------------------------------\u001b[0m",
            "\u001b[0;31mValueError\u001b[0m                                Traceback (most recent call last)",
            "\u001b[0;32m<ipython-input-34-aea3c9ab9756>\u001b[0m in \u001b[0;36m<cell line: 2>\u001b[0;34m()\u001b[0m\n\u001b[1;32m      1\u001b[0m \u001b[0;31m# Fit the model\u001b[0m\u001b[0;34m\u001b[0m\u001b[0;34m\u001b[0m\u001b[0m\n\u001b[0;32m----> 2\u001b[0;31m model_1_history = model_1.fit(train_sentences, # input sentences can be a list of strings due to text preprocessing layer built-in model\n\u001b[0m\u001b[1;32m      3\u001b[0m                               \u001b[0mtrain_labels_one_hot\u001b[0m\u001b[0;34m,\u001b[0m\u001b[0;34m\u001b[0m\u001b[0;34m\u001b[0m\u001b[0m\n\u001b[1;32m      4\u001b[0m                               \u001b[0mepochs\u001b[0m\u001b[0;34m=\u001b[0m\u001b[0;36m5\u001b[0m\u001b[0;34m,\u001b[0m\u001b[0;34m\u001b[0m\u001b[0;34m\u001b[0m\u001b[0m\n\u001b[1;32m      5\u001b[0m                               validation_data=(val_sentences, val_labels_one_hot))#,\n",
            "\u001b[0;32m/usr/local/lib/python3.10/dist-packages/keras/utils/traceback_utils.py\u001b[0m in \u001b[0;36merror_handler\u001b[0;34m(*args, **kwargs)\u001b[0m\n\u001b[1;32m     68\u001b[0m             \u001b[0;31m# To get the full stack trace, call:\u001b[0m\u001b[0;34m\u001b[0m\u001b[0;34m\u001b[0m\u001b[0m\n\u001b[1;32m     69\u001b[0m             \u001b[0;31m# `tf.debugging.disable_traceback_filtering()`\u001b[0m\u001b[0;34m\u001b[0m\u001b[0;34m\u001b[0m\u001b[0m\n\u001b[0;32m---> 70\u001b[0;31m             \u001b[0;32mraise\u001b[0m \u001b[0me\u001b[0m\u001b[0;34m.\u001b[0m\u001b[0mwith_traceback\u001b[0m\u001b[0;34m(\u001b[0m\u001b[0mfiltered_tb\u001b[0m\u001b[0;34m)\u001b[0m \u001b[0;32mfrom\u001b[0m \u001b[0;32mNone\u001b[0m\u001b[0;34m\u001b[0m\u001b[0;34m\u001b[0m\u001b[0m\n\u001b[0m\u001b[1;32m     71\u001b[0m         \u001b[0;32mfinally\u001b[0m\u001b[0;34m:\u001b[0m\u001b[0;34m\u001b[0m\u001b[0;34m\u001b[0m\u001b[0m\n\u001b[1;32m     72\u001b[0m             \u001b[0;32mdel\u001b[0m \u001b[0mfiltered_tb\u001b[0m\u001b[0;34m\u001b[0m\u001b[0;34m\u001b[0m\u001b[0m\n",
            "\u001b[0;32m/usr/local/lib/python3.10/dist-packages/keras/engine/training.py\u001b[0m in \u001b[0;36mtf__test_function\u001b[0;34m(iterator)\u001b[0m\n\u001b[1;32m     13\u001b[0m                 \u001b[0;32mtry\u001b[0m\u001b[0;34m:\u001b[0m\u001b[0;34m\u001b[0m\u001b[0;34m\u001b[0m\u001b[0m\n\u001b[1;32m     14\u001b[0m                     \u001b[0mdo_return\u001b[0m \u001b[0;34m=\u001b[0m \u001b[0;32mTrue\u001b[0m\u001b[0;34m\u001b[0m\u001b[0;34m\u001b[0m\u001b[0m\n\u001b[0;32m---> 15\u001b[0;31m                     \u001b[0mretval_\u001b[0m \u001b[0;34m=\u001b[0m \u001b[0mag__\u001b[0m\u001b[0;34m.\u001b[0m\u001b[0mconverted_call\u001b[0m\u001b[0;34m(\u001b[0m\u001b[0mag__\u001b[0m\u001b[0;34m.\u001b[0m\u001b[0mld\u001b[0m\u001b[0;34m(\u001b[0m\u001b[0mstep_function\u001b[0m\u001b[0;34m)\u001b[0m\u001b[0;34m,\u001b[0m \u001b[0;34m(\u001b[0m\u001b[0mag__\u001b[0m\u001b[0;34m.\u001b[0m\u001b[0mld\u001b[0m\u001b[0;34m(\u001b[0m\u001b[0mself\u001b[0m\u001b[0;34m)\u001b[0m\u001b[0;34m,\u001b[0m \u001b[0mag__\u001b[0m\u001b[0;34m.\u001b[0m\u001b[0mld\u001b[0m\u001b[0;34m(\u001b[0m\u001b[0miterator\u001b[0m\u001b[0;34m)\u001b[0m\u001b[0;34m)\u001b[0m\u001b[0;34m,\u001b[0m \u001b[0;32mNone\u001b[0m\u001b[0;34m,\u001b[0m \u001b[0mfscope\u001b[0m\u001b[0;34m)\u001b[0m\u001b[0;34m\u001b[0m\u001b[0;34m\u001b[0m\u001b[0m\n\u001b[0m\u001b[1;32m     16\u001b[0m                 \u001b[0;32mexcept\u001b[0m\u001b[0;34m:\u001b[0m\u001b[0;34m\u001b[0m\u001b[0;34m\u001b[0m\u001b[0m\n\u001b[1;32m     17\u001b[0m                     \u001b[0mdo_return\u001b[0m \u001b[0;34m=\u001b[0m \u001b[0;32mFalse\u001b[0m\u001b[0;34m\u001b[0m\u001b[0;34m\u001b[0m\u001b[0m\n",
            "\u001b[0;31mValueError\u001b[0m: in user code:\n\n    File \"/usr/local/lib/python3.10/dist-packages/keras/engine/training.py\", line 1852, in test_function  *\n        return step_function(self, iterator)\n    File \"/usr/local/lib/python3.10/dist-packages/keras/engine/training.py\", line 1836, in step_function  **\n        outputs = model.distribute_strategy.run(run_step, args=(data,))\n    File \"/usr/local/lib/python3.10/dist-packages/keras/engine/training.py\", line 1824, in run_step  **\n        outputs = model.test_step(data)\n    File \"/usr/local/lib/python3.10/dist-packages/keras/engine/training.py\", line 1790, in test_step\n        self.compute_loss(x, y, y_pred, sample_weight)\n    File \"/usr/local/lib/python3.10/dist-packages/keras/engine/training.py\", line 1109, in compute_loss\n        return self.compiled_loss(\n    File \"/usr/local/lib/python3.10/dist-packages/keras/engine/compile_utils.py\", line 265, in __call__\n        loss_value = loss_obj(y_t, y_p, sample_weight=sw)\n    File \"/usr/local/lib/python3.10/dist-packages/keras/losses.py\", line 142, in __call__\n        losses = call_fn(y_true, y_pred)\n    File \"/usr/local/lib/python3.10/dist-packages/keras/losses.py\", line 268, in call  **\n        return ag_fn(y_true, y_pred, **self._fn_kwargs)\n    File \"/usr/local/lib/python3.10/dist-packages/keras/losses.py\", line 1984, in categorical_crossentropy\n        return backend.categorical_crossentropy(\n    File \"/usr/local/lib/python3.10/dist-packages/keras/backend.py\", line 5559, in categorical_crossentropy\n        target.shape.assert_is_compatible_with(output.shape)\n\n    ValueError: Shapes (None, 33) and (None, 34) are incompatible\n"
          ]
        }
      ]
    },
    {
      "cell_type": "code",
      "source": [],
      "metadata": {
        "id": "PwFSDwWSWImZ"
      },
      "execution_count": null,
      "outputs": []
    },
    {
      "cell_type": "code",
      "source": [],
      "metadata": {
        "id": "TdYcH-xHRz-T"
      },
      "execution_count": null,
      "outputs": []
    },
    {
      "cell_type": "code",
      "source": [
        "# Check the results\n",
        "model_1.evaluate(val_sentences, val_labels)"
      ],
      "metadata": {
        "id": "AYGn-CiN9Deh"
      },
      "execution_count": null,
      "outputs": []
    },
    {
      "cell_type": "code",
      "source": [
        "embedding.weights"
      ],
      "metadata": {
        "id": "SY7iDzGS9aWU"
      },
      "execution_count": null,
      "outputs": []
    },
    {
      "cell_type": "code",
      "source": [
        "embed_weights = model_1.get_layer(\"embedding_1\").get_weights()[0]\n",
        "print(embed_weights.shape)"
      ],
      "metadata": {
        "id": "OHCTeJ6Q9eBY"
      },
      "execution_count": null,
      "outputs": []
    },
    {
      "cell_type": "code",
      "source": [
        "#do the bit where you get the accuracy"
      ],
      "metadata": {
        "id": "__x8mqv29iqE"
      },
      "execution_count": null,
      "outputs": []
    },
    {
      "cell_type": "code",
      "source": [
        "# Set random seed and create embedding layer (new embedding layer for each model)\n",
        "tf.random.set_seed(42)\n",
        "from tensorflow.keras import layers\n",
        "model_2_embedding = layers.Embedding(input_dim=max_vocab_length,\n",
        "                                     output_dim=128,\n",
        "                                     embeddings_initializer=\"uniform\",\n",
        "                                     input_length=max_length,\n",
        "                                     name=\"embedding_2\")\n",
        "\n",
        "\n",
        "# Create LSTM model\n",
        "inputs = layers.Input(shape=(1,), dtype=\"string\")\n",
        "x = text_vectorizer(inputs)\n",
        "x = model_2_embedding(x)\n",
        "print(x.shape)\n",
        "# x = layers.LSTM(64, return_sequences=True)(x) # return vector for each word in the Tweet (you can stack RNN cells as long as return_sequences=True)\n",
        "x = layers.LSTM(64)(x) # return vector for whole sequence\n",
        "print(x.shape)\n",
        "# x = layers.Dense(64, activation=\"relu\")(x) # optional dense layer on top of output of LSTM cell\n",
        "outputs = layers.Dense(1, activation=\"softmax\")(x)\n",
        "model_2 = tf.keras.Model(inputs, outputs, name=\"model_2_LSTM\")"
      ],
      "metadata": {
        "id": "XdHUCIdK-Dk_"
      },
      "execution_count": null,
      "outputs": []
    },
    {
      "cell_type": "code",
      "source": [
        "# Compile model\n",
        "model_2.compile(loss=\"categorical_crossentropy\",\n",
        "                optimizer=tf.keras.optimizers.Adam(),\n",
        "                metrics=[\"accuracy\"])"
      ],
      "metadata": {
        "id": "JM2vEzrI-PV0"
      },
      "execution_count": null,
      "outputs": []
    },
    {
      "cell_type": "code",
      "source": [
        "model_2.summary()"
      ],
      "metadata": {
        "id": "_hD_Gjel-TrE"
      },
      "execution_count": null,
      "outputs": []
    },
    {
      "cell_type": "code",
      "source": [
        "# Fit model\n",
        "model_2_history = model_2.fit(train_sentences,\n",
        "                              train_labels,\n",
        "                              epochs=5,\n",
        "                              validation_data=(val_sentences, val_labels),\n",
        "                              callbacks=[create_tensorboard_callback(SAVE_DIR,\n",
        "                                                                     \"LSTM\")])"
      ],
      "metadata": {
        "id": "lykdhx9K-YxI"
      },
      "execution_count": null,
      "outputs": []
    },
    {
      "cell_type": "code",
      "source": [],
      "metadata": {
        "id": "OhpGRy-r-cEw"
      },
      "execution_count": null,
      "outputs": []
    }
  ]
}